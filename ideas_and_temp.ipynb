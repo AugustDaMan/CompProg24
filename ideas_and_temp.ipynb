{
 "cells": [
  {
   "cell_type": "markdown",
   "metadata": {},
   "source": [
    "## Nice sign multiline (for week with lists)"
   ]
  },
  {
   "cell_type": "markdown",
   "metadata": {},
   "source": [
    "Consider exercise 4.X from the week on string and iteration. The function `nice_sign()` does not correctly print strings which include the newline symbol `\"\\n\"`: "
   ]
  },
  {
   "cell_type": "code",
   "execution_count": null,
   "metadata": {},
   "outputs": [],
   "source": [
    "##SNIPPET\n",
    "def nice_sign(msg):\n",
    "    print(\"-\"*(len(msg)+4))\n",
    "    print(\"| \"+msg+\" |\")\n",
    "    print(\"-\"*(len(msg)+4))\n",
    "    \n",
    "def nice_sign_multiline(msg):\n",
    "    longest_line_len = 0\n",
    "    counter = 0\n",
    "    for s in msg:\n",
    "        if s==\"\\n\":\n",
    "            longest_line_len = max(counter,longest_line_len)\n",
    "            counter = 0\n",
    "        else:\n",
    "            counter += 1\n",
    "    print(\"-\"*(longest_line_len+4))\n",
    "    accumulated_string = \"\"\n",
    "    msg += \"\\n\"\n",
    "    for s in msg:\n",
    "        if s==\"\\n\":\n",
    "            num_spaces = longest_line_len-len(accumulated_string)\n",
    "            print(\"| \"+accumulated_string+num_spaces*\" \"+\" |\")\n",
    "            accumulated_string = \"\"\n",
    "        else:\n",
    "            accumulated_string += s\n",
    "    print(\"-\"*(longest_line_len+4))"
   ]
  },
  {
   "cell_type": "code",
   "execution_count": null,
   "metadata": {},
   "outputs": [],
   "source": [
    "##SNIPPET\n",
    "def nice_sign_multiline_with_lists(msg):\n",
    "    longest_line_len = ...#YOUR_CODE_HERE\n",
    "    print(\"-\"*(longest_line_len+4))\n",
    "    for s in msg.split(\"\\n\"):\n",
    "        num_spaces = ...#YOUR_CODE_HERE\n",
    "        print(\"| \"+s+num_spaces*\" \"+\" |\")\n",
    "    print(\"-\"*(longest_line_len+4))"
   ]
  },
  {
   "cell_type": "code",
   "execution_count": 4,
   "metadata": {},
   "outputs": [
    {
     "name": "stdout",
     "output_type": "stream",
     "text": [
      "---------\n",
      "| One   |\n",
      "| Two   |\n",
      "| Three |\n",
      "| Four  |\n",
      "---------\n"
     ]
    }
   ],
   "source": [
    "##SOLUTION\n",
    "def nice_sign_multiline_with_lists(msg):\n",
    "    longest_line_len = max([len(s) for s in msg.split(\"\\n\")])\n",
    "    print(\"-\"*(longest_line_len+4))\n",
    "    for s in msg.split(\"\\n\"):\n",
    "        num_spaces = longest_line_len-len(s)\n",
    "        print(\"| \"+s+num_spaces*\" \"+\" |\")\n",
    "    print(\"-\"*(longest_line_len+4))\n",
    "nice_sign_multiline_with_lists(\"One\\nTwo\\nThree\\nFour\")"
   ]
  },
  {
   "cell_type": "code",
   "execution_count": 1,
   "metadata": {},
   "outputs": [
    {
     "name": "stdout",
     "output_type": "stream",
     "text": [
      "----------------\n",
      "| Hello World! |\n",
      "----------------\n",
      "----------------------\n",
      "| One\n",
      "Two\n",
      "Three\n",
      "Four |\n",
      "----------------------\n",
      "---------\n",
      "| One   |\n",
      "| Two   |\n",
      "| Three |\n",
      "| Four  |\n",
      "---------\n"
     ]
    }
   ],
   "source": [
    "##REPL\n",
    "nice_sign(\"Hello World!\")\n",
    "nice_sign(\"One\\nTwo\\nThree\\nFour\")\n",
    "nice_sign_multiline(\"One\\nTwo\\nThree\\nFour\")"
   ]
  },
  {
   "cell_type": "markdown",
   "metadata": {},
   "source": [
    "## dialogue (from strings)"
   ]
  },
  {
   "cell_type": "markdown",
   "metadata": {},
   "source": [
    "Exercise 4.5: Getting the dialogue - D=8"
   ]
  },
  {
   "cell_type": "code",
   "execution_count": null,
   "metadata": {},
   "outputs": [],
   "source": [
    "\n",
    "dialogue = \"''My dear Mr. Bennet,'' said his lady to him one day, ''have you heard that Netherfield Park is let at last?''\"\n",
    "\n",
    "def print_the_dialogue(dialogue):\n",
    "    num_quotations = 0\n",
    "    acc_s = \"\"\n",
    "    for s in dialogue:\n",
    "        if s==\"'\":\n",
    "            num_quotations += 1\n",
    "        else:\n",
    "            if num_quotations==2:\n",
    "                acc_s += s\n",
    "        if num_quotations==4:\n",
    "            print(acc_s)\n",
    "            num_quotations = 0\n",
    "            acc_s = \"\"\n",
    "\n",
    "print_the_dialogue(dialogue)"
   ]
  },
  {
   "cell_type": "markdown",
   "metadata": {},
   "source": []
  }
 ],
 "metadata": {
  "kernelspec": {
   "display_name": "diff-env",
   "language": "python",
   "name": "python3"
  },
  "language_info": {
   "codemirror_mode": {
    "name": "ipython",
    "version": 3
   },
   "file_extension": ".py",
   "mimetype": "text/x-python",
   "name": "python",
   "nbconvert_exporter": "python",
   "pygments_lexer": "ipython3",
   "version": "3.8.undefined"
  }
 },
 "nbformat": 4,
 "nbformat_minor": 2
}
