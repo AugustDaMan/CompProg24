{
 "cells": [
  {
   "cell_type": "markdown",
   "metadata": {},
   "source": [
    "# FORMATTING PRACTICES FOR EXERCISES IN CP2024"
   ]
  },
  {
   "cell_type": "markdown",
   "metadata": {},
   "source": [
    "This document is to establish formatting practices to make automatic processing of exercises easy and fast with scripting."
   ]
  },
  {
   "cell_type": "markdown",
   "metadata": {},
   "source": [
    "# Exercise Notebooks"
   ]
  },
  {
   "cell_type": "markdown",
   "metadata": {},
   "source": [
    "## Markdown cells\n"
   ]
  },
  {
   "cell_type": "markdown",
   "metadata": {},
   "source": [
    "Markdown cells are assumed to allways be shown to students. To add comments (which are not visible) to a markdown cell, add:\n",
    "\n",
    "[comment]: <> (An actual comments which cant be seen unles editing)\n",
    "\n",
    "```[comment]: <> (This is a comment, it will not be included)```\n",
    "\n",
    "To format things as general code (on its own lines) you can use\n",
    "```\n",
    "# Here is a string with multiple spaces\n",
    "my_string = \"Hello   World\"\n",
    "print(my_string)\n",
    "```\n",
    "To format things as python code you can use \n",
    "```python\n",
    "# Here is a string with multiple spaces\n",
    "my_string = \"Hello   World\"\n",
    "print(my_string)\n",
    "```\n",
    "Note that this preserves multiple spaces. Inline code can be shown with e.g. `\"i am code\"`, although it kills multiple spaces: `my_string = \"Hello   World\"`."
   ]
  },
  {
   "cell_type": "markdown",
   "metadata": {},
   "source": [
    "## Code cells"
   ]
  },
  {
   "cell_type": "markdown",
   "metadata": {},
   "source": [
    "All code cells should begin with a type specifier in the first line. This line of code should be one of the following\n",
    "| Specifier   |  Desc.  |\n",
    "| ----------- | ------- |\n",
    "| ##REPL      |  Read-eval-print loop: The code in these cells is evaluated such that students can see the outputs. If no variable is defined then the variable is shown.|\n",
    "| ##SOLUTION  |  A hidden code cell used to define solutions. If a solution cell is before a REPL cell and in the same exercise, then the defined variables should be accessible. E.g. for unit test displays. |\n",
    "| ##SNIPPET   |  A code cell which is meant to be copy-pasted by students  |\n",
    "| ##CODEBOX   |  A code cell which is NOT meant to be copy-pasted by students |\n",
    "| ##DOCUMENTATION | A code cell which contains documentation for a function, so that the students can see it. |"
   ]
  },
  {
   "cell_type": "markdown",
   "metadata": {},
   "source": [
    "# Quiz JSON File\n"
   ]
  },
  {
   "cell_type": "markdown",
   "metadata": {},
   "source": [
    "## Homebrewed questions"
   ]
  },
  {
   "cell_type": "markdown",
   "metadata": {},
   "source": [
    "\n",
    "The quiz json file is supposed to contain around 40 weekly-quiz questions. It stores a list of dictionaries, where each dictionary is a question in the following format:\n",
    "```python\n",
    "{\n",
    "    \"id\": 7,\n",
    "    \"status\": \"success\",\n",
    "    \"question\": \"What is stored in the variable `my_string` when the code is run?\",\n",
    "    \"code\": \"my_string = 'ababa_aba'.replace('aba', 'ccc')\",\n",
    "    \"options_are_code\": true,\n",
    "    \"options\": {\n",
    "        \"a\": \"'cccba_ccc'\",\n",
    "        \"b\": \"'ccc_ccc'\",\n",
    "        \"c\": \"'abccc_ccc'\",\n",
    "        \"d\": \"'ababa_ccc'\"\n",
    "    },\n",
    "    \"subject\": \"string_methods_replace\",\n",
    "    \"type\": \"\"\n",
    "}\n",
    "```\n",
    "| Field       |  Desc.  |\n",
    "| ----------- | ------- |\n",
    "| id          |  A unique question id.  |\n",
    "| status      |  If the question has been processed, the status of the processing is written in this field. Will be one of \"missing\" (there is no question),\"success\",\"error_extract\" (an error was encountered when trying to extract the fields from the dictionary), \"error_format\" (an error was encountered when trying to format the question as markdown).  |\n",
    "| question       |  The question for the quiz (in markdown).|\n",
    "| code        |  Python code which is displayed for students after the question. |\n",
    "| options_are_code |  If true, then options will be displayed with code-like formatting when formatting as markdown.|\n",
    "| options       |  A set of options stored as a dictionary. Usually indexed with `\"a\",\"b\",\"c\",\"d\"` |\n",
    "| subject       |  A string describing which subject the question is about. |\n",
    "| type        |  An optional string to categorize questions. E.g. if half the questions have `type==\"at_home\"` then this can be used to extract a specific set of questions.  |\n",
    "| gt        |  Key for the ground truth, if the question does not contain a gt key, it is assumed that `gt=\"a\"` |"
   ]
  },
  {
   "cell_type": "markdown",
   "metadata": {},
   "source": [
    "## Prompted questions"
   ]
  },
  {
   "cell_type": "markdown",
   "metadata": {},
   "source": [
    "To create questions with little effort, you can prompt chatgpt for questions. There are 2 optinos on how to do this. The first is familiarizing e.g. ChatGPT with the formatting and then making it produce questions following said format. An example prompt is shown below.\n",
    "\n",
    "The second option is to just prompt ChatGPT to generate questions, without telling it formatting. The script in utils.py has functionality to automatically find the question,code and options from the raw copied prompt."
   ]
  },
  {
   "cell_type": "markdown",
   "metadata": {},
   "source": [
    "| Prompt 1    |  Prompt 2   |\n",
    "| ----------- | ----------- |\n",
    "| Hi, Take a look at the following json data. It represents the data structure used to store python programming exercises. Option a) is always set as the correct answer. Things in the \"code\" field are formatted as python code, the question is formatted as markdown. options are formatted as code if \"options_are_code\" is set as true and otherwise markdown. <br/> {\"id\": 7,<br/>\"status\": \"\",<br/>\"question\": \"What is stored in the variable my_string after the code is run?\",<br/>\"code\": \"my_string = 'ababa_aba'.replace('aba', 'ccc')\",<br/>\"options_are_code\": true,<br/>\"options\": {<br/>\"a\": \"'cccba_ccc'\",<br/>\"b\": \"'ccc_ccc'\",<br/>\"c\": \"'abccc_ccc'\",<br/>\"d\": \"'ababa_ccc'\"<br/>},<br/>\"subject\": \"\",<br/>\"type\": \"\"} <br/> Please make a list of 10 new exercises. The subject should be strings. The exercises should not use any imports, and the questions should be simple and short. Questions should be multiple choice with options a-d. Most of the questions should be directly related to e.g. a line of code (with a few questions simply natural language about the subject). Make the questions require basic understanding of the code, but do not make questions which could be obviously answer e.g. based only on what name a method has. | Make 20 multiple choice questions about python programming on the subject: strings. The exercises should not use any imports, and the questions should be simple and short. Questions should be multiple choice with options a-d. Most of the questions should be directly related to e.g. a line of code (with a few questions simply natural language about the subject). Make the questions require basic understanding of the code, but do not make questions which could be obviously answer e.g. based only on what name a method has. \n",
    "\n",
    "Please make the questions varied in format and difficulty. Some should be a couple of lines of code, some only 1. Make the order of options such that A is always the correct answer. If the multiple choice option is a string, format with single quotation marks, like 'some string'. |"
   ]
  },
  {
   "cell_type": "markdown",
   "metadata": {},
   "source": [
    "If the second method is used, copy pasting will usually require a small piece of code such that it can actually be pasted into the json file:"
   ]
  },
  {
   "cell_type": "code",
   "execution_count": 4,
   "metadata": {},
   "outputs": [
    {
     "data": {
      "text/plain": [
       "\"What is the output of the following code?\\n\\npython\\nCopy code\\ns = 'python'\\nprint(s[2:5])\\na) 'tho'\\nb) 'pyth'\\nc) 'pyt'\\nd) 'ytho'\""
      ]
     },
     "execution_count": 4,
     "metadata": {},
     "output_type": "execute_result"
    }
   ],
   "source": [
    "s = \"\"\"What is the output of the following code?\n",
    "\n",
    "python\n",
    "Copy code\n",
    "s = \"python\"\n",
    "print(s[2:5])\n",
    "a) 'tho'\n",
    "b) 'pyth'\n",
    "c) 'pyt'\n",
    "d) 'ytho'\"\"\"\n",
    "s.replace(\"\\\"\",\"'\")"
   ]
  },
  {
   "cell_type": "markdown",
   "metadata": {},
   "source": [
    "The cell output (excluding the quotations \" at the first and last character) can be copied into a question in the field `chatgpt_text`. This method does not require any of the normal question fields (`question,code,options`) but the script in `utils.py` will automatically extract them."
   ]
  },
  {
   "cell_type": "markdown",
   "metadata": {},
   "source": []
  }
 ],
 "metadata": {
  "kernelspec": {
   "display_name": "aia-env",
   "language": "python",
   "name": "python3"
  },
  "language_info": {
   "codemirror_mode": {
    "name": "ipython",
    "version": 3
   },
   "file_extension": ".py",
   "mimetype": "text/x-python",
   "name": "python",
   "nbconvert_exporter": "python",
   "pygments_lexer": "ipython3",
   "version": "3.1.-1"
  }
 },
 "nbformat": 4,
 "nbformat_minor": 2
}
