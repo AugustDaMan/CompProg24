{
 "cells": [
  {
   "cell_type": "code",
   "execution_count": 2,
   "metadata": {},
   "outputs": [],
   "source": [
    "%load_ext autoreload\n",
    "%autoreload 2\n",
    "\n",
    "import utils"
   ]
  },
  {
   "cell_type": "code",
   "execution_count": 31,
   "metadata": {},
   "outputs": [
    {
     "name": "stdout",
     "output_type": "stream",
     "text": [
      "Found weeknum=4 in filename: ./04_iteration_and_string_FULL.ipynb\n",
      "LINES0 before ## Exercise 4.1: Playing with strings (Coding Drill) 4 0\n",
      "LINES0 after ## Exercise 4.1: Playing with strings (Coding Drill) 4 1 1\n",
      "Replaced 11 instances of exercise 4.1 with 4.1.\n",
      "LINES0 before ## Exercise 4.2: nice sign 4 1\n",
      "LINES0 after ## Exercise 4.2: nice sign 4 2 2\n",
      "Replaced 2 instances of exercise 4.2 with 4.2.\n",
      "LINES0 before ## Exercise 4.4: Estimate square roots 4 2\n",
      "LINES0 after ## Exercise 4.3: Estimate square roots 4 4 3\n",
      "Replaced 1 instances of exercise 4.4 with 4.3.\n",
      "LINES0 before ## Exercise 4.4: Palindrome - D=4 4 3\n",
      "LINES0 after ## Exercise 4.4: Palindrome - D=4 4 4 4\n",
      "Replaced 2 instances of exercise 4.4 with 4.4.\n",
      "LINES0 before ## Exercise 4.5: Gamertag 4 4\n",
      "LINES0 after ## Exercise 4.5: Gamertag 4 5 5\n",
      "Replaced 2 instances of exercise 4.5 with 4.5.\n",
      "LINES0 before ## Exercise 4.6: Common prefixes 4 5\n",
      "LINES0 after ## Exercise 4.6: Common prefixes 4 6 6\n",
      "Replaced 2 instances of exercise 4.6 with 4.6.\n",
      "LINES0 before ## Exercise 4.7: Common prefixes of three words 4 6\n",
      "LINES0 after ## Exercise 4.7: Common prefixes of three words 4 7 7\n",
      "Replaced 1 instances of exercise 4.7 with 4.7.\n",
      "LINES0 before ## Exercise 4.8: Internet Cafe (Storytime, TODO) - D=5 4 7\n",
      "LINES0 after ## Exercise 4.8: Internet Cafe (Storytime, TODO) - D=5 4 8 8\n",
      "Replaced 1 instances of exercise 4.8 with 4.8.\n",
      "LINES0 before ## Exercise 4.9: Recording student names 4 8\n",
      "LINES0 after ## Exercise 4.9: Recording student names 4 9 9\n",
      "Replaced 2 instances of exercise 4.9 with 4.9.\n",
      "LINES0 before ## Exercise 4.10: A string of students 4 9\n",
      "LINES0 after ## Exercise 4.10: A string of students 4 10 10\n",
      "Replaced 1 instances of exercise 4.10 with 4.10.\n",
      "LINES0 before ## Exercise 4.11: Sum numbers to N 4 10\n",
      "LINES0 after ## Exercise 4.11: Sum numbers to N 4 11 11\n",
      "Replaced 2 instances of exercise 4.11 with 4.11.\n",
      "LINES0 before ## Exercise 4.12: String methods - D=4 4 11\n",
      "LINES0 after ## Exercise 4.12: String methods - D=4 4 12 12\n",
      "Replaced 1 instances of exercise 4.12 with 4.12.\n",
      "LINES0 before ## Exercise 4.13: Return substring (Advanced) 4 12\n",
      "LINES0 after ## Exercise 4.13: Return substring (Advanced) 4 13 13\n",
      "Replaced 2 instances of exercise 4.13 with 4.13.\n",
      "LINES0 before ## Exercise 4.14: string formatting 4 13\n",
      "LINES0 after ## Exercise 4.14: string formatting 4 14 14\n",
      "Replaced 1 instances of exercise 4.14 with 4.14.\n",
      "Found 14 exercises and reordered them.\n"
     ]
    }
   ],
   "source": [
    "utils.ascending_reorder_of_exercises(\"./04_iteration_and_string_FULL.ipynb\")"
   ]
  },
  {
   "cell_type": "code",
   "execution_count": 26,
   "metadata": {},
   "outputs": [
    {
     "name": "stdout",
     "output_type": "stream",
     "text": [
      "Found weeknum=04 in filename: ./04_iteration_and_string_FULL.ipynb\n",
      "## Exercise 04.\n"
     ]
    }
   ],
   "source": [
    "utils.check_info_exists(\"./04_iteration_and_string_FULL.ipynb\")"
   ]
  },
  {
   "cell_type": "code",
   "execution_count": 6,
   "metadata": {},
   "outputs": [
    {
     "name": "stdout",
     "output_type": "stream",
     "text": [
      "40 total questions\n",
      "28 questions with status=missing\n",
      "12 questions with status=success\n"
     ]
    }
   ],
   "source": [
    "save_txt = \"./04_quiz.txt\"\n",
    "formatted,gts = utils.format_all_questions(\"./04_quiz.json\",\n",
    "                         add_status=True,\n",
    "                         save_txt=save_txt,\n",
    "                         verbose=True,\n",
    "                         raise_errors=True)"
   ]
  },
  {
   "cell_type": "code",
   "execution_count": 33,
   "metadata": {},
   "outputs": [
    {
     "data": {
      "text/plain": [
       "{0: \"1: 'c',\",\n",
       " 1: \"2: 'a',\",\n",
       " 2: \"3: 'b',\",\n",
       " 3: \"4: 'b',\",\n",
       " 4: \"5: 'a',\",\n",
       " 5: \"6: 'c',\",\n",
       " 6: \"7: 'a',\",\n",
       " 7: \"8: 'd',\",\n",
       " 8: \"9: 'd',\",\n",
       " 9: \"10: 'c',\",\n",
       " 10: \"11: 'c',\",\n",
       " 11: \"12: 'c',\"}"
      ]
     },
     "execution_count": 33,
     "metadata": {},
     "output_type": "execute_result"
    }
   ],
   "source": [
    "gts"
   ]
  },
  {
   "cell_type": "code",
   "execution_count": null,
   "metadata": {},
   "outputs": [],
   "source": []
  }
 ],
 "metadata": {
  "kernelspec": {
   "display_name": "diff-env",
   "language": "python",
   "name": "python3"
  },
  "language_info": {
   "codemirror_mode": {
    "name": "ipython",
    "version": 3
   },
   "file_extension": ".py",
   "mimetype": "text/x-python",
   "name": "python",
   "nbconvert_exporter": "python",
   "pygments_lexer": "ipython3",
   "version": "3.12.2"
  }
 },
 "nbformat": 4,
 "nbformat_minor": 2
}
