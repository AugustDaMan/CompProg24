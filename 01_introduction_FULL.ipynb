{
  "cells": [
    {
      "cell_type": "markdown",
      "metadata": {
        "id": "PVMZXrYXboNB"
      },
      "source": [
        "# W1: Introduction"
      ]
    },
    {
      "cell_type": "markdown",
      "metadata": {
        "id": "lvGJRB_GZ6BG"
      },
      "source": [
        " TODO:\n",
        " - Ting med fejl tidligt\n",
        " - Oversættelse af matematisk ligning til expression i python. Også har den er temmelig advanceret. Prøv at finde fejlen med parantesen her.\n",
        " - Reassignment i uge 2. Ryk Exercise 1.6.\n",
        " - Lave en fil der indeholder det her\n",
        " - Vi har lavet denne her fil, nu skal i køre den. Nu skal du prøve at udkommetere eller ændre denne ligne.\n",
        "- brug formuleringen vedranaa.github.io under cp_prototype\n",
        "- Alt skal motiveres. F.eks. kunne population models motiveres med løkker. I stedet for at skrive mange print statements kan de bruge en løkke.\n",
        "- Lav evt. opgaver hvor vi viser flere måder at løse den samme opgave på for at motivere at der er ikke er ét facit til en given opgave.  "
      ]
    },
    {
      "cell_type": "code",
      "execution_count": null,
      "metadata": {
        "colab": {
          "base_uri": "https://localhost:8080/",
          "height": 358
        },
        "id": "9MDf1Q4XZ6BH",
        "outputId": "d6e6f1b2-80dd-411b-d880-3ec25a577519",
        "ExecuteTime": {
          "end_time": "2024-07-18T10:54:50.595868Z",
          "start_time": "2024-07-18T10:54:50.556934Z"
        }
      },
      "outputs": [
        {
          "name": "stdout",
          "output_type": "stream",
          "text": [
            "The autoreload extension is already loaded. To reload it, use:\n",
            "  %reload_ext autoreload\n"
          ]
        }
      ],
      "source": [
        "%load_ext autoreload\n",
        "%autoreload 2\n",
        "\n",
        "import utils"
      ]
    },
    {
      "cell_type": "markdown",
      "metadata": {
        "id": "BrYBoV3QZ6BM"
      },
      "source": [
        "## Exercise 1.1: Installing Python (Skal stå et andet end lige her)\n",
        "\n",
        " Download and install Python on your computer and follow the instructions on screen.\n",
        "\n",
        "1. Download Python:\n",
        "   -    For Windows: [Python Downloads](https://www.python.org/downloads/windows/) page.\n",
        "      - For MacOS: [Python Downloads](https://www.python.org/downloads/mac/) page.\n",
        "   \n",
        "2. Find the latest version of Python under Stable Releases (e.g., Python 3.12.4).\n",
        "3. Click on the installer:\n",
        "-  For Windows: Click on the **Windows installer** link to download the installer e.g., (`Windows installer (64-bit)`).\n",
        "-  For MacOS: Click on the **MacOS installer** e.g., (`macOS 64-bit universal2 installer`).\n",
        "4. Once downloaded, double-click the installer file to launch it.\n",
        "5. Check the box that says **Add Python x.x to PATH** and click **Install Now**.\n",
        "6. Python should now be installed on your computer.\n",
        "\n",
        "If you have not yet installed Python, or you have problems opening IDLE, you can conduct the exercises online:\n",
        " - [Online Python](https://pythonhow.com/python-shell)\n",
        " - [W3Schools Try Python](https://www.w3schools.com/python/trypython.asp?filename=demo_default)\n"
      ]
    },
    {
      "cell_type": "markdown",
      "metadata": {
        "id": "qhB67Hc4ceml"
      },
      "source": [
        "## 1.2: Running Python code interactively using IDLE\n",
        "\n",
        "Using Windows:\n",
        "1. **Open Start Menu**:\n",
        "   - Click on the **Start** button (Windows icon) at the bottom-left corner of your screen.\n",
        "   \n",
        "2. **Search for IDLE**:\n",
        "   - In the search bar, type **IDLE**.\n",
        "\n",
        "3. **Launch IDLE**:\n",
        "   - Click on **IDLE (Python 3.x)** from the search results.\n",
        "\n",
        "Using MacOS:\n",
        "1. **Search for IDLE in Spoltlight (Command + Space)**\n",
        "2. **Open Terminal (by searching for terminal in Spotlight) and type idle or idle3**\n",
        "\n",
        "If you still cannot find IDLE using MacOS:\n",
        "1. **Open Finder**:\n",
        "   - Click on the **Finder** icon in the Dock.\n",
        "\n",
        "2. **Navigate to Applications**:\n",
        "   - In the Finder sidebar, click on **Applications**.\n",
        "\n",
        "3. **Find Python Folder**:\n",
        "   - Open the **Python 3.x** folder.\n",
        "\n",
        "4. **Launch IDLE**:\n",
        "   - Double-click on **IDLE**.\n"
      ]
    },
    {
      "cell_type": "markdown",
      "metadata": {
        "id": "lmjE7RctcYNa"
      },
      "source": [
        "## Exercise 1.3: First meeting with Python in IDLE (Coding Drill)\n",
        "\n",
        "Make sure you have followed the instructions from the previous exercise and that IDLE is open on your computer. Follow the instructions below:"
      ]
    },
    {
      "cell_type": "code",
      "execution_count": null,
      "metadata": {
        "id": "gjjO4GDcZ6BM",
        "ExecuteTime": {
          "end_time": "2024-07-18T10:54:50.704502Z",
          "start_time": "2024-07-18T10:54:50.674063Z"
        }
      },
      "outputs": [],
      "source": [
        "##INFO\n",
        "info_dict = {\"name\": \"First meeting with Python in IDLE\",\n",
        "             \"num_exercise\": \"1.4\",\n",
        "             \"author\": \"aulho\",\n",
        "             \"source\": \"new_original_content\",\n",
        "             \"difficulty\": 1,\n",
        "             \"type\": \"1d\",\n",
        "             \"is_advanced\": False,\n",
        "             \"is_coding_drill\": True}\n",
        "utils.assert_info_dict_format(info_dict)"
      ]
    },
    {
      "cell_type": "markdown",
      "metadata": {
        "id": "ekLPZyDHq75D"
      },
      "source": [
        "### Exercise 1.3a: (reassignment skal komme senere eller vente til Week 2)\n",
        "- Enter: `a = 3`\n",
        "- Use the `print` statement to check that the value of `a` is indeed `3`.\n",
        "- Enter `a + 2`.\n",
        "- Check the value of `a` again.\n",
        "- Enter `a = a + 2`.\n",
        "- Check the value of `a` one more time."
      ]
    },
    {
      "cell_type": "markdown",
      "source": [
        "### Exercise 1.3b: (Change to be x = 4, etc. since the concept of assignment has not been made)\n",
        "- Create a new variable `x` with the value `4`.\n",
        "- Create a new variable `y` with the value `7`.\n",
        "- Create a new variable `z` and set its value to the sum of `x` and `y`.\n",
        "- Print the variable `z` to ensure that its value is in fact `11`."
      ],
      "metadata": {
        "collapsed": false,
        "id": "SjmbqX99Z6BM"
      }
    },
    {
      "cell_type": "markdown",
      "source": [
        "### Exercise 1.3c:\n",
        "- Declare a variable `name` and assign your own name as a string to it. Then, assign the value `25` as an integer to the same variable. Explain what happens and why."
      ],
      "metadata": {
        "collapsed": false,
        "id": "-Cezo97WZ6BM"
      }
    },
    {
      "cell_type": "markdown",
      "source": [
        "### Exercise 1.3d:\n",
        "- Assign the value `8` to a variable `num`. Add `4` to `num` and store the result back in `num`."
      ],
      "metadata": {
        "collapsed": false,
        "id": "LNd60tQcZ6BN"
      }
    },
    {
      "cell_type": "markdown",
      "source": [
        "## Exercise 1.3e\n",
        "\n",
        "Consider the code given below. Execute commands one by one in IDLE. After each print command, observe what got printed out. Are the results as you expected?"
      ],
      "metadata": {
        "collapsed": false,
        "id": "p9XCiU2JZ6BN"
      }
    },
    {
      "cell_type": "code",
      "outputs": [
        {
          "name": "stdout",
          "output_type": "stream",
          "text": [
            "168\n",
            "0.8571428571428571\n",
            "178\n",
            "18.567\n",
            "Anders\n",
            "AndersAnders\n"
          ]
        }
      ],
      "source": [
        "# SNIPPET\n",
        "a = 12\n",
        "b = 14\n",
        "print(a * b)\n",
        "print(a / b)\n",
        "\n",
        "one_number = 178\n",
        "print(one_number)\n",
        "\n",
        "one_number = 18.567\n",
        "print(one_number)\n",
        "\n",
        "name = 'Anders'\n",
        "print(name)\n",
        "print(2 * name)"
      ],
      "metadata": {
        "id": "pCqtFilcZ6BN",
        "outputId": "a810c8b2-de6d-49ea-e401-274294cf9257",
        "ExecuteTime": {
          "end_time": "2024-07-18T10:54:50.735507Z",
          "start_time": "2024-07-18T10:54:50.705538Z"
        }
      },
      "execution_count": null
    },
    {
      "cell_type": "markdown",
      "source": [
        "## Exercise 1.5: Creating and running a Python script in IDLE\n",
        "\n",
        "1. Under the \"File\" tab click on option \"New File\" or use the hot-key `Ctrl+N`.\n",
        "2. A new window named `untitled` will open.\n",
        "3. Enter following piece of code into the newly opened document: `print(\"Hello World!\")`\n",
        "4. Hit `Ctrl+S` to save the file.\n",
        "5. Choose a filename and a location to store the file. The name and location does not matter, however, be careful to keep the `.py` file extension.\n",
        "5. To run the file, under the \"Run\" tab click on the option \"Run Module\" or use the hot-key `F5`.\n",
        "6. In the first window, it should now show `\"Hello World!\"`."
      ],
      "metadata": {
        "collapsed": false,
        "id": "A6n5xZKxZ6BN"
      }
    },
    {
      "cell_type": "markdown",
      "source": [
        "### Exercise 1.5a (Ting med fejl skal være allerede exercise 1)\n",
        "Copy and paste the code snippet from Exercise 1.3e into a new IDLE script.\n",
        "\n",
        "Add comments to the file and confirm it runs as expected:\n",
        "- Create a comment with some text,\n",
        "- Comment out a line of code by typing a hashtag (`#`) character in the beginning of the line.\n",
        "\n",
        "Generate errors in the script on purpose:\n",
        "- Create a misspelling in a specific line.\n",
        "- Change the indentation using the `Tab` key."
      ],
      "metadata": {
        "collapsed": false,
        "id": "tAnEEaO1Z6BN"
      }
    },
    {
      "cell_type": "markdown",
      "source": [
        "## Exercise 1.6: Using variables in Python\n",
        "\n",
        "Consider each of the following lines of code.\n",
        "Without running the code, answer the questions:\n",
        "- Which variables exist,\n",
        "- What are the final values and the types of the assigned variables?\n",
        "\n",
        "Write down your answers on paper or however you prefer."
      ],
      "metadata": {
        "collapsed": false,
        "id": "Bb0fpVQCZ6BH"
      }
    },
    {
      "cell_type": "code",
      "outputs": [],
      "source": [
        "##INFO\n",
        "info_dict = {\"name\": \"Using variables in Python\",\n",
        "             \"num_exercise\": \"1.1\",\n",
        "             \"author\": \"aulho\",\n",
        "             \"source\": \"new_original_content\",\n",
        "             \"difficulty\": 1,\n",
        "             \"type\": \"1abc\",\n",
        "             \"is_advanced\": False,\n",
        "             \"is_coding_drill\": False}\n",
        "utils.assert_info_dict_format(info_dict)"
      ],
      "metadata": {
        "id": "IaY-tFIOZ6BH",
        "ExecuteTime": {
          "end_time": "2024-07-18T10:54:50.766532Z",
          "start_time": "2024-07-18T10:54:50.736576Z"
        }
      },
      "execution_count": null
    },
    {
      "cell_type": "markdown",
      "source": [],
      "metadata": {
        "collapsed": false,
        "id": "UaLwCqO9Z6BI"
      }
    },
    {
      "cell_type": "markdown",
      "source": [
        "### Exercise 1.6a:"
      ],
      "metadata": {
        "collapsed": false,
        "id": "5fpbY7MPZ6BI"
      }
    },
    {
      "cell_type": "code",
      "outputs": [],
      "source": [
        "##SNIPPET\n",
        "a = 7\n",
        "a = a + 2\n",
        "a = (3 * a) - 1"
      ],
      "metadata": {
        "id": "445rOlhYZ6BI",
        "ExecuteTime": {
          "end_time": "2024-07-18T10:54:50.798332Z",
          "start_time": "2024-07-18T10:54:50.766763Z"
        }
      },
      "execution_count": null
    },
    {
      "cell_type": "markdown",
      "source": [
        "### Exercise 1.6b:"
      ],
      "metadata": {
        "collapsed": false,
        "id": "4W_uDam4Z6BI"
      }
    },
    {
      "cell_type": "code",
      "outputs": [],
      "source": [
        "##SNIPPET\n",
        "i = 6\n",
        "i = i + 4 * 2\n",
        "i = i * 2"
      ],
      "metadata": {
        "id": "mVGfPdIOZ6BJ",
        "ExecuteTime": {
          "end_time": "2024-07-18T10:54:50.829648Z",
          "start_time": "2024-07-18T10:54:50.799392Z"
        }
      },
      "execution_count": null
    },
    {
      "cell_type": "markdown",
      "source": [
        "### Exercise 1.6c:"
      ],
      "metadata": {
        "collapsed": false,
        "id": "Jj3abqoQZ6BJ"
      }
    },
    {
      "cell_type": "code",
      "outputs": [],
      "source": [
        "##SNIPPET\n",
        "x = 7\n",
        "y = x + 3.0\n",
        "z = y * 2\n",
        "x = z - 5"
      ],
      "metadata": {
        "id": "CkFNCG8QZ6BK",
        "ExecuteTime": {
          "end_time": "2024-07-18T10:54:50.860726Z",
          "start_time": "2024-07-18T10:54:50.830681Z"
        }
      },
      "execution_count": null
    },
    {
      "cell_type": "markdown",
      "source": [
        "### Exercise 1.6d:"
      ],
      "metadata": {
        "collapsed": false,
        "id": "I_mkgQhRZ6BK"
      }
    },
    {
      "cell_type": "code",
      "outputs": [],
      "source": [
        "##SNIPPET\n",
        "a = 10\n",
        "b = a * 2\n",
        "c = b - 4\n",
        "a = c / 2"
      ],
      "metadata": {
        "id": "-VOkK4SMZ6BK",
        "ExecuteTime": {
          "end_time": "2024-07-18T10:54:50.891612Z",
          "start_time": "2024-07-18T10:54:50.861863Z"
        }
      },
      "execution_count": null
    },
    {
      "cell_type": "markdown",
      "source": [
        "### Exercise 1.6e:"
      ],
      "metadata": {
        "collapsed": false,
        "id": "FXwbtnTmZ6BL"
      }
    },
    {
      "cell_type": "code",
      "outputs": [],
      "source": [
        "##SNIPPET\n",
        "m = 3\n",
        "n = 2\n",
        "result = m ** n\n",
        "m = result - n"
      ],
      "metadata": {
        "id": "031mg1TfZ6BL",
        "ExecuteTime": {
          "end_time": "2024-07-18T10:54:50.923160Z",
          "start_time": "2024-07-18T10:54:50.892624Z"
        }
      },
      "execution_count": null
    },
    {
      "cell_type": "markdown",
      "source": [
        "### Exercise 1.6f:"
      ],
      "metadata": {
        "collapsed": false,
        "id": "uBy1XXeHZ6BL"
      }
    },
    {
      "cell_type": "code",
      "outputs": [],
      "source": [
        "##SNIPPET\n",
        "apple = 2.0\n",
        "juice = apple\n",
        "apple = 5"
      ],
      "metadata": {
        "id": "3X3QDDRFZ6BL",
        "ExecuteTime": {
          "end_time": "2024-07-18T10:54:50.954639Z",
          "start_time": "2024-07-18T10:54:50.924170Z"
        }
      },
      "execution_count": null
    },
    {
      "cell_type": "markdown",
      "source": [
        "### Exercise 1.6g:"
      ],
      "metadata": {
        "collapsed": false,
        "id": "aXObC1F1Z6BL"
      }
    },
    {
      "cell_type": "code",
      "outputs": [],
      "source": [
        "##SNIPPET\n",
        "number = 64\n",
        "word = \"cat\"\n",
        "number = word"
      ],
      "metadata": {
        "id": "ics0CrCLZ6BL",
        "ExecuteTime": {
          "end_time": "2024-07-18T10:54:50.986145Z",
          "start_time": "2024-07-18T10:54:50.955668Z"
        }
      },
      "execution_count": null
    },
    {
      "cell_type": "markdown",
      "source": [
        "### Exercise 1.6h:"
      ],
      "metadata": {
        "collapsed": false,
        "id": "Vt6Oquk6Z6BL"
      }
    },
    {
      "cell_type": "code",
      "outputs": [],
      "source": [
        "##SNIPPET\n",
        "word1 = \"cats\"\n",
        "word2 = \"dogs\"\n",
        "word1 = word1 + word2\n",
        "word1 = word2 + word1"
      ],
      "metadata": {
        "id": "7jKgbFcHZ6BL",
        "ExecuteTime": {
          "end_time": "2024-07-18T10:54:51.017232Z",
          "start_time": "2024-07-18T10:54:50.987163Z"
        }
      },
      "execution_count": null
    },
    {
      "cell_type": "markdown",
      "source": [
        "### Exercise 1.6i:"
      ],
      "metadata": {
        "collapsed": false,
        "id": "sE2t1tPrZ6BL"
      }
    },
    {
      "cell_type": "code",
      "outputs": [],
      "source": [
        "##SNIPPET\n",
        "a = 10\n",
        "b = 5\n",
        "is_greater = a > b"
      ],
      "metadata": {
        "id": "luKtSSAwZ6BL",
        "ExecuteTime": {
          "end_time": "2024-07-18T10:54:51.047725Z",
          "start_time": "2024-07-18T10:54:51.018421Z"
        }
      },
      "execution_count": null
    },
    {
      "cell_type": "markdown",
      "source": [
        "### Exercise 1.6j:"
      ],
      "metadata": {
        "collapsed": false,
        "id": "L413frbVZ6BL"
      }
    },
    {
      "cell_type": "code",
      "outputs": [],
      "source": [
        "##SNIPPET\n",
        "x = 3\n",
        "y = 3.0\n",
        "statement = x > y\n",
        "statement = y >= x"
      ],
      "metadata": {
        "id": "l0HS5IGSZ6BL",
        "ExecuteTime": {
          "end_time": "2024-07-18T10:54:51.079756Z",
          "start_time": "2024-07-18T10:54:51.048798Z"
        }
      },
      "execution_count": null
    },
    {
      "cell_type": "markdown",
      "source": [
        "### Exercise 1.6k:"
      ],
      "metadata": {
        "collapsed": false,
        "id": "vyE8-P8HZ6BM"
      }
    },
    {
      "cell_type": "code",
      "outputs": [],
      "source": [
        "##SNIPPET\n",
        "count = 5\n",
        "word = 'take'\n",
        "song = word * count"
      ],
      "metadata": {
        "id": "O_7CljfQZ6BM",
        "ExecuteTime": {
          "end_time": "2024-07-18T10:54:51.110859Z",
          "start_time": "2024-07-18T10:54:51.080834Z"
        }
      },
      "execution_count": null
    },
    {
      "cell_type": "markdown",
      "source": [
        "### Exercise 1.7: Checking Exercise 1.6\n",
        "\n",
        "Use Python to check that you have correctly determined the values of the variables in Exercise 1.6. Use `print` statements to check the values of the variables. You can either write a Python scripts to be executed to keep your solution for later, or you can use check each of the exercises manually using interactive mode.\n",
        "\n",
        "Do you get the same answers as in Exercise 1.6?"
      ],
      "metadata": {
        "collapsed": false,
        "id": "BDMmNbNZjqv-"
      }
    },
    {
      "cell_type": "markdown",
      "source": [
        "## Exercise 1.8: Basic in-built functions in Python"
      ],
      "metadata": {
        "collapsed": false,
        "id": "ghRRB5HcZ6BN"
      }
    },
    {
      "cell_type": "markdown",
      "source": [
        "There are many in-built functions in Python which can perform various operations. For now, we will consider single input functions such as `abs`, `round` and `print`. You can refer to all the in-built functions in Python online at [w3schools.com](https://www.w3schools.com/python/python_ref_functions.asp) or [python.org](https://docs.python.org/3/library/functions.html)."
      ],
      "metadata": {
        "collapsed": false,
        "id": "n8wGdDvHZ6BN"
      }
    },
    {
      "cell_type": "code",
      "outputs": [],
      "source": [
        "##INFO\n",
        "info_dict = {\"name\": \"Basic in-built functions in Python\",\n",
        "             \"num_exercise\": \"1.6\",\n",
        "             \"author\": \"aulho\",\n",
        "             \"source\": \"new_original_content\",\n",
        "             \"difficulty\": 2,\n",
        "             \"type\": \"1a\",\n",
        "             \"is_advanced\": False,\n",
        "             \"is_coding_drill\": False}\n",
        "utils.assert_info_dict_format(info_dict)"
      ],
      "metadata": {
        "id": "1mgeY8W4Z6BN",
        "ExecuteTime": {
          "end_time": "2024-07-18T10:54:51.142504Z",
          "start_time": "2024-07-18T10:54:51.111985Z"
        }
      },
      "execution_count": null
    },
    {
      "cell_type": "markdown",
      "source": [
        "### Exercise 1.8a: Playing with in-built functions\n",
        "\n",
        "Consider the pieces of code in the following and explain what happens at each line. Use Python to verify your reasoning using either interactive mode in IDLE or using a script."
      ],
      "metadata": {
        "collapsed": false,
        "id": "vzWa_B9SZ6BN"
      }
    },
    {
      "cell_type": "code",
      "execution_count": null,
      "metadata": {
        "id": "ntpqerx-Z6BO",
        "outputId": "9d71a2ad-626a-4e05-9e04-06ff2e7c91ab",
        "ExecuteTime": {
          "end_time": "2024-07-18T10:54:51.173299Z",
          "start_time": "2024-07-18T10:54:51.143601Z"
        }
      },
      "outputs": [
        {
          "name": "stdout",
          "output_type": "stream",
          "text": [
            "2.8\n"
          ]
        }
      ],
      "source": [
        "##SNIPPET\n",
        "a = -5\n",
        "b = 2.2\n",
        "result = abs(a + b)  # What happens here?\n",
        "print(result)\n"
      ]
    },
    {
      "cell_type": "markdown",
      "source": [
        "### Exercise 1.8b:"
      ],
      "metadata": {
        "collapsed": false,
        "id": "HTAuyjE8Z6BO"
      }
    },
    {
      "cell_type": "code",
      "outputs": [
        {
          "name": "stdout",
          "output_type": "stream",
          "text": [
            "False\n"
          ]
        }
      ],
      "source": [
        "##SNIPPET\n",
        "x = 2.0\n",
        "y = 2.2\n",
        "result = round(y) > round(x)  # What happens here?\n",
        "print(result)"
      ],
      "metadata": {
        "id": "9EbkZ2ZVZ6BO",
        "outputId": "6a6f5796-333d-4697-ec6b-1d72f4a42a49",
        "ExecuteTime": {
          "end_time": "2024-07-18T10:54:51.203943Z",
          "start_time": "2024-07-18T10:54:51.174443Z"
        }
      },
      "execution_count": null
    },
    {
      "cell_type": "markdown",
      "source": [
        "### Exercise 1.8c:"
      ],
      "metadata": {
        "collapsed": false,
        "id": "97mJtrdjZ6BO"
      }
    },
    {
      "cell_type": "code",
      "outputs": [
        {
          "name": "stdout",
          "output_type": "stream",
          "text": [
            "15\n"
          ]
        }
      ],
      "source": [
        "##SNIPPET\n",
        "i = 7\n",
        "y = 2\n",
        "i = i + y**round(abs(-2.6))  # What happens here?\n",
        "print(i)"
      ],
      "metadata": {
        "id": "SNG_VIAQZ6BO",
        "outputId": "54cbc46d-c183-418b-f3ce-d538e19fc80d",
        "ExecuteTime": {
          "end_time": "2024-07-18T10:54:51.234600Z",
          "start_time": "2024-07-18T10:54:51.204944Z"
        }
      },
      "execution_count": null
    },
    {
      "cell_type": "markdown",
      "source": [
        "### Exercise 1.8d:"
      ],
      "metadata": {
        "collapsed": false,
        "id": "54RPciecZ6BO"
      }
    },
    {
      "cell_type": "code",
      "outputs": [
        {
          "name": "stdout",
          "output_type": "stream",
          "text": [
            "5.0\n",
            "5\n"
          ]
        }
      ],
      "source": [
        "##SNIPPET\n",
        "val1 = 2.0\n",
        "val2 = 10.0\n",
        "int_or_float = 10 / 2  # What happens here?\n",
        "print(int_or_float)\n",
        "int_or_float = 10 // 2  # What happens here?\n",
        "print(int_or_float)"
      ],
      "metadata": {
        "id": "La_zxuNXZ6BO",
        "outputId": "67b9bcc1-69b2-4399-f073-6be6baef11a5",
        "ExecuteTime": {
          "end_time": "2024-07-18T10:54:51.264990Z",
          "start_time": "2024-07-18T10:54:51.235852Z"
        }
      },
      "execution_count": null
    },
    {
      "cell_type": "markdown",
      "source": [
        "### Exercise 1.8e:"
      ],
      "metadata": {
        "collapsed": false,
        "id": "3ZV52AQnZ6BP"
      }
    },
    {
      "cell_type": "code",
      "outputs": [
        {
          "name": "stdout",
          "output_type": "stream",
          "text": [
            "125.0\n"
          ]
        }
      ],
      "source": [
        "c = int(123.45) + 1 + float(1) # What happens here?\n",
        "print(c)"
      ],
      "metadata": {
        "id": "P4_p7lSdZ6BP",
        "outputId": "49412474-67ad-474a-ae29-cdc74bb7c299",
        "ExecuteTime": {
          "end_time": "2024-07-18T10:54:51.296091Z",
          "start_time": "2024-07-18T10:54:51.266083Z"
        }
      },
      "execution_count": null
    },
    {
      "cell_type": "markdown",
      "metadata": {
        "id": "umk5a6H5ehWh"
      },
      "source": [
        "## Exercise 1.x: Dialog with Python - Not made yet (Advanced)"
      ]
    },
    {
      "cell_type": "code",
      "execution_count": null,
      "metadata": {
        "id": "f5sRvOF-Z6BP",
        "ExecuteTime": {
          "end_time": "2024-07-18T10:56:33.747248Z",
          "start_time": "2024-07-18T10:56:33.722634Z"
        }
      },
      "outputs": [],
      "source": [
        "##INFO\n",
        "info_dict = {\"name\": \"Dialog with Python\",\n",
        "             \"num_exercise\": \"1.x\",\n",
        "             \"author\": \"aulho\",\n",
        "             \"source\": \"new_original_content\",\n",
        "             \"difficulty\": 1,\n",
        "             \"type\": \"1b\",\n",
        "             \"is_advanced\": False,\n",
        "             \"is_coding_drill\": False}\n",
        "utils.assert_info_dict_format(info_dict)"
      ]
    },
    {
      "cell_type": "markdown",
      "source": [
        "## Exercise 1.9: Beatboxing with Python (Advanced)\n",
        "\n",
        "In this exercise, you're now going to learn Python how to beatbox! However, to keep things simple, we'll start by considering only three sounds: \"Boom\", \"Tick\" and \"Ka\". These three sounds will be the basis of the rhythms you'll work with.   \n",
        "\n",
        "A beatbox rhythm can be considered as a string containing a combination of sounds where each sound is separated by a dash (`-`) character. For instance `\"Boom-Tick-Ka\"` is a beatbox rhythm. Before following on with the first exercise, start by entering the sounds \"Boom\", \"Tick\" and \"Ka\" using input() and save each string to a variable:"
      ],
      "metadata": {
        "collapsed": false,
        "id": "kNDyN8C1Z6BP"
      }
    },
    {
      "cell_type": "code",
      "outputs": [],
      "source": [
        "# SNIPPET\n",
        "# Start by entering the sounds for your beat-box song using input()\n",
        "sound1 = input(\"Enter the first sound: \")\n",
        "sound2 = input(\"Enter the second sound: \")\n",
        "sound3 = input(\"Enter the third sound: \")"
      ],
      "metadata": {
        "id": "Gt77tpnLZ6BP",
        "ExecuteTime": {
          "end_time": "2024-07-18T10:54:56.552640Z",
          "start_time": "2024-07-18T10:54:51.329936Z"
        }
      },
      "execution_count": null
    },
    {
      "cell_type": "markdown",
      "source": [
        "### Exercise 1.9a: Creating a rhythm\n",
        "\n",
        "To create the dashes in each rhythm, we'll use the separation argument `sep` in `print`. Parsing a string as the argument `sep` will make Python print the separation string in between the other strings parsed to `print`.\n",
        "\n",
        "For instance: `print(\"cats\",\"dogs\", sep=\" and \")` will print `\"cats and dogs`.  \n",
        "In the same way, adding a dash character (`-`) as the separation will result in a dash between each string."
      ],
      "metadata": {
        "collapsed": false,
        "id": "QZWGmvmFZ6BP"
      }
    },
    {
      "cell_type": "code",
      "outputs": [
        {
          "name": "stdout",
          "output_type": "stream",
          "text": [
            "Boom-Ka\n"
          ]
        }
      ],
      "source": [
        "# SNIPPET\n",
        "# Try printing the basic rhythm: \"Boom-Ka\"\n",
        "print(sound1, sound3, sep='-')"
      ],
      "metadata": {
        "colab": {
          "base_uri": "https://localhost:8080/"
        },
        "id": "_cXSFzU4Z6BP",
        "outputId": "b6f662e6-42d2-42b6-9ffd-4e0b344ad2b0",
        "ExecuteTime": {
          "end_time": "2024-07-18T10:54:56.583882Z",
          "start_time": "2024-07-18T10:54:56.553793Z"
        }
      },
      "execution_count": null
    },
    {
      "cell_type": "markdown",
      "source": [
        "### Exercise 1.9b: Creating your own rhythm"
      ],
      "metadata": {
        "collapsed": false,
        "id": "XiZBZiXGZ6BQ"
      }
    },
    {
      "cell_type": "markdown",
      "source": [
        "Print the beatbox rhythm `\"Boom-Tick-Ka-Tick\"` using the sound variables and the `sep` argument using `print`:"
      ],
      "metadata": {
        "collapsed": false,
        "id": "CCWeq3vqZ6BQ"
      }
    },
    {
      "cell_type": "code",
      "outputs": [
        {
          "name": "stdout",
          "output_type": "stream",
          "text": [
            "Boom-Tick-Ka-Tick\n"
          ]
        }
      ],
      "source": [
        "# SOLUTION\n",
        "# Try printing a basic rhythm\n",
        "print(sound1, sound2, sound3, sound2, sep='-')"
      ],
      "metadata": {
        "colab": {
          "base_uri": "https://localhost:8080/"
        },
        "id": "qGpVHDwTZ6BQ",
        "outputId": "17622608-2ea3-401f-9649-e99b86fa3268",
        "ExecuteTime": {
          "end_time": "2024-07-18T10:54:56.613846Z",
          "start_time": "2024-07-18T10:54:56.585961Z"
        }
      },
      "execution_count": null
    },
    {
      "cell_type": "markdown",
      "source": [
        "We now want to print each rhythm on the same line. To do this, we'll use the argument `end` of `print`. Parsing a string as the argument `end` will make Python add this string add the end. By default, `print` will add a new line at the end of every print statement. However, using the `end` argument will overwrite this."
      ],
      "metadata": {
        "collapsed": false,
        "id": "-ZCRWJ1tZ6BQ"
      }
    },
    {
      "cell_type": "markdown",
      "source": [
        "### Exercise 1.9c: Printing rhythms on the same line\n",
        "\n",
        "Print the rhythm from the previous exercise three times on the same line using three print statements.\n",
        "\n",
        "Hint: Use the `end` argument of `print` to keep the sounds on the same line. As an example, you can use the character `\"|\"`"
      ],
      "metadata": {
        "collapsed": false,
        "id": "R28FxCmYZ6BQ"
      }
    },
    {
      "cell_type": "code",
      "outputs": [
        {
          "name": "stdout",
          "output_type": "stream",
          "text": [
            "Boom-Tick-Ka-Tick|Boom-Tick-Ka-Tick|Boom-Tick-Ka-Tick|"
          ]
        }
      ],
      "source": [
        "# SOLUTION\n",
        "print(sound1, sound2, sound3, sound2, sep='-', end='|')\n",
        "print(sound1, sound2, sound3, sound2, sep='-', end='|')\n",
        "print(sound1, sound2, sound3, sound2, sep='-', end='|')"
      ],
      "metadata": {
        "colab": {
          "base_uri": "https://localhost:8080/"
        },
        "id": "ojygG_CvZ6BQ",
        "outputId": "1742e725-cc78-4f72-d3f9-4fe2ff03424a",
        "ExecuteTime": {
          "end_time": "2024-07-18T10:54:56.644774Z",
          "start_time": "2024-07-18T10:54:56.614879Z"
        }
      },
      "execution_count": null
    },
    {
      "cell_type": "markdown",
      "source": [
        "### Exercise 1.9d: Adding variations\n",
        "\n",
        "For dramatic effect, we´ll now add pauses as a separation between the other sounds in the rhythms.\n",
        "Create a new string variable `pause` and use it as a separation between other sounds.\n",
        "\n",
        "Use this variable to create the following rhythm: `\"Ka-pause-Boom|Ka-pause-Boom|\"`"
      ],
      "metadata": {
        "collapsed": false,
        "id": "Dg53JL-wZ6BQ"
      }
    },
    {
      "cell_type": "code",
      "outputs": [
        {
          "name": "stdout",
          "output_type": "stream",
          "text": [
            "Ka-pause-Boom|Ka-pause-Boom|"
          ]
        }
      ],
      "source": [
        "# SOLUTION\n",
        "# Use either of these solutions:\n",
        "#pause = input(\"Enter \\\"-pause-\\\": \")\n",
        "pause = \"-pause-\"\n",
        "\n",
        "print(sound3, sound1, sep=pause, end=\"|\")\n",
        "print(sound3, sound1, sep=pause, end=\"|\")\n"
      ],
      "metadata": {
        "colab": {
          "base_uri": "https://localhost:8080/"
        },
        "id": "lzWKGj5jZ6BQ",
        "outputId": "207921cf-592c-4e10-8d78-959abe1e42df",
        "ExecuteTime": {
          "end_time": "2024-07-18T10:54:56.676064Z",
          "start_time": "2024-07-18T10:54:56.646123Z"
        }
      },
      "execution_count": null
    },
    {
      "cell_type": "code",
      "outputs": [],
      "source": [
        "\n",
        "#clap = input(\"Enter \\\"clap\\\": \")\n",
        "#sep = input(\"Enter \\\"-\\\": \")\n"
      ],
      "metadata": {
        "id": "L_ZL9DAnZ6BR",
        "ExecuteTime": {
          "end_time": "2024-07-18T10:54:56.704250Z",
          "start_time": "2024-07-18T10:54:56.677188Z"
        }
      },
      "execution_count": null
    },
    {
      "cell_type": "markdown",
      "source": [
        "## Exercise 1.9e: Using sounds as separations\n",
        "\n",
        "As separations, we would now like to use sounds.\n",
        "\n",
        "Create a new variable `sep` and set it to the charactor (`-`).  \n",
        "\n",
        "\n",
        "Hint: `sep = \"-\"` or `sep = input(\"Enter \\\"-\\\": \")`\n",
        "\n",
        "Use `Boom` as the separation sound to print the following rhythm: `\"Tick-Boom-Tick\"`\n"
      ],
      "metadata": {
        "id": "VoAeU9nBahKD"
      }
    },
    {
      "cell_type": "code",
      "outputs": [
        {
          "name": "stdout",
          "output_type": "stream",
          "text": [
            "Tick-Boom-Tick\n"
          ]
        }
      ],
      "source": [
        "# SOLUTION\n",
        "sep = \"-\"\n",
        "print(sound2, sound2, sep=sep+sound1+sep)\n"
      ],
      "metadata": {
        "colab": {
          "base_uri": "https://localhost:8080/"
        },
        "id": "5DdvSbK8Z6BS",
        "outputId": "ed2e769a-70fd-4224-e5d4-1a7cc94f8a1b",
        "ExecuteTime": {
          "end_time": "2024-07-18T10:54:56.736081Z",
          "start_time": "2024-07-18T10:54:56.705287Z"
        }
      },
      "execution_count": null
    },
    {
      "cell_type": "markdown",
      "source": [
        "### Exercise 1.9f\n",
        "\n",
        "Use two print statements to print the following rhythm:\n",
        "`Boom-Tick-Boom|Boom-pause-Boom-pause-Tick-pause-Tick|`\n",
        "\n",
        "Use `\"Tick\"` as the separation in the first print statement and use `\"pause\"` as the separation in the second print statement.\n",
        "\n",
        "Remember to use the `end` argument to separate the rhythms."
      ],
      "metadata": {
        "id": "hnv1JvWScSKu"
      }
    },
    {
      "cell_type": "code",
      "source": [
        "# SOLUTION\n",
        "print(sound1, sound1, sep=sep+sound2+sep, end=\"|\")\n",
        "print(sound1, sound1, sound2, sound2, sep=pause, end=\"|\")"
      ],
      "metadata": {
        "colab": {
          "base_uri": "https://localhost:8080/"
        },
        "id": "p5FeTfBKcYGb",
        "outputId": "44110c22-218e-42ab-c176-c610973a13c7",
        "ExecuteTime": {
          "end_time": "2024-07-18T10:54:56.768306Z",
          "start_time": "2024-07-18T10:54:56.737241Z"
        }
      },
      "execution_count": null,
      "outputs": [
        {
          "name": "stdout",
          "output_type": "stream",
          "text": [
            "Boom-Tick-Boom|Boom-pause-Boom-pause-Tick-pause-Tick|"
          ]
        }
      ]
    },
    {
      "cell_type": "markdown",
      "source": [
        "## QUIZ - Needs to be changed (Help Jakob)"
      ],
      "metadata": {
        "collapsed": false,
        "id": "LETDc0b8Z6BS"
      }
    },
    {
      "cell_type": "markdown",
      "metadata": {
        "id": "W9gZvI12Z6BS"
      },
      "source": [
        "1.    What will be stored in the variable `apple_pie`?\n",
        "```python\n",
        "apple_pie = 'apple' + 'pie'\n",
        "```\n",
        "  *   a) `'applepie'`\n",
        "  *   b) `'apple pie'`\n",
        "  *   c) `'apple_pie'`\n",
        "  *   d) `apple+pie`\n",
        "\n",
        "2.    What will be printed?\n",
        "```python\n",
        "s = '   strip me   '\n",
        "print(s.strip())\n",
        "```\n",
        "  *   a) 'strip me '\n",
        "  *   b) 'strip me'\n",
        "  *   c) '   strip me   '\n",
        "  *   d) 'stripme'\n",
        "\n",
        "3.    What does the following code output?\n",
        "```python\n",
        "s = 'Python programming'\n",
        "s.find('prog')\n",
        "```\n",
        "  *   a) -1\n",
        "  *   b) 6\n",
        "  *   c) 7\n",
        "  *   d) 11\n",
        "\n",
        "4.    What will be printed?\n",
        "```python\n",
        "s = 'abcdefgh'\n",
        "print(s[::2])\n",
        "```\n",
        "  *   a) 'bdfh'\n",
        "  *   b) 'gh'\n",
        "  *   c) 'ab'\n",
        "  *   d) 'aceg'\n",
        "\n",
        "5.    What will be printed?\n",
        "```python\n",
        "s = 'python'\n",
        "print(s[2:5])\n",
        "```\n",
        "  *   a) 'tho'\n",
        "  *   b) 'pyth'\n",
        "  *   c) 'pyt'\n",
        "  *   d) 'ytho'\n",
        "\n",
        "6.    What does the function `len()` do when applied to a string?\n",
        "\n",
        "  *   a) The number of words in the string\n",
        "  *   b) The number of characters in the string\n",
        "  *   c) The number of lines in the string\n",
        "  *   d) The number of alphabet letters in the string\n",
        "\n",
        "7.    What does the following code output?\n",
        "```python\n",
        "'matlab'>'python'\n",
        "```\n",
        "  *   a) `'matlab>python'`\n",
        "  *   b) `TypeError: unsupported operand type(s) for >: 'str' and 'str'`\n",
        "  *   c) `True`\n",
        "  *   d) `False`\n",
        "\n",
        "8.    What is stored in the variable `my_string` when the code is run?\n",
        "```python\n",
        "my_string = 'ababa_aba'.replace('aba', 'ccc')\n",
        "```\n",
        "  *   a) `'ababa_ccc'`\n",
        "  *   b) `'abccc_ccc'`\n",
        "  *   c) `'ccc_ccc'`\n",
        "  *   d) `'cccba_ccc'`\n",
        "\n",
        "9.    Fill in the blank. What is the missing format specifier to print `1/7 is approximately 14.2857%`?\n",
        "```python\n",
        "print(f'1/7 is approximately {100/7:____}%')\n",
        "```\n",
        "  *   a) `p`\n",
        "  *   b) `2.4f`\n",
        "  *   c) `4f`\n",
        "  *   d) `02.4d`\n",
        "\n",
        "10.    What will the variable `my_string` contain after the following code is executed?\n",
        "```python\n",
        "my_string = 'Python Programming'.replace('P', 'p', 1)\n",
        "```\n",
        "  *   a) `'Pythonn Programming'`\n",
        "  *   b) `'python programming'`\n",
        "  *   c) `'python Programming'`\n",
        "  *   d) `'Python Programming'`\n",
        "\n",
        "11.    which is NOT a valid string method?\n",
        "\n",
        "  *   a) `some_string.replace()`\n",
        "  *   b) `some_string.find()`\n",
        "  *   c) `some_string.upper()`\n",
        "  *   d) `some_string.remove()`\n",
        "\n",
        "12.    Which line of code will throw an error?\n",
        "\n",
        "  *   a) `'1234' + 5`\n",
        "  *   b) `'1234' * 5`\n",
        "  *   c) `'1234' < '5'`\n",
        "  *   d) `'1234' + '5'`"
      ]
    },
    {
      "cell_type": "markdown",
      "metadata": {
        "id": "Sjd9IEpaZ6BS"
      },
      "source": []
    }
  ],
  "metadata": {
    "colab": {
      "collapsed_sections": [
        "LETDc0b8Z6BS"
      ],
      "provenance": [],
      "toc_visible": true
    },
    "kernelspec": {
      "name": "python3",
      "language": "python",
      "display_name": "Python 3 (ipykernel)"
    },
    "language_info": {
      "codemirror_mode": {
        "name": "ipython",
        "version": 3
      },
      "file_extension": ".py",
      "mimetype": "text/x-python",
      "name": "python",
      "nbconvert_exporter": "python",
      "pygments_lexer": "ipython3",
      "version": "3.1.-1"
    }
  },
  "nbformat": 4,
  "nbformat_minor": 0
}