{
 "cells": [
  {
   "cell_type": "markdown",
   "metadata": {
    "id": "PVMZXrYXboNB"
   },
   "source": [
    "# W1: Introduction"
   ]
  },
  {
   "cell_type": "markdown",
   "metadata": {},
   "source": [
    " TODO:\n",
    " - Fix subexercise reformatting\n",
    " - reformat all exercises to same nice format\n",
    " - add python keyword to appropriate blocks of code\n",
    " - add more iteration to group exercise: e.g. loop over int variables to satisfy eq."
   ]
  },
  {
   "cell_type": "code",
   "execution_count": 1,
   "metadata": {
    "ExecuteTime": {
     "end_time": "2024-07-18T07:28:29.040133Z",
     "start_time": "2024-07-18T07:28:28.703928Z"
    }
   },
   "outputs": [],
   "source": [
    "%load_ext autoreload\n",
    "%autoreload 2\n",
    "\n",
    "import utils"
   ]
  },
  {
   "cell_type": "markdown",
   "source": [
    "## Exercise 1.1: Using variables in Python (Coding Drill)\n",
    "\n",
    "Consider each of the following lines of code. \n",
    "Without running the code, answer the questions:\n",
    "- Which variables exist,\n",
    "- What are the final values and the types of the assigned variables?\n",
    "\n",
    "Write down your answers on paper or however you prefer."
   ],
   "metadata": {
    "collapsed": false
   }
  },
  {
   "cell_type": "code",
   "outputs": [],
   "source": [
    "##INFO\n",
    "info_dict = {\"name\": \"Using variables in Python\",\n",
    "             \"num_exercise\": \"1.1\",\n",
    "             \"author\": \"aulho\",\n",
    "             \"source\": \"new_original_content\",\n",
    "             \"difficulty\": 1,\n",
    "             \"type\": \"1abc\",\n",
    "             \"is_advanced\": False,\n",
    "             \"is_coding_drill\": True}\n",
    "utils.assert_info_dict_format(info_dict)"
   ],
   "metadata": {
    "collapsed": false
   },
   "execution_count": 3
  },
  {
   "cell_type": "markdown",
   "source": [],
   "metadata": {
    "collapsed": false
   }
  },
  {
   "cell_type": "markdown",
   "source": [
    "### 1.1a:"
   ],
   "metadata": {
    "collapsed": false
   }
  },
  {
   "cell_type": "code",
   "outputs": [],
   "source": [
    "##SNIPPET\n",
    "a = 7 \n",
    "a = a + 2\n",
    "a = (3 * a) - 1"
   ],
   "metadata": {
    "collapsed": false
   },
   "execution_count": 32
  },
  {
   "cell_type": "markdown",
   "source": [
    "### 1.1b:"
   ],
   "metadata": {
    "collapsed": false
   }
  },
  {
   "cell_type": "code",
   "outputs": [],
   "source": [
    "##SNIPPET\n",
    "i = 6\n",
    "i = i + 4 * 2\n",
    "i = i * 2  "
   ],
   "metadata": {
    "collapsed": false
   },
   "execution_count": 4
  },
  {
   "cell_type": "markdown",
   "source": [
    "### 1.1c:"
   ],
   "metadata": {
    "collapsed": false
   }
  },
  {
   "cell_type": "code",
   "outputs": [],
   "source": [
    "##SNIPPET\n",
    "x = 7\n",
    "y = x + 3.0\n",
    "z = y * 2\n",
    "x = z - 5"
   ],
   "metadata": {
    "collapsed": false
   },
   "execution_count": 33
  },
  {
   "cell_type": "markdown",
   "source": [
    "### 1.1d:"
   ],
   "metadata": {
    "collapsed": false
   }
  },
  {
   "cell_type": "code",
   "outputs": [],
   "source": [
    "##SNIPPET\n",
    "a = 10\n",
    "b = a * 2\n",
    "c = b - 4\n",
    "a = c / 2"
   ],
   "metadata": {
    "collapsed": false
   }
  },
  {
   "cell_type": "markdown",
   "source": [
    "### 1.1e:"
   ],
   "metadata": {
    "collapsed": false
   }
  },
  {
   "cell_type": "code",
   "outputs": [],
   "source": [
    "##SNIPPET\n",
    "m = 3\n",
    "n = 2\n",
    "result = m ** n\n",
    "m = result - n"
   ],
   "metadata": {
    "collapsed": false
   }
  },
  {
   "cell_type": "markdown",
   "source": [
    "### 1.1f:"
   ],
   "metadata": {
    "collapsed": false
   }
  },
  {
   "cell_type": "code",
   "outputs": [],
   "source": [
    "##SNIPPET\n",
    "apple = 2.0\n",
    "juice = apple\n",
    "apple = 5"
   ],
   "metadata": {
    "collapsed": false
   }
  },
  {
   "cell_type": "markdown",
   "source": [
    "### 1.1g:"
   ],
   "metadata": {
    "collapsed": false
   }
  },
  {
   "cell_type": "code",
   "outputs": [],
   "source": [
    "##SNIPPET\n",
    "number = 64\n",
    "word = \"cat\"\n",
    "number = word"
   ],
   "metadata": {
    "collapsed": false
   }
  },
  {
   "cell_type": "markdown",
   "source": [
    "### 1.1h:"
   ],
   "metadata": {
    "collapsed": false
   }
  },
  {
   "cell_type": "code",
   "outputs": [],
   "source": [
    "##SNIPPET\n",
    "word1 = \"cats\"\n",
    "word2 = \"dogs\"\n",
    "word1 = word1 + word2\n",
    "word1 = word2 + word1"
   ],
   "metadata": {
    "collapsed": false
   },
   "execution_count": 50
  },
  {
   "cell_type": "markdown",
   "source": [
    "### 1.1i:"
   ],
   "metadata": {
    "collapsed": false
   }
  },
  {
   "cell_type": "code",
   "outputs": [],
   "source": [
    "##SNIPPET\n",
    "a = 10\n",
    "b = 5\n",
    "is_greater = a > b"
   ],
   "metadata": {
    "collapsed": false
   }
  },
  {
   "cell_type": "markdown",
   "source": [
    "### 1.1j:"
   ],
   "metadata": {
    "collapsed": false
   }
  },
  {
   "cell_type": "code",
   "outputs": [],
   "source": [
    "##SNIPPET\n",
    "x = 3\n",
    "y = 3.0\n",
    "statement = x > y \n",
    "statement = y >= x"
   ],
   "metadata": {
    "collapsed": false
   },
   "execution_count": 37
  },
  {
   "cell_type": "markdown",
   "source": [
    "### 1.1k:"
   ],
   "metadata": {
    "collapsed": false
   }
  },
  {
   "cell_type": "code",
   "outputs": [],
   "source": [
    "##SNIPPET\n",
    "count = 5\n",
    "word = 'take'\n",
    "song = word * count"
   ],
   "metadata": {
    "collapsed": false
   },
   "execution_count": 41
  },
  {
   "cell_type": "markdown",
   "metadata": {},
   "source": [
    "## Exercise 1.2: Installing Python\n",
    "\n",
    " Download and install Python on your computer and follow the instructions on screen. \n",
    " \n",
    "1. Download Python:\n",
    "   -    For Windows: [Python Downloads](https://www.python.org/downloads/windows/) page.\n",
    "      - For MacOS: [Python Downloads](https://www.python.org/downloads/mac/) page.\n",
    "   \n",
    "2. Find the latest version of Python under Stable Releases (e.g., Python 3.12.4).\n",
    "3. Click on the installer: \n",
    "-  For Windows: Click on the **Windows installer** link to download the installer e.g., (`Windows installer (64-bit)`).\n",
    "-  For MacOS: Click on the **MacOS installer** e.g., (`macOS 64-bit universal2 installer`).\n",
    "4. Once downloaded, double-click the installer file to launch it.\n",
    "5. Check the box that says **Add Python x.x to PATH** and click **Install Now**.\n",
    "6. Python should now be installed on your computer. \n",
    " \n",
    "If you have not yet installed Python, or you have problems opening IDLE, you can conduct the exercises online:\n",
    " - [Online Python](https://pythonhow.com/python-shell)\n",
    " - [W3Schools Try Python](https://www.w3schools.com/python/trypython.asp?filename=demo_default)\n"
   ]
  },
  {
   "cell_type": "markdown",
   "metadata": {
    "id": "qhB67Hc4ceml"
   },
   "source": [
    "## 1.3: Running Python code interactively using IDLE\n",
    "\n",
    "Using Windows:\n",
    "1. **Open Start Menu**:\n",
    "   - Click on the **Start** button (Windows icon) at the bottom-left corner of your screen.\n",
    "   \n",
    "2. **Search for IDLE**:\n",
    "   - In the search bar, type **IDLE**.\n",
    "\n",
    "3. **Launch IDLE**:\n",
    "   - Click on **IDLE (Python 3.x)** from the search results.\n",
    "\n",
    "Using MacOS:\n",
    "1. **Open Finder**:\n",
    "   - Click on the **Finder** icon in the Dock.\n",
    "\n",
    "2. **Navigate to Applications**:\n",
    "   - In the Finder sidebar, click on **Applications**.\n",
    "\n",
    "3. **Find Python Folder**:\n",
    "   - Open the **Python 3.x** folder.\n",
    "\n",
    "4. **Launch IDLE**:\n",
    "   - Double-click on **IDLE**.\n"
   ]
  },
  {
   "cell_type": "markdown",
   "metadata": {
    "id": "lmjE7RctcYNa"
   },
   "source": [
    "## Exercise 1.4: First meeting with Python in IDLE\n",
    "\n",
    "Make sure you have followed the instructions from the previous exercise and that IDLE is open on your computer. Follow the instructions below:"
   ]
  },
  {
   "cell_type": "code",
   "execution_count": 51,
   "metadata": {
    "ExecuteTime": {
     "end_time": "2024-07-08T12:05:49.504414Z",
     "start_time": "2024-07-08T12:05:49.471655Z"
    }
   },
   "outputs": [],
   "source": [
    "##INFO\n",
    "info_dict = {\"name\": \"First meeting with Python in IDLE\",\n",
    "             \"num_exercise\": \"1.4\",\n",
    "             \"author\": \"aulho\",\n",
    "             \"source\": \"new_original_content\",\n",
    "             \"difficulty\": 1,\n",
    "             \"type\": \"1d\",\n",
    "             \"is_advanced\": False,\n",
    "             \"is_coding_drill\": False}\n",
    "utils.assert_info_dict_format(info_dict)"
   ]
  },
  {
   "cell_type": "markdown",
   "metadata": {
    "id": "ekLPZyDHq75D"
   },
   "source": [
    "### 1.4a: \n",
    "- Enter: `a = 3`\n",
    "- Use the `print` statement to check that the value of `a` is indeed `3`.\n",
    "- Enter `a + 2`.\n",
    "- Check the value of `a` again.\n",
    "- Enter `a = a + 2`.\n",
    "- Check the value of `a` one more time."
   ]
  },
  {
   "cell_type": "markdown",
   "source": [
    "### 1.4b: \n",
    "- Create a new variable `x` with the value `4`.\n",
    "- Create a new variable `y` with the value `7`.\n",
    "- Create a new variable `z` and set its value to the sum of `x` and `y`.\n",
    "- Print the variable `z` to ensure that its value is in fact `11`."
   ],
   "metadata": {
    "collapsed": false
   }
  },
  {
   "cell_type": "markdown",
   "source": [
    "### 1.4c: \n",
    "- Declare a variable `name` and assign your own name as a string to it. Then, assign the value `25` as an integer to the same variable. Explain what happens and why."
   ],
   "metadata": {
    "collapsed": false
   }
  },
  {
   "cell_type": "markdown",
   "source": [
    "### 1.4d: \n",
    "- Assign the value `8` to a variable `num`. Add `4` to `num` and store the result back in `num`."
   ],
   "metadata": {
    "collapsed": false
   }
  },
  {
   "cell_type": "markdown",
   "source": [
    "## Exercise 1.4e\n",
    "\n",
    "Consider the code given below. Execute commands one by one in IDLE. After each print command, observe what got printed out. Are the results as you expected?"
   ],
   "metadata": {
    "collapsed": false
   }
  },
  {
   "cell_type": "code",
   "outputs": [
    {
     "name": "stdout",
     "output_type": "stream",
     "text": [
      "168\n",
      "0.8571428571428571\n",
      "178\n",
      "18.567\n",
      "Anders\n",
      "AndersAnders\n"
     ]
    }
   ],
   "source": [
    "# SNIPPET\n",
    "a = 12\n",
    "b = 14\n",
    "print(a * b)\n",
    "print(a / b)\n",
    "\n",
    "one_number = 178\n",
    "print(one_number)\n",
    "\n",
    "one_number = 18.567\n",
    "print(one_number)\n",
    "\n",
    "name = 'Anders'\n",
    "print(name)\n",
    "print(2 * name)"
   ],
   "metadata": {
    "collapsed": false,
    "ExecuteTime": {
     "end_time": "2024-07-18T10:30:35.736196Z",
     "start_time": "2024-07-18T10:30:35.700599Z"
    }
   },
   "execution_count": 81
  },
  {
   "cell_type": "markdown",
   "source": [
    "## Exercise 1.5: Creating and running a Python script in IDLE\n",
    "\n",
    "1. Under the \"File\" tab click on option \"New File\" or use the hot-key `Ctrl+N`.\n",
    "2. A new window named `untitled` will open.\n",
    "3. Enter following piece of code into the newly opened document: `print(\"Hello World!\")`\n",
    "4. Hit `Ctrl+S` to save the file.\n",
    "5. Choose a filename and a location to store the file. The name and location does not matter, however, be careful to keep the `.py` file extension.\n",
    "5. To run the file, under the \"Run\" tab click on the option \"Run Module\" or use the hot-key `F5`.\n",
    "6. In the first window, it should now show `\"Hello World!\"`."
   ],
   "metadata": {
    "collapsed": false
   }
  },
  {
   "cell_type": "markdown",
   "source": [
    "### Exercise 1.5a: Revisiting Exercise 1.1\n",
    "\n",
    "Use Python to check that you have correctly determined the values of the variables in Exercise 1.1. Use `print` statements to check the values of the variables. You can either write a Python scripts to be executed to keep your solution for later, or you can use check each of the exercises manually using interactive mode.\n",
    "\n",
    "Do you get the same answers as in Exercise 1.1?"
   ],
   "metadata": {
    "collapsed": false
   }
  },
  {
   "cell_type": "markdown",
   "source": [
    "## Exercise 1.6: Basic in-built functions in Python"
   ],
   "metadata": {
    "collapsed": false
   }
  },
  {
   "cell_type": "markdown",
   "source": [
    "There are many in-built functions in Python which can perform various operations. For now, we will consider single input functions such as `abs`, `round` and `print`. You can refer to all the in-built functions in Python online at [w3schools.com](https://www.w3schools.com/python/python_ref_functions.asp) or [python.org](https://docs.python.org/3/library/functions.html)."
   ],
   "metadata": {
    "collapsed": false
   }
  },
  {
   "cell_type": "code",
   "outputs": [],
   "source": [
    "##INFO\n",
    "info_dict = {\"name\": \"Basic in-built functions in Python\",\n",
    "             \"num_exercise\": \"1.6\",\n",
    "             \"author\": \"aulho\",\n",
    "             \"source\": \"new_original_content\",\n",
    "             \"difficulty\": 2,\n",
    "             \"type\": \"1a\",\n",
    "             \"is_advanced\": False,\n",
    "             \"is_coding_drill\": False}\n",
    "utils.assert_info_dict_format(info_dict)"
   ],
   "metadata": {
    "collapsed": false
   },
   "execution_count": 27
  },
  {
   "cell_type": "markdown",
   "source": [
    "### Exercise 1.6a: Playing with in-built functions \n",
    "\n",
    "Consider the pieces of code in the following and explain what happens at each line. Use Python to verify your reasoning using either interactive mode in IDLE or using a script."
   ],
   "metadata": {
    "collapsed": false
   }
  },
  {
   "cell_type": "code",
   "execution_count": 57,
   "metadata": {
    "ExecuteTime": {
     "end_time": "2024-07-08T14:27:48.436820Z",
     "start_time": "2024-07-08T14:27:48.411262Z"
    }
   },
   "outputs": [
    {
     "name": "stdout",
     "output_type": "stream",
     "text": [
      "2.8\n"
     ]
    }
   ],
   "source": [
    "##SNIPPET\n",
    "a = -5\n",
    "b = 2.2\n",
    "result = abs(a + b)  # What happens here?\n",
    "print(result)\n"
   ]
  },
  {
   "cell_type": "markdown",
   "source": [
    "### Exercise 1.6b:"
   ],
   "metadata": {
    "collapsed": false
   }
  },
  {
   "cell_type": "code",
   "outputs": [
    {
     "name": "stdout",
     "output_type": "stream",
     "text": [
      "False\n"
     ]
    }
   ],
   "source": [
    "##SNIPPET\n",
    "x = 2.0\n",
    "y = 2.2\n",
    "result = round(y) > round(x)  # What happens here?\n",
    "print(result)"
   ],
   "metadata": {
    "collapsed": false,
    "ExecuteTime": {
     "end_time": "2024-07-08T14:27:50.044022Z",
     "start_time": "2024-07-08T14:27:50.009252Z"
    }
   },
   "execution_count": 58
  },
  {
   "cell_type": "markdown",
   "source": [
    "### Exercise 1.6c:"
   ],
   "metadata": {
    "collapsed": false
   }
  },
  {
   "cell_type": "code",
   "outputs": [
    {
     "name": "stdout",
     "output_type": "stream",
     "text": [
      "15\n"
     ]
    }
   ],
   "source": [
    "##SNIPPET\n",
    "i = 7\n",
    "y = 2\n",
    "i = i + y**round(abs(-2.6))  # What happens here?\n",
    "print(i)"
   ],
   "metadata": {
    "collapsed": false,
    "ExecuteTime": {
     "end_time": "2024-07-08T14:27:28.326642Z",
     "start_time": "2024-07-08T14:27:28.291598Z"
    }
   },
   "execution_count": 56
  },
  {
   "cell_type": "markdown",
   "source": [
    "### Exercise 1.6d:"
   ],
   "metadata": {
    "collapsed": false
   }
  },
  {
   "cell_type": "code",
   "outputs": [
    {
     "name": "stdout",
     "output_type": "stream",
     "text": [
      "5.0\n",
      "5\n"
     ]
    }
   ],
   "source": [
    "##SNIPPET\n",
    "val1 = 2.0\n",
    "val2 = 10.0\n",
    "int_or_float = 10 / 2  # What happens here?\n",
    "print(int_or_float)\n",
    "int_or_float = 10 // 2  # What happens here?\n",
    "print(int_or_float)"
   ],
   "metadata": {
    "collapsed": false,
    "ExecuteTime": {
     "end_time": "2024-07-08T14:34:05.524954Z",
     "start_time": "2024-07-08T14:34:05.500047Z"
    }
   },
   "execution_count": 74
  },
  {
   "cell_type": "markdown",
   "source": [
    "### Exercise 1.6e:"
   ],
   "metadata": {
    "collapsed": false
   }
  },
  {
   "cell_type": "code",
   "outputs": [
    {
     "name": "stdout",
     "output_type": "stream",
     "text": [
      "125.0\n"
     ]
    }
   ],
   "source": [
    "c = int(123.45) + 1 + float(1) # What happens here?\n",
    "print(c)"
   ],
   "metadata": {
    "collapsed": false,
    "ExecuteTime": {
     "end_time": "2024-07-08T14:36:10.685494Z",
     "start_time": "2024-07-08T14:36:10.679625Z"
    }
   },
   "execution_count": 8
  },
  {
   "cell_type": "markdown",
   "metadata": {
    "id": "umk5a6H5ehWh"
   },
   "source": [
    "## Exercise 1.7: Fun with Python"
   ]
  },
  {
   "cell_type": "code",
   "execution_count": 7,
   "metadata": {},
   "outputs": [],
   "source": [
    "##INFO\n",
    "info_dict = {\"name\": \"Fun with Python\",\n",
    "             \"num_exercise\": \"1.7\",\n",
    "             \"author\": \"aulho\",\n",
    "             \"source\": \"new_original_content\",\n",
    "             \"difficulty\": 1,\n",
    "             \"type\": \"1b\",\n",
    "             \"is_advanced\": False,\n",
    "             \"is_coding_drill\": False}\n",
    "utils.assert_info_dict_format(info_dict)"
   ]
  },
  {
   "cell_type": "markdown",
   "source": [
    "## Exercise 1.8: Beatboxing with Python (Advanced)\n",
    "\n",
    "In this exercise, you're now going to learn Python how to beatbox! However, to keep things simple, we'll start by considering only three sounds: \"Boom\", \"Tick\" and \"Ka\". These three sounds will be the basis of the rhythms you'll work with.   \n",
    "\n",
    "A beatbox rhythm can be considered as a string containing a combination of sounds where each sound is separated by a dash (`-`) character. For instance `\"Boom-Tick-Ka\"` is a beatbox rhythm. Before following on with the first exercise, start by entering the sounds \"Boom\", \"Tick\" and \"Ka\" using input() and save each string to a variable:"
   ],
   "metadata": {
    "collapsed": false
   }
  },
  {
   "cell_type": "code",
   "outputs": [],
   "source": [
    "# SNIPPET\n",
    "# Start by entering the sounds for your beat-box song using input()\n",
    "sound1 = input(\"Enter the first sound: \")\n",
    "sound2 = input(\"Enter the second sound: \")\n",
    "sound3 = input(\"Enter the third sound: \")"
   ],
   "metadata": {
    "collapsed": false,
    "ExecuteTime": {
     "end_time": "2024-07-18T08:39:03.097708Z",
     "start_time": "2024-07-18T08:38:58.544944Z"
    }
   },
   "execution_count": 64
  },
  {
   "cell_type": "markdown",
   "source": [
    "### Exercise 1.8a: Creating a rhythm\n",
    "\n",
    "To create the dashes in each rhythm, we'll use the separation argument `sep` in `print`. Parsing a string as the argument `sep` will make Python print the separation string in between the other strings parsed to `print`.\n",
    "\n",
    "For instance: `print(\"cats\",\"dogs\", sep=\" and \")` will print `\"cats and dogs`.  \n",
    "In the same way, adding a dash character (`-`) as the separation will result in a dash between each string."
   ],
   "metadata": {
    "collapsed": false
   }
  },
  {
   "cell_type": "code",
   "outputs": [
    {
     "name": "stdout",
     "output_type": "stream",
     "text": [
      "Boom-Ka\n"
     ]
    }
   ],
   "source": [
    "# SNIPPET\n",
    "# Try printing the basic rhythm: \"Boom-Ka\"\n",
    "print(sound1, sound3, sep='-')"
   ],
   "metadata": {
    "collapsed": false,
    "ExecuteTime": {
     "end_time": "2024-07-18T08:39:05.381958Z",
     "start_time": "2024-07-18T08:39:05.327080Z"
    }
   },
   "execution_count": 65
  },
  {
   "cell_type": "markdown",
   "source": [
    "### Exercise 1.8b: Creating your own rhythm"
   ],
   "metadata": {
    "collapsed": false
   }
  },
  {
   "cell_type": "markdown",
   "source": [
    "Print the beatbox rhythm `\"Boom-Tick-Ka-Tick\"` using the sound variables and the `sep` argument using `print`:"
   ],
   "metadata": {
    "collapsed": false
   }
  },
  {
   "cell_type": "code",
   "outputs": [
    {
     "name": "stdout",
     "output_type": "stream",
     "text": [
      "Boom-Tick-Ka-Tick\n"
     ]
    }
   ],
   "source": [
    "# SOLUTION\n",
    "# Try printing a basic rhythm\n",
    "print(sound1, sound2, sound3, sound2, sep='-')"
   ],
   "metadata": {
    "collapsed": false,
    "ExecuteTime": {
     "end_time": "2024-07-18T08:43:42.065036Z",
     "start_time": "2024-07-18T08:43:42.033441Z"
    }
   },
   "execution_count": 67
  },
  {
   "cell_type": "markdown",
   "source": [
    "We now want to print each rhythm on the same line. To do this, we'll use the argument `end` of `print`. Parsing a string as the argument `end` will make Python add this string add the end. By default, `print` will add a new line at the end of every print statement. However, using the `end` argument will overwrite this. "
   ],
   "metadata": {
    "collapsed": false
   }
  },
  {
   "cell_type": "markdown",
   "source": [
    "### Exercise 1.8c: Printing rhythms on the same line \n",
    "\n",
    "Print the rhythm from the previous exercise three times on the same line using three print statements.\n",
    "\n",
    "Hint: Use the `end` argument of `print` to keep the sounds on the same line. As an example, you can use the character `\"|\"`"
   ],
   "metadata": {
    "collapsed": false
   }
  },
  {
   "cell_type": "code",
   "outputs": [
    {
     "name": "stdout",
     "output_type": "stream",
     "text": [
      "Boom-Tick-Ka-Tick|Boom-Tick-Ka-Tick|Boom-Tick-Ka-Tick|"
     ]
    }
   ],
   "source": [
    "# SOLUTION\n",
    "print(sound1, sound2, sound3, sound2, sep='-', end='|')\n",
    "print(sound1, sound2, sound3, sound2, sep='-', end='|')\n",
    "print(sound1, sound2, sound3, sound2, sep='-', end='|')"
   ],
   "metadata": {
    "collapsed": false,
    "ExecuteTime": {
     "end_time": "2024-07-18T08:59:01.523582Z",
     "start_time": "2024-07-18T08:59:01.488186Z"
    }
   },
   "execution_count": 74
  },
  {
   "cell_type": "markdown",
   "source": [
    "### Exercise 1.8d: Adding variations\n",
    "\n",
    "For dramatic effect, we´ll now add pauses as a separation between the other sounds in the rhythms. \n",
    "Create a new string variable `pause` and use it as a separation between other sounds. \n",
    "\n",
    "Use this variable to create the following rhythm: `\"Ka-pause-Boom|Ka-pause-Boom|\"`"
   ],
   "metadata": {
    "collapsed": false
   }
  },
  {
   "cell_type": "code",
   "outputs": [
    {
     "name": "stdout",
     "output_type": "stream",
     "text": [
      "Ka-pause-Boom|Ka-pause-Boom|"
     ]
    }
   ],
   "source": [
    "# SOLUTION\n",
    "pause = input(\"Enter \\\"-pause-\\\": \")\n",
    "pause = \"-pause-\"\n",
    "\n",
    "print(sound3, sound1, sep=pause, end=\"|\")\n",
    "print(sound3, sound1, sep=pause, end=\"|\")\n"
   ],
   "metadata": {
    "collapsed": false,
    "ExecuteTime": {
     "end_time": "2024-07-18T09:07:47.672374Z",
     "start_time": "2024-07-18T09:07:44.673832Z"
    }
   },
   "execution_count": 80
  },
  {
   "cell_type": "code",
   "outputs": [
    {
     "name": "stdout",
     "output_type": "stream",
     "text": [
      "Ka-pause-Boom|Ka-pause-Boom|"
     ]
    }
   ],
   "source": [
    "\n",
    "clap = input(\"Enter \\\"clap\\\": \")\n",
    "sep = input(\"Enter \\\"-\\\": \")\n"
   ],
   "metadata": {
    "collapsed": false,
    "ExecuteTime": {
     "end_time": "2024-07-18T09:06:22.870333Z",
     "start_time": "2024-07-18T09:06:22.848355Z"
    }
   },
   "execution_count": 77
  },
  {
   "cell_type": "code",
   "outputs": [
    {
     "name": "stdout",
     "output_type": "stream",
     "text": [
      "clap-Boom-clap-Boom-clap\n",
      "Boom-Tick-Tick-Tick-Ka\n"
     ]
    }
   ],
   "source": [
    "print(clap, clap, clap, sep=sep+sound1+sep)\n",
    "print(sound1, sound2, sound3, sep=sep+sound2+sep)"
   ],
   "metadata": {
    "collapsed": false,
    "ExecuteTime": {
     "end_time": "2024-07-18T08:20:01.013527Z",
     "start_time": "2024-07-18T08:20:00.990432Z"
    }
   },
   "execution_count": 59
  },
  {
   "cell_type": "markdown",
   "source": [
    "## QUIZ"
   ],
   "metadata": {
    "collapsed": false
   }
  },
  {
   "cell_type": "markdown",
   "metadata": {},
   "source": [
    "1.    What will be stored in the variable `apple_pie`?\n",
    "```python\n",
    "apple_pie = 'apple' + 'pie'\n",
    "```\n",
    "  *   a) `'applepie'`\n",
    "  *   b) `'apple pie'`\n",
    "  *   c) `'apple_pie'`\n",
    "  *   d) `apple+pie`\n",
    "\n",
    "2.    What will be printed?\n",
    "```python\n",
    "s = '   strip me   '\n",
    "print(s.strip())\n",
    "```\n",
    "  *   a) 'strip me '\n",
    "  *   b) 'strip me'\n",
    "  *   c) '   strip me   '\n",
    "  *   d) 'stripme'\n",
    "\n",
    "3.    What does the following code output?\n",
    "```python\n",
    "s = 'Python programming'\n",
    "s.find('prog')\n",
    "```\n",
    "  *   a) -1\n",
    "  *   b) 6\n",
    "  *   c) 7\n",
    "  *   d) 11\n",
    "\n",
    "4.    What will be printed?\n",
    "```python\n",
    "s = 'abcdefgh'\n",
    "print(s[::2])\n",
    "```\n",
    "  *   a) 'bdfh'\n",
    "  *   b) 'gh'\n",
    "  *   c) 'ab'\n",
    "  *   d) 'aceg'\n",
    "\n",
    "5.    What will be printed?\n",
    "```python\n",
    "s = 'python'\n",
    "print(s[2:5])\n",
    "```\n",
    "  *   a) 'tho'\n",
    "  *   b) 'pyth'\n",
    "  *   c) 'pyt'\n",
    "  *   d) 'ytho'\n",
    "\n",
    "6.    What does the function `len()` do when applied to a string?\n",
    "\n",
    "  *   a) The number of words in the string\n",
    "  *   b) The number of characters in the string\n",
    "  *   c) The number of lines in the string\n",
    "  *   d) The number of alphabet letters in the string\n",
    "\n",
    "7.    What does the following code output?\n",
    "```python\n",
    "'matlab'>'python'\n",
    "```\n",
    "  *   a) `'matlab>python'`\n",
    "  *   b) `TypeError: unsupported operand type(s) for >: 'str' and 'str'`\n",
    "  *   c) `True`\n",
    "  *   d) `False`\n",
    "\n",
    "8.    What is stored in the variable `my_string` when the code is run?\n",
    "```python\n",
    "my_string = 'ababa_aba'.replace('aba', 'ccc')\n",
    "```\n",
    "  *   a) `'ababa_ccc'`\n",
    "  *   b) `'abccc_ccc'`\n",
    "  *   c) `'ccc_ccc'`\n",
    "  *   d) `'cccba_ccc'`\n",
    "\n",
    "9.    Fill in the blank. What is the missing format specifier to print `1/7 is approximately 14.2857%`?\n",
    "```python\n",
    "print(f'1/7 is approximately {100/7:____}%')\n",
    "```\n",
    "  *   a) `p`\n",
    "  *   b) `2.4f`\n",
    "  *   c) `4f`\n",
    "  *   d) `02.4d`\n",
    "\n",
    "10.    What will the variable `my_string` contain after the following code is executed?\n",
    "```python\n",
    "my_string = 'Python Programming'.replace('P', 'p', 1)\n",
    "```\n",
    "  *   a) `'Pythonn Programming'`\n",
    "  *   b) `'python programming'`\n",
    "  *   c) `'python Programming'`\n",
    "  *   d) `'Python Programming'`\n",
    "\n",
    "11.    which is NOT a valid string method?\n",
    "\n",
    "  *   a) `some_string.replace()`\n",
    "  *   b) `some_string.find()`\n",
    "  *   c) `some_string.upper()`\n",
    "  *   d) `some_string.remove()`\n",
    "\n",
    "12.    Which line of code will throw an error?\n",
    "\n",
    "  *   a) `'1234' + 5`\n",
    "  *   b) `'1234' * 5`\n",
    "  *   c) `'1234' < '5'`\n",
    "  *   d) `'1234' + '5'`"
   ]
  },
  {
   "cell_type": "markdown",
   "metadata": {},
   "source": []
  }
 ],
 "metadata": {
  "colab": {
   "collapsed_sections": [
    "_SzI_n75cD_I",
    "SidQmIrLc-dr",
    "iL-GnhKJyBca"
   ],
   "provenance": [],
   "toc_visible": true
  },
  "kernelspec": {
   "name": "python3",
   "language": "python",
   "display_name": "Python 3 (ipykernel)"
  },
  "language_info": {
   "codemirror_mode": {
    "name": "ipython",
    "version": 3
   },
   "file_extension": ".py",
   "mimetype": "text/x-python",
   "name": "python",
   "nbconvert_exporter": "python",
   "pygments_lexer": "ipython3",
   "version": "3.1.-1"
  }
 },
 "nbformat": 4,
 "nbformat_minor": 0
}
