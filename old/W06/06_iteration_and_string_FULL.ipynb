{
 "cells": [
  {
   "cell_type": "markdown",
   "metadata": {
    "id": "PVMZXrYXboNB"
   },
   "source": [
    "# W6: Iteration and String"
   ]
  },
  {
   "cell_type": "markdown",
   "metadata": {},
   "source": [
    " TODO:\n",
    " - Fix subexercise reformatting\n",
    " - reformat all exercises to same nice format\n",
    " - add python keyword to appropriate blocks of code\n",
    " - add more iteration to group exercise: e.g. loop over int variables to satisfy eq."
   ]
  },
  {
   "cell_type": "code",
   "execution_count": 8,
   "metadata": {},
   "outputs": [
    {
     "data": {
      "text/plain": [
       "'/home/jloch/Desktop/CP2024/old/W06'"
      ]
     },
     "execution_count": 8,
     "metadata": {},
     "output_type": "execute_result"
    }
   ],
   "source": []
  },
  {
   "cell_type": "code",
   "execution_count": 5,
   "metadata": {},
   "outputs": [
    {
     "name": "stdout",
     "output_type": "stream",
     "text": [
      "The autoreload extension is already loaded. To reload it, use:\n",
      "  %reload_ext autoreload\n"
     ]
    },
    {
     "ename": "NameError",
     "evalue": "name '__file__' is not defined",
     "output_type": "error",
     "traceback": [
      "\u001b[0;31m---------------------------------------------------------------------------\u001b[0m",
      "\u001b[0;31mNameError\u001b[0m                                 Traceback (most recent call last)",
      "Cell \u001b[0;32mIn[5], line 5\u001b[0m\n\u001b[1;32m      3\u001b[0m \u001b[38;5;66;03m#add the parent folder to the path\u001b[39;00m\n\u001b[1;32m      4\u001b[0m \u001b[38;5;28;01mimport\u001b[39;00m \u001b[38;5;21;01msys\u001b[39;00m\u001b[38;5;241m,\u001b[39m \u001b[38;5;21;01mos\u001b[39;00m\n\u001b[0;32m----> 5\u001b[0m sys\u001b[38;5;241m.\u001b[39mpath\u001b[38;5;241m.\u001b[39mappend(os\u001b[38;5;241m.\u001b[39mpath\u001b[38;5;241m.\u001b[39mdirname(os\u001b[38;5;241m.\u001b[39mpath\u001b[38;5;241m.\u001b[39mdirname(os\u001b[38;5;241m.\u001b[39mpath\u001b[38;5;241m.\u001b[39mabspath(\u001b[38;5;18;43m__file__\u001b[39;49m))))\n\u001b[1;32m      6\u001b[0m \u001b[38;5;66;03m#print the paths\u001b[39;00m\n\u001b[1;32m      7\u001b[0m \u001b[38;5;28mprint\u001b[39m(sys\u001b[38;5;241m.\u001b[39mpath)\n",
      "\u001b[0;31mNameError\u001b[0m: name '__file__' is not defined"
     ]
    }
   ],
   "source": [
    "%load_ext autoreload\n",
    "%autoreload 2\n",
    "\n",
    "import utils"
   ]
  },
  {
   "cell_type": "markdown",
   "metadata": {},
   "source": [
    "## Exercise 6.1: Playing with strings (Coding Drill)"
   ]
  },
  {
   "cell_type": "code",
   "execution_count": 5,
   "metadata": {},
   "outputs": [],
   "source": [
    "##INFO\n",
    "info_dict = {\"name\": \"Playing with strings\",\n",
    "             \"num_exercise\": \"6.1\",\n",
    "             \"author\": \"jloch\",\n",
    "             \"source\": \"new_original_content\",\n",
    "             \"difficulty\": 2,\n",
    "             \"type\": \"1abc\",\n",
    "             \"is_advanced\": False,\n",
    "             \"is_coding_drill\": True}\n",
    "utils.assert_info_dict_format(info_dict)"
   ]
  },
  {
   "cell_type": "markdown",
   "metadata": {},
   "source": []
  },
  {
   "cell_type": "markdown",
   "metadata": {},
   "source": [
    "### 6.1a: Printing a string\n",
    "Consider the following code that prints the message hello world `\"Hello world!\"` in python. Copy and run it, making sure you see the message."
   ]
  },
  {
   "cell_type": "code",
   "execution_count": null,
   "metadata": {},
   "outputs": [],
   "source": [
    "##SNIPPET\n",
    "print(\"Hello world!\")"
   ]
  },
  {
   "cell_type": "markdown",
   "metadata": {},
   "source": [
    "### 6.1b: Repeating the string 3 times\n",
    "Now modify the code to print a different string represented by the variable `msg` (e.g. `msg = \"Potato\"`), 3 times in succession on the same line.\n",
    "```\n",
    "PotatoPotatoPotato\n",
    "```\n",
    "Your implementation should also work for other values for the variable `msg` (i.e. don't write the literal string)."
   ]
  },
  {
   "cell_type": "code",
   "execution_count": 4,
   "metadata": {},
   "outputs": [
    {
     "name": "stdout",
     "output_type": "stream",
     "text": [
      "PotatoPotatoPotato\n"
     ]
    }
   ],
   "source": [
    "##SOLUTION\n",
    "msg = \"Potato\"\n",
    "print(msg+msg+msg)"
   ]
  },
  {
   "cell_type": "markdown",
   "metadata": {},
   "source": [
    "### 6.1c: Repeating a string the smart way\n",
    "There are many different ways to achieve the same thing in coding, some smarter than others. \n",
    "- Does your code work if you only modify `msg = \"Cucumber\"` to a different string?\n",
    "- Can your code handle a different number of repetitions? e.g. 5 times or `n` times, where `n` is an integer variable.\n",
    "If the answer is no, then modify your code such that it only relies on and uses what is stored in the variables `msg` and `n`.\n",
    "\n",
    "Hint: Multiplying a string with an integer repeats the string (e.g. `2*\"boom\"` is `\"boomboom\"`)"
   ]
  },
  {
   "cell_type": "code",
   "execution_count": 57,
   "metadata": {},
   "outputs": [
    {
     "name": "stdout",
     "output_type": "stream",
     "text": [
      "PotatoPotatoPotato\n"
     ]
    }
   ],
   "source": [
    "##SOLUTION\n",
    "msg = \"Potato\"\n",
    "print(msg*3)"
   ]
  },
  {
   "cell_type": "markdown",
   "metadata": {},
   "source": [
    "### 6.1d: Repeating with newlines\n",
    "Can you modify you code such that it also switches lines between each repetition? I.e. you should see\n",
    "```\n",
    "Potato\n",
    "Potato\n",
    "Potato\n",
    "```\n",
    "Hint: The newline character `\\n` can be used to switch lines within a string."
   ]
  },
  {
   "cell_type": "code",
   "execution_count": 7,
   "metadata": {},
   "outputs": [
    {
     "name": "stdout",
     "output_type": "stream",
     "text": [
      "Potato\n",
      "Potato\n",
      "Potato\n",
      "\n"
     ]
    }
   ],
   "source": [
    "##SOLUTION\n",
    "print((\"Potato\"+\"\\n\")*3)"
   ]
  },
  {
   "cell_type": "markdown",
   "metadata": {},
   "source": [
    "### 6.1e: printing with repetition number\n",
    "Again, print the message `msg` `n` times but this time also print the repetition number starting from 0. For example, if `msg=\"Tomato\"` and `n=3` then you should print:\n",
    "```\n",
    "Tomato 0\n",
    "Tomato 1\n",
    "Tomato 2\n",
    "```\n",
    "Hint: Consider using a loop."
   ]
  },
  {
   "cell_type": "code",
   "execution_count": 8,
   "metadata": {},
   "outputs": [
    {
     "name": "stdout",
     "output_type": "stream",
     "text": [
      "Tomato 0\n",
      "Tomato 1\n",
      "Tomato 2\n"
     ]
    }
   ],
   "source": [
    "##SOLUTION\n",
    "n = 3\n",
    "msg = \"Tomato\"\n",
    "for i in range(n):\n",
    "    print(msg,i)"
   ]
  },
  {
   "cell_type": "markdown",
   "metadata": {},
   "source": [
    "### 6.1f: Triangle string\n",
    "Now write code which prints a messsage one additional character at a time, constructing a triangle of letters. If `msg=\"ABC\"` then you should print\n",
    "```\n",
    "A\n",
    "AB\n",
    "ABC\n",
    "```\n",
    "\n",
    "Hint: to print the first k characters of a string variable `msg` you should use the indexing `print(msg[:k+1])`."
   ]
  },
  {
   "cell_type": "code",
   "execution_count": 13,
   "metadata": {},
   "outputs": [
    {
     "name": "stdout",
     "output_type": "stream",
     "text": [
      "T\n",
      "To\n",
      "Tom\n",
      "Toma\n",
      "Tomat\n",
      "Tomato\n"
     ]
    }
   ],
   "source": [
    "##SOLUTION\n",
    "msg = \"Tomato\"\n",
    "for i in range(len(msg)):\n",
    "        print(msg[:i+1])"
   ]
  },
  {
   "cell_type": "markdown",
   "metadata": {},
   "source": [
    "### 6.1g: Symmetrical triangle\n",
    "Modify your from the previous exercise to also print a decreasing sequence of strings in the same manner. If `msg=\"ABC\"` then you should print\n",
    "```\n",
    "A\n",
    "AB\n",
    "ABC\n",
    "AB\n",
    "A\n",
    "```"
   ]
  },
  {
   "cell_type": "code",
   "execution_count": 14,
   "metadata": {},
   "outputs": [
    {
     "name": "stdout",
     "output_type": "stream",
     "text": [
      "A\n",
      "AB\n",
      "ABC\n",
      "AB\n",
      "A\n"
     ]
    }
   ],
   "source": [
    "##SOLUTION\n",
    "msg = \"ABC\"\n",
    "for i in range(len(msg)):\n",
    "    print(msg[:i+1])\n",
    "for i in range(len(msg)-2,-1,-1):\n",
    "    print(msg[:i+1])"
   ]
  },
  {
   "cell_type": "markdown",
   "metadata": {},
   "source": [
    "### 6.1h: Parallelogram string (Advanced)\n",
    "Now try to write code which keeps the last letters when shortening the string, instead of keeping the first letters. It should look like a parallelogram, i.e.\n",
    "```\n",
    "A\n",
    "AB\n",
    "ABC\n",
    " BC\n",
    "  C\n",
    "```\n",
    "Hint: To get the last 3 letters of a string you can use `potato[-3:]=\"ato\"`\n",
    "\n",
    "Hint: You can add e.g. 5 spaces to the beginning of string by multiplying a space string `\" \"` by 5 and adding them `\" \"*5+\"potato\"`"
   ]
  },
  {
   "cell_type": "code",
   "execution_count": 15,
   "metadata": {},
   "outputs": [
    {
     "name": "stdout",
     "output_type": "stream",
     "text": [
      "W\n",
      "Wa\n",
      "Waa\n",
      "Waaa\n",
      "Waaaa\n",
      "Waaaaa\n",
      "Waaaaau\n",
      "Waaaaauw\n",
      "Waaaaauw\n",
      " aaaaauw\n",
      "  aaaauw\n",
      "   aaauw\n",
      "    aauw\n",
      "     auw\n",
      "      uw\n",
      "       w\n"
     ]
    }
   ],
   "source": [
    "##SOLUTION\n",
    "msg = \"Waaaaauw\"\n",
    "for i in range(len(msg)):\n",
    "    print(msg[:i+1])\n",
    "for i in range(len(msg)):\n",
    "    print(\" \"*i+msg[i-len(msg):])"
   ]
  },
  {
   "cell_type": "markdown",
   "metadata": {},
   "source": [
    "### 6.1h: A single string (Advanced)\n",
    "\n",
    "Redo the last exercise, using `print()` only once."
   ]
  },
  {
   "cell_type": "code",
   "execution_count": 56,
   "metadata": {},
   "outputs": [
    {
     "name": "stdout",
     "output_type": "stream",
     "text": [
      "W\n",
      "Wa\n",
      "Waa\n",
      "Waaa\n",
      "Waaaa\n",
      "Waaaaa\n",
      "Waaaaau\n",
      "Waaaaauw\n",
      "Waaaaauw\n",
      " aaaaauw\n",
      "  aaaauw\n",
      "   aaauw\n",
      "    aauw\n",
      "     auw\n",
      "      uw\n",
      "       w\n"
     ]
    }
   ],
   "source": [
    "##SOLUTION\n",
    "msg = \"Waaaaauw\"\n",
    "\n",
    "s = \"\"\n",
    "for i in range(len(msg)):\n",
    "    s += msg[:i+1] + \"\\n\"\n",
    "for i in range(len(msg)):\n",
    "    s += \" \"*i+msg[i-len(msg):] + \"\\n\"\n",
    "s = s[:-1]\n",
    "print(s)"
   ]
  },
  {
   "cell_type": "markdown",
   "metadata": {
    "id": "I6gxVD1DbBjR"
   },
   "source": [
    "## Exercise 6.2: nice sign"
   ]
  },
  {
   "cell_type": "code",
   "execution_count": 3,
   "metadata": {},
   "outputs": [],
   "source": [
    "##INFO\n",
    "info_dict = {\"name\": \"Nice sign\",\n",
    "             \"num_exercise\": \"6.2\",\n",
    "             \"author\": \"jloch\",\n",
    "             \"source\": \"modified_cp23\",\n",
    "             \"difficulty\": 3,\n",
    "             \"type\": \"1b\",\n",
    "             \"is_advanced\": False,\n",
    "             \"is_coding_drill\": False}\n",
    "utils.assert_info_dict_format(info_dict)"
   ]
  },
  {
   "cell_type": "markdown",
   "metadata": {},
   "source": [
    "### 6.2a: Last bug\n",
    "Write a function `last_bug()` which prints a \"sign\" displaying the text `I have written my last bug` "
   ]
  },
  {
   "cell_type": "code",
   "execution_count": 25,
   "metadata": {},
   "outputs": [],
   "source": [
    "##SOLUTION\n",
    "def last_bug():\n",
    "    print(\"------------------------------\")\n",
    "    print(\"| I have written my last bug |\")\n",
    "    print(\"------------------------------\")"
   ]
  },
  {
   "cell_type": "code",
   "execution_count": 26,
   "metadata": {},
   "outputs": [
    {
     "name": "stdout",
     "output_type": "stream",
     "text": [
      "------------------------------\n",
      "| I have written my last bug |\n",
      "------------------------------\n"
     ]
    }
   ],
   "source": [
    "##REPL\n",
    "last_bug()"
   ]
  },
  {
   "cell_type": "markdown",
   "metadata": {
    "id": "qhB67Hc4ceml"
   },
   "source": [
    "### 6.2b: Variable message\n",
    "\n",
    "Construct a function which writes a nice sign for any message `nice_sign(msg)`. Note that the length of the borders should match messages of differing lengths."
   ]
  },
  {
   "cell_type": "code",
   "execution_count": 19,
   "metadata": {
    "colab": {
     "base_uri": "https://localhost:8080/"
    },
    "id": "LdrZXxKvbira",
    "outputId": "1d698f98-8e67-4d1c-f8e1-56032353bb29"
   },
   "outputs": [],
   "source": [
    "##SOLUTION\n",
    "def nice_sign(msg):\n",
    "    print(\"-\"*(len(msg)+4))\n",
    "    print(\"| \"+msg+\" |\")\n",
    "    print(\"-\"*(len(msg)+4))"
   ]
  },
  {
   "cell_type": "code",
   "execution_count": 22,
   "metadata": {},
   "outputs": [
    {
     "name": "stdout",
     "output_type": "stream",
     "text": [
      "----------------\n",
      "| Hello World! |\n",
      "----------------\n",
      "------------------\n",
      "| i am a sign :D |\n",
      "------------------\n"
     ]
    }
   ],
   "source": [
    "##REPL\n",
    "nice_sign(\"Hello World!\")\n",
    "nice_sign(\"i am a sign :D\")"
   ]
  },
  {
   "cell_type": "markdown",
   "metadata": {
    "id": "SidQmIrLc-dr"
   },
   "source": [
    "### 6.2c: - D=3\n"
   ]
  },
  {
   "cell_type": "markdown",
   "metadata": {
    "id": "X2Rof_oPvc2s"
   },
   "source": [
    "We are unhappy with the symbol `\"-\"` and would like the option to modify it on the fly. Take your function from exercise 6.2b and add a optional input `border_symbol`. When a parameter is followed by an equal sign and value (e.g. `border_symbol=\"-\"`) in the function definition it acts as a default value. This means we don't specify it when calling the function, it will attain it's default value."
   ]
  },
  {
   "cell_type": "code",
   "execution_count": 23,
   "metadata": {},
   "outputs": [],
   "source": [
    "##SNIPPET\n",
    "def nice_sign_with_symbol(msg,border_symbol=\"-\"):\n",
    "    ...#your code"
   ]
  },
  {
   "cell_type": "code",
   "execution_count": 24,
   "metadata": {},
   "outputs": [],
   "source": [
    "##SOLUTION\n",
    "def nice_sign_with_symbol(msg,border_symbol=\"-\"):\n",
    "    print(border_symbol*(len(msg)+4))\n",
    "    print(\"| \"+msg+\" |\")\n",
    "    print(border_symbol*(len(msg)+4))"
   ]
  },
  {
   "cell_type": "code",
   "execution_count": 27,
   "metadata": {
    "colab": {
     "base_uri": "https://localhost:8080/"
    },
    "id": "hdSgInKwbCii",
    "outputId": "57b2b055-8793-4617-d72e-929e4aeff8b7"
   },
   "outputs": [
    {
     "name": "stdout",
     "output_type": "stream",
     "text": [
      "----------------\n",
      "| Hello World! |\n",
      "----------------\n",
      "----------------\n",
      "| Hello World! |\n",
      "----------------\n",
      "****************\n",
      "| Hello World! |\n",
      "****************\n",
      "ØØØØØØØØØØØØØØØØØØØØ\n",
      "| Greetings Earth! |\n",
      "ØØØØØØØØØØØØØØØØØØØØ\n",
      "XXXXXXXXXXXXXXXXXXXXXXX\n",
      "| Salutations Planet! |\n",
      "XXXXXXXXXXXXXXXXXXXXXXX\n"
     ]
    }
   ],
   "source": [
    "##REPL\n",
    "nice_sign_with_symbol(\"Hello World!\")\n",
    "nice_sign_with_symbol(\"Hello World!\",border_symbol=\"-\")\n",
    "nice_sign_with_symbol(\"Hello World!\",border_symbol=\"*\")\n",
    "\n",
    "nice_sign_with_symbol(\"Greetings Earth!\",border_symbol=\"Ø\")\n",
    "nice_sign_with_symbol(\"Salutations Planet!\",border_symbol=\"X\")"
   ]
  },
  {
   "cell_type": "markdown",
   "metadata": {
    "id": "lmjE7RctcYNa"
   },
   "source": [
    "## Exercise 6.3: Estimate square roots"
   ]
  },
  {
   "cell_type": "code",
   "execution_count": 30,
   "metadata": {},
   "outputs": [],
   "source": [
    "##INFO\n",
    "info_dict = {\"name\": \"Estimate square roots\",\n",
    "             \"num_exercise\": \"6.3\",\n",
    "             \"author\": \"aulho,jloch\",\n",
    "             \"source\": \"new_original_content\",\n",
    "             \"difficulty\": 6,\n",
    "             \"type\": \"1d\",\n",
    "             \"is_advanced\": False,\n",
    "             \"is_coding_drill\": False}\n",
    "utils.assert_info_dict_format(info_dict)"
   ]
  },
  {
   "cell_type": "markdown",
   "metadata": {
    "id": "FhNY_5OCve--"
   },
   "source": [
    "In this exercise, you will compute the square root of a number using a simple algorithm: Newton’s method. The method is described in [Dow16], section 7.5. The method is iterative, meaning that it repeatedly applies the same operation to get closer and closer to the answer. The method is as follows:\n",
    "\n",
    "1. Start with a guess $x$\n",
    "2. Compute a new guess $y$ using the formula:\n",
    "\n",
    "$$y = \\frac{x + \\frac{a}{x}}{2}$$\n",
    "\n",
    "3. Repeat the previous step until the difference between `x` and `y` is small enough.\n"
   ]
  },
  {
   "cell_type": "markdown",
   "metadata": {
    "id": "ekLPZyDHq75D"
   },
   "source": [
    "### 6.3a: Implement single step formula\n",
    "Implement the formula which calculates the new guess $y$ given a number $a$ and an initial guess $x$, based on the following function skeleton:\n"
   ]
  },
  {
   "cell_type": "code",
   "execution_count": 31,
   "metadata": {},
   "outputs": [],
   "source": [
    "##SNIPPET\n",
    "def compute_y(a, x):\n",
    "    y=0 #YOUR_CODE_HERE\n",
    "    return y"
   ]
  },
  {
   "cell_type": "code",
   "execution_count": 63,
   "metadata": {},
   "outputs": [],
   "source": [
    "##SOLUTION\n",
    "def compute_y(a, x):\n",
    "    y = (x + (a / x))/2\n",
    "    return y"
   ]
  },
  {
   "cell_type": "code",
   "execution_count": 62,
   "metadata": {
    "colab": {
     "base_uri": "https://localhost:8080/"
    },
    "id": "tNbucOz_rem1",
    "outputId": "05049cbf-9450-4fd3-80ef-d877beb54258"
   },
   "outputs": [
    {
     "name": "stdout",
     "output_type": "stream",
     "text": [
      "Number to calculate square root of: 2\n",
      "Initial guess 2.0000:\n",
      "New guess 1.5000:\n"
     ]
    }
   ],
   "source": [
    "##REPL\n",
    "a = 2\n",
    "x = 2\n",
    "y = compute_y(a, x)\n",
    "print(\"Number to calculate square root of: %d\" % a)\n",
    "print(\"Initial guess %0.4f:\" % x)\n",
    "print(\"New guess %0.4f:\" % y)"
   ]
  },
  {
   "cell_type": "markdown",
   "metadata": {
    "id": "0xmym5xgsARb"
   },
   "source": [
    "### 6.3b: Multiple steps\n",
    "Use your solution from the previous exercise in a loop to complete Newton's method.\n",
    "\n",
    "Hint: Calculate $y$ inside a `for` or `while` loop. To make the algorithm iterative, remember to update the initial guess $x$ as the new guess $y$ inside the loop.    "
   ]
  },
  {
   "cell_type": "code",
   "execution_count": 64,
   "metadata": {},
   "outputs": [],
   "source": [
    "##SOLUTION\n",
    "def estimate_sqrt(a, n, x):\n",
    "    for i in range(n):\n",
    "        y = compute_y(a, x)\n",
    "        x = y\n",
    "    return y"
   ]
  },
  {
   "cell_type": "code",
   "execution_count": 68,
   "metadata": {
    "colab": {
     "base_uri": "https://localhost:8080/"
    },
    "id": "vrNYCGEVt-Sr",
    "outputId": "b0dde009-670a-41d0-a169-b5dcca90a206"
   },
   "outputs": [
    {
     "name": "stdout",
     "output_type": "stream",
     "text": [
      "The actual square root of 2 is 1.414214\n",
      "Our estimate is 1.414214\n"
     ]
    }
   ],
   "source": [
    "##REPL\n",
    "a = 2\n",
    "sqrt_a = a**0.5\n",
    "x = 2\n",
    "n = 10\n",
    "print(\"The actual square root of %d is %f\" % (a, sqrt_a))\n",
    "print(\"Our estimate is %f\" % estimate_sqrt(a, n, x))"
   ]
  },
  {
   "cell_type": "markdown",
   "metadata": {
    "id": "AwWG_BrGuSZF"
   },
   "source": [
    "### 6.3c: Breaking the loop\n",
    "Edit your implementation to include a minimum step size $\\epsilon$ as a parameter, which breaks the loop when the absolute difference between `x` and `y` is less than $\\epsilon$. Before you break the loop, print how many iterations were required.\n",
    "\n",
    "Hint: To calculate the absolute difference between $y$ and $x$, you can use the function `abs`."
   ]
  },
  {
   "cell_type": "code",
   "execution_count": 69,
   "metadata": {},
   "outputs": [],
   "source": [
    "##SOLUTION\n",
    "def estimate_sqrt(a, n, x, eps):\n",
    "    for i in range(n):\n",
    "        y = compute_y(a, x)\n",
    "        if abs(x - y) < eps:\n",
    "            print(\"Converged after %d iterations\" % i)\n",
    "            break\n",
    "        x = y\n",
    "    return y"
   ]
  },
  {
   "cell_type": "code",
   "execution_count": 70,
   "metadata": {
    "colab": {
     "base_uri": "https://localhost:8080/"
    },
    "id": "EVMbS5gQu7EG",
    "outputId": "9c9f66df-8b05-4b58-9525-e277298c707e"
   },
   "outputs": [
    {
     "name": "stdout",
     "output_type": "stream",
     "text": [
      "Actual square root of 31928 is 178.684079\n",
      "Converged after 11 iterations\n",
      "Estimate 178.684079\n"
     ]
    }
   ],
   "source": [
    "##REPL\n",
    "a = 31928\n",
    "sqrt_a = a**0.5\n",
    "x = 2\n",
    "n = 100\n",
    "eps = 1e-9\n",
    "print(\"Actual square root of %d is %f\" % (a, sqrt_a))\n",
    "print(\"Estimate %f\" % estimate_sqrt(a, n, x, eps))"
   ]
  },
  {
   "cell_type": "markdown",
   "metadata": {
    "id": "LiKCPw3icbGZ"
   },
   "source": [
    "## Exercise 6.4: Palindrome"
   ]
  },
  {
   "cell_type": "markdown",
   "metadata": {},
   "source": [
    "Write a function which checks if a given string is a palindrome and which returns True if it is a palindrome and False otherwise. You should expect the following outputs."
   ]
  },
  {
   "cell_type": "code",
   "execution_count": 27,
   "metadata": {},
   "outputs": [],
   "source": [
    "##INFO\n",
    "info_dict = {\"name\": \"Palindrome\",\n",
    "             \"num_exercise\": \"6.4\",\n",
    "             \"author\": \"aulho,jloch\",\n",
    "             \"source\": \"modified_cp23\",\n",
    "             \"difficulty\": 4,\n",
    "             \"type\": \"1a\",\n",
    "             \"is_advanced\": False,\n",
    "             \"is_coding_drill\": False}\n",
    "utils.assert_info_dict_format(info_dict)"
   ]
  },
  {
   "cell_type": "code",
   "execution_count": 72,
   "metadata": {},
   "outputs": [],
   "source": [
    "##SOLUTION\n",
    "#easy way\n",
    "def is_palindrome(string):\n",
    "    i = 0\n",
    "    L = len(string)\n",
    "    while i < L:\n",
    "        if string[i] != string[L-i-1]:\n",
    "            return False\n",
    "        i = i + 1\n",
    "    return True\n",
    "\n",
    "#smart (hard) way\n",
    "def is_palindrome(string):\n",
    "    return string==string[::-1]"
   ]
  },
  {
   "cell_type": "code",
   "execution_count": 91,
   "metadata": {
    "colab": {
     "base_uri": "https://localhost:8080/"
    },
    "id": "oxs8bLRnd6L8",
    "outputId": "f13a6b83-c0cf-497c-c0ba-06f3270f644f"
   },
   "outputs": [
    {
     "data": {
      "text/plain": [
       "True"
      ]
     },
     "execution_count": 91,
     "metadata": {},
     "output_type": "execute_result"
    }
   ],
   "source": [
    "##REPL\n",
    "is_palindrome(\"madam\")\n",
    "is_palindrome(\"hello\")\n",
    "is_palindrome(\"racecar\")\n",
    "is_palindrome(\"wauw\")\n",
    "is_palindrome(\"damejer nis berg greb sin rejemad\")"
   ]
  },
  {
   "cell_type": "markdown",
   "metadata": {
    "id": "umk5a6H5ehWh"
   },
   "source": [
    "## Exercise 6.5: Gamertag"
   ]
  },
  {
   "cell_type": "code",
   "execution_count": 7,
   "metadata": {},
   "outputs": [],
   "source": [
    "##INFO\n",
    "info_dict = {\"name\": \"Gamertag\",\n",
    "             \"num_exercise\": \"6.5\",\n",
    "             \"author\": \"jloch\",\n",
    "             \"source\": \"new_original_content\",\n",
    "             \"difficulty\": 3,\n",
    "             \"type\": \"1b\",\n",
    "             \"is_advanced\": False,\n",
    "             \"is_coding_drill\": False}\n",
    "utils.assert_info_dict_format(info_dict)"
   ]
  },
  {
   "cell_type": "code",
   "execution_count": 63,
   "metadata": {},
   "outputs": [],
   "source": [
    "##SOLUTION\n",
    "def format_as_gamertag(name):\n",
    "    print(\"XxX_\"+name.replace(\" \",\"_\")+\"_XxX\")"
   ]
  },
  {
   "cell_type": "markdown",
   "metadata": {
    "id": "ufV96F96vQlI"
   },
   "source": [
    "In this exercise we would like to write a function which, when given a name, prints an appropriate gamertag. It is usually impossible to put spaces in a gamertag, hence we want to replace  `\" \"` with `\"_\"`. Additionally, we want put some cool symbols at the start and end of the string. E.g. we want\n",
    "\n",
    "\n"
   ]
  },
  {
   "cell_type": "code",
   "execution_count": 65,
   "metadata": {},
   "outputs": [
    {
     "name": "stdout",
     "output_type": "stream",
     "text": [
      "XxX_Morten_Rieger_Hannemose_XxX\n",
      "XxX_Vedrana_Dahl_XxX\n"
     ]
    }
   ],
   "source": [
    "##REPL\n",
    "format_as_gamertag(\"Morten Rieger Hannemose\")\n",
    "format_as_gamertag(\"Vedrana Dahl\")"
   ]
  },
  {
   "cell_type": "markdown",
   "metadata": {},
   "source": [
    "Hint: Strings contain a method to replace one type of substring with another. E.g."
   ]
  },
  {
   "cell_type": "code",
   "execution_count": null,
   "metadata": {},
   "outputs": [],
   "source": [
    "##REPL\n",
    "string_var = \"a b c abc aabbcc\"\n",
    "string_var.replace(\"b\",\"B\")\n",
    "string_var.replace(\"aa\",\"12345\")"
   ]
  },
  {
   "cell_type": "markdown",
   "metadata": {},
   "source": [
    "Instead of simply printing the name, modify your functions such that it returns the string variable gamertag. If you did it correctly you should see the same output as below:"
   ]
  },
  {
   "cell_type": "code",
   "execution_count": 24,
   "metadata": {},
   "outputs": [
    {
     "name": "stdout",
     "output_type": "stream",
     "text": [
      "Morten Rieger Hannemose's gamertag is XxX_Morten_Rieger_Hannemose_XxX\n"
     ]
    }
   ],
   "source": [
    "##REPL\n",
    "name = \"Morten Rieger Hannemose\"\n",
    "print(f\"{name}'s gamertag is XxX_{name.replace(' ','_')}_XxX\")"
   ]
  },
  {
   "cell_type": "markdown",
   "metadata": {
    "id": "TeJNSrcHlOUH"
   },
   "source": [
    "## Exercise 6.6: Common prefixes"
   ]
  },
  {
   "cell_type": "code",
   "execution_count": 10,
   "metadata": {},
   "outputs": [],
   "source": [
    "##INFO\n",
    "info_dict = {\"name\": \"Common prefixes\",\n",
    "             \"num_exercise\": \"6.6\",\n",
    "             \"author\": \"aulho\",\n",
    "             \"source\": \"new_original_content\",\n",
    "             \"difficulty\": 4,\n",
    "             \"type\": \"1b\",\n",
    "             \"is_advanced\": False,\n",
    "             \"is_coding_drill\": False}\n",
    "utils.assert_info_dict_format(info_dict)"
   ]
  },
  {
   "cell_type": "markdown",
   "metadata": {},
   "source": [
    "In this exercise, you will implement a function that finds the longest common prefix of two words. For instance, the longest common prefix of `\"coffee\"` and `\"covfefe\"` is `\"co\"`.\n",
    "\n",
    "Specifically, write a function `common_prefix(word1, word2)` described by the following function documentation:\n",
    "\n"
   ]
  },
  {
   "cell_type": "code",
   "execution_count": 11,
   "metadata": {},
   "outputs": [],
   "source": [
    "##DOCUMENTATION\n",
    "doc = {\"Description\": \"Return the longest string so that both word1, and word2 begin with that string\",\n",
    "        \"Parameters\": {\"word1\": {\"Type\": \"str\", \"Description\": \"The first word\"},\n",
    "                       \"word2\": {\"Type\": \"str\", \"Description\": \"The second word\"}},\n",
    "        \"Returns\": {\"Type\": \"str\", \"Description\": \"The longest common prefix.\"}}\n",
    "utils.verify_docstring(doc)"
   ]
  },
  {
   "cell_type": "code",
   "execution_count": 14,
   "metadata": {
    "colab": {
     "base_uri": "https://localhost:8080/"
    },
    "id": "NRTRGXCOlSa1",
    "outputId": "53349035-ec2e-48ad-c28f-75604c4013f9"
   },
   "outputs": [],
   "source": [
    "##SOLUTION\n",
    "def common_prefix(s1, s2):\n",
    "    prefix = \"\"\n",
    "    L_min = min(len(s1), len(s2))\n",
    "    for i in range(L_min):\n",
    "        if s1[i] == s2[i]:\n",
    "            prefix = prefix + s1[i]\n",
    "        else:\n",
    "            break\n",
    "    return prefix"
   ]
  },
  {
   "cell_type": "code",
   "execution_count": 15,
   "metadata": {},
   "outputs": [
    {
     "data": {
      "text/plain": [
       "'co'"
      ]
     },
     "execution_count": 15,
     "metadata": {},
     "output_type": "execute_result"
    }
   ],
   "source": [
    "##REPL\n",
    "common_prefix(\"bla\", \"1bla\")\n",
    "common_prefix(\"bla\", \"bla1\")\n",
    "common_prefix(\"coffee\", \"covfefe\")"
   ]
  },
  {
   "cell_type": "markdown",
   "metadata": {
    "id": "hBmTDZ27lSxc"
   },
   "source": [
    "## Exercise 6.7: Common prefixes of three words"
   ]
  },
  {
   "cell_type": "markdown",
   "metadata": {},
   "source": [
    "Write a function that takes 3 words as input instead, and name it `common_prefix3`."
   ]
  },
  {
   "cell_type": "code",
   "execution_count": 16,
   "metadata": {
    "colab": {
     "base_uri": "https://localhost:8080/"
    },
    "id": "3tOG2LholXkL",
    "outputId": "3460d584-6f86-416b-8e71-2930f3298dcf"
   },
   "outputs": [],
   "source": [
    "##SOLUTION\n",
    "def common_prefix3(s1, s2, s3):\n",
    "    prefix = \"\"\n",
    "    L_min = min(len(s1), len(s2), len(s3))\n",
    "    for i in range(L_min):\n",
    "        if s1[i] == s2[i] and s1[i] == s3[i] :\n",
    "            prefix = prefix + s1[i]\n",
    "        else:\n",
    "            break\n",
    "    return prefix"
   ]
  },
  {
   "cell_type": "code",
   "execution_count": 17,
   "metadata": {},
   "outputs": [
    {
     "data": {
      "text/plain": [
       "'co'"
      ]
     },
     "execution_count": 17,
     "metadata": {},
     "output_type": "execute_result"
    }
   ],
   "source": [
    "##REPL\n",
    "s1 = \"coffee\"\n",
    "s2 = \"covfefe\"\n",
    "s3 = \"cofoco\"\n",
    "common_prefix3(s1, s2, s3)"
   ]
  },
  {
   "cell_type": "markdown",
   "metadata": {
    "id": "iL-GnhKJyBca"
   },
   "source": [
    "## Exercise 6.8: Internet Cafe (Storytime, TODO) - D=5"
   ]
  },
  {
   "cell_type": "markdown",
   "metadata": {
    "id": "SvvRaqjzoaNJ"
   },
   "source": [
    "You are in charge of an internet cafe at DTU Campus. Recently, since you installed brand new arcade machines, your cafe have become very popular with bachelor students who like to compete with each other for the highest scores.\n"
   ]
  },
  {
   "cell_type": "markdown",
   "metadata": {
    "id": "p3Rs9yct6KDj"
   },
   "source": [
    "## Exercise 6.9: Recording student names"
   ]
  },
  {
   "cell_type": "code",
   "execution_count": 20,
   "metadata": {},
   "outputs": [],
   "source": [
    "##INFO\n",
    "info_dict = {\"name\": \"Recording student names\",\n",
    "             \"num_exercise\": \"6.9\",\n",
    "             \"author\": \"aulho\",\n",
    "             \"source\": \"new_original_content\",\n",
    "             \"difficulty\": 2,\n",
    "             \"type\": \"1b\",\n",
    "             \"is_advanced\": False,\n",
    "             \"is_coding_drill\": False}\n",
    "utils.assert_info_dict_format(info_dict)"
   ]
  },
  {
   "cell_type": "markdown",
   "metadata": {
    "id": "GjG0rBBN6NzW"
   },
   "source": [
    " You would like to keep track of the students who visits your cafe. At the bar, you would like to register each students name and level as a string such as ```\"Bsc_Marie\"``` or ```\"Bsc_Jonas\"```.\n",
    "\n",
    "Write a function which given a name and an education level return the string like the examples above."
   ]
  },
  {
   "cell_type": "code",
   "execution_count": 18,
   "metadata": {},
   "outputs": [],
   "source": [
    "##SOLUTION\n",
    "def record_player(name, level):\n",
    "    player = level + \"_\" + name\n",
    "    return player"
   ]
  },
  {
   "cell_type": "code",
   "execution_count": 19,
   "metadata": {
    "colab": {
     "base_uri": "https://localhost:8080/"
    },
    "id": "bwSwg1YN6mbT",
    "outputId": "84094515-bee4-46fd-b731-3c06b5bc92e5"
   },
   "outputs": [
    {
     "data": {
      "text/plain": [
       "'Bsc_Jonas'"
      ]
     },
     "execution_count": 19,
     "metadata": {},
     "output_type": "execute_result"
    }
   ],
   "source": [
    "##REPL\n",
    "record_player(\"Marie\", \"Bsc\")\n",
    "record_player(\"Jonas\", \"Bsc\")"
   ]
  },
  {
   "cell_type": "markdown",
   "metadata": {
    "id": "-_crJzARM6d6"
   },
   "source": [
    "## Exercise 6.10: A string of students\n",
    "\n",
    "To efficiently store multiple guests in the same variable, you would like to create a longer string containing multiple names. You would like to use the following format:\n",
    "\n",
    "```\"Bsc_Anna,Msc_Line,Bsc_Mathias,Bsc_Marcus,Msc_Jonas,Bsc_Katrine,Msc_Tina\"```\n",
    "\n",
    "Implement a function which takes a string and append a student's name and level.\n",
    "\n"
   ]
  },
  {
   "cell_type": "code",
   "execution_count": 24,
   "metadata": {},
   "outputs": [],
   "source": [
    "##SOLUTION\n",
    "def add_player(string, name, level):\n",
    "   string = string + \",\" + record_player(name, level)\n",
    "   return string"
   ]
  },
  {
   "cell_type": "code",
   "execution_count": 25,
   "metadata": {
    "colab": {
     "base_uri": "https://localhost:8080/"
    },
    "id": "PHSO5qjFWvyT",
    "outputId": "55eb5527-064c-413e-9c06-d6565eb3107a"
   },
   "outputs": [
    {
     "data": {
      "text/plain": [
       "'Bsc_Jonas,Bsc_Marie,Msc_Katrine'"
      ]
     },
     "execution_count": 25,
     "metadata": {},
     "output_type": "execute_result"
    }
   ],
   "source": [
    "##REPL\n",
    "string = record_player(\"Jonas\", \"Bsc\")\n",
    "string = add_player(string, \"Marie\", \"Bsc\")\n",
    "string = add_player(string, \"Katrine\", \"Msc\")\n",
    "string"
   ]
  },
  {
   "cell_type": "markdown",
   "metadata": {
    "id": "qWP6pnUjsZhN"
   },
   "source": [
    "## Exercise 6.11: Sum numbers to N"
   ]
  },
  {
   "cell_type": "code",
   "execution_count": null,
   "metadata": {},
   "outputs": [],
   "source": [
    "##INFO\n",
    "info_dict = {\"name\": \"Sum numbers to N\",\n",
    "             \"num_exercise\": \"6.11\",\n",
    "             \"author\": \"jloch\",\n",
    "             \"source\": \"new_original_content\",\n",
    "             \"difficulty\": 4,\n",
    "             \"type\": \"2b\",\n",
    "             \"is_advanced\": False,\n",
    "             \"is_coding_drill\": False}\n",
    "utils.assert_info_dict_format(info_dict)"
   ]
  },
  {
   "cell_type": "markdown",
   "metadata": {
    "id": "FM2F8f0Tv7JG"
   },
   "source": [
    "Two students, Astrid and Benny, have been forced to write an implementation of a python function which sums (adds) all the numbers from 1 up to and including n. Some code from the function has been masked out, and you should figure out what the correct expression is."
   ]
  },
  {
   "cell_type": "code",
   "execution_count": null,
   "metadata": {},
   "outputs": [],
   "source": [
    "##SNIPPET\n",
    "def sum_to_n_astrid(n):\n",
    "    s = 0\n",
    "    for i in range(REPLACE_THIS_WITH_EXPRESSION):\n",
    "        s += i\n",
    "    return s\n",
    "\n",
    "def sum_to_n_benny(n):\n",
    "    s = 0\n",
    "    i = 0\n",
    "    while i<REPLACE_THIS_WITH_EXPRESSION:\n",
    "        i += 1\n",
    "        s += i\n",
    "    return s\n",
    "\n",
    "def sum_to_n_cirkeline(n):\n",
    "    s = 0\n",
    "    i = 0\n",
    "    while True:\n",
    "        s = s + i\n",
    "        i += 1\n",
    "        stop_the_loop = REPLACE_THIS_WITH_EXPRESSION\n",
    "        if stop_the_loop:\n",
    "            break\n",
    "    return s"
   ]
  },
  {
   "cell_type": "code",
   "execution_count": null,
   "metadata": {
    "colab": {
     "base_uri": "https://localhost:8080/"
    },
    "id": "LjfhVl4dsaaI",
    "outputId": "eb684e57-1b9f-49f0-dce2-7965dcbe4ac0"
   },
   "outputs": [
    {
     "name": "stdout",
     "output_type": "stream",
     "text": [
      "10\n",
      "10\n",
      "10\n",
      "10\n"
     ]
    }
   ],
   "source": [
    "##SOLUTION\n",
    "def sum_to_n_astrid(n):\n",
    "    s = 0\n",
    "    #for i in range(REPLACE_THIS_WITH_EXPRESSION):\n",
    "    for i in range(n+1):  # Solution\n",
    "        s += i\n",
    "    return s\n",
    "\n",
    "def sum_to_n_benny(n):\n",
    "    s = 0\n",
    "    i = 0\n",
    "    #while i<REPLACE_THIS_WITH_EXPRESSION:\n",
    "    while i<n:  # Solution\n",
    "        i += 1\n",
    "        s += i\n",
    "    return s\n",
    "\n",
    "def sum_to_n_cirkeline(n):\n",
    "    s = 0\n",
    "    i = 0\n",
    "    while True:\n",
    "        s = s + i\n",
    "        i += 1\n",
    "        #stop_the_loop = REPLACE_THIS_WITH_EXPRESSION\n",
    "        stop_the_loop = i>n # Solution\n",
    "        if stop_the_loop:\n",
    "            break\n",
    "    return s\n"
   ]
  },
  {
   "cell_type": "code",
   "execution_count": null,
   "metadata": {},
   "outputs": [],
   "source": [
    "##REPL\n",
    "print(1+2+3+4)\n",
    "print(sum_to_n_benny(4))\n",
    "print(sum_to_n_astrid(4))\n",
    "print(sum_to_n_cirkeline(4))"
   ]
  },
  {
   "cell_type": "markdown",
   "metadata": {
    "id": "aeiByu8B15fG"
   },
   "source": [
    "You are in charge of an internet cafe at DTU Campus. Recently, since you installed brand new arcade machines, your cafe have become very popular with bachelor students who like to compete with each other for the highest scores.\n"
   ]
  },
  {
   "cell_type": "markdown",
   "metadata": {
    "id": "O_tcZ-Ni0hLS"
   },
   "source": [
    "## Exercise 6.12: String methods"
   ]
  },
  {
   "cell_type": "code",
   "execution_count": 28,
   "metadata": {},
   "outputs": [],
   "source": [
    "##INFO\n",
    "info_dict = {\"name\": \"String methods\",\n",
    "             \"num_exercise\": \"6.12\",\n",
    "             \"author\": \"jloch\",\n",
    "             \"source\": \"new_original_content\",\n",
    "             \"difficulty\": 4,\n",
    "             \"type\": \"4a\",\n",
    "             \"is_advanced\": False,\n",
    "             \"is_coding_drill\": False}\n",
    "utils.assert_info_dict_format(info_dict)"
   ]
  },
  {
   "cell_type": "markdown",
   "metadata": {
    "id": "WA6tQ3QX1AK1"
   },
   "source": [
    "A method is a function related to a python class which can be called by using dot notation, for example:\n",
    "```python\n",
    "print(\"hello\".upper())\n",
    "\"HELLO\"\n",
    "\n",
    "some_string = \"hello\"\n",
    "print(some_string.capitalize())\n",
    "\"Hello\"\n",
    "```\n",
    "\n",
    "Consider the following code, and explain what the ```replace``` method does. If you don't understand what it does, consider running the code and changing variables or search google for \"python string replace method\" for detailed documentation.\n",
    "Same question for the methods ```find```, ```index```, ```count```, ```lower``` and ```upper```."
   ]
  },
  {
   "cell_type": "code",
   "execution_count": 10,
   "metadata": {
    "colab": {
     "base_uri": "https://localhost:8080/"
    },
    "id": "uBBPIV3twldI",
    "outputId": "35415a39-6d1b-4bbe-fae8-f4d5837dde1a"
   },
   "outputs": [
    {
     "data": {
      "text/plain": [
       "'123test'"
      ]
     },
     "execution_count": 10,
     "metadata": {},
     "output_type": "execute_result"
    }
   ],
   "source": [
    "##REPL\n",
    "my_string = \"123test\"\n",
    "\n",
    "my_string.replace(\"123\",\"banana\")     #bananatest\n",
    "my_string.replace(\"t\",\"boom!\")        #123boom!esboom!\n",
    "my_string.replace(\"bla\",\"boom!\")      #123test\n"
   ]
  },
  {
   "cell_type": "code",
   "execution_count": 11,
   "metadata": {
    "colab": {
     "base_uri": "https://localhost:8080/"
    },
    "id": "S3V9g8ze0wi9",
    "outputId": "3ba83575-48c9-4302-aba9-e82674769e64"
   },
   "outputs": [
    {
     "data": {
      "text/plain": [
       "0"
      ]
     },
     "execution_count": 11,
     "metadata": {},
     "output_type": "execute_result"
    }
   ],
   "source": [
    "##REPL\n",
    "my_string = \"hello world\"\n",
    "\n",
    "my_string.find(\"world\")    # 6\n",
    "my_string.find(\"o\")        # 4\n",
    "my_string.find(\"xyz\")      # -1\n",
    "my_string.find(\"l\")        # 2\n",
    "my_string.find(\"hello\")    # 0\n"
   ]
  },
  {
   "cell_type": "code",
   "execution_count": null,
   "metadata": {
    "colab": {
     "base_uri": "https://localhost:8080/"
    },
    "id": "KQqMa46r3nr5",
    "outputId": "d8990c3a-1f5e-4c51-bf4c-7bb907dce5db"
   },
   "outputs": [
    {
     "name": "stdout",
     "output_type": "stream",
     "text": [
      "6\n",
      "4\n",
      "2\n",
      "0\n"
     ]
    }
   ],
   "source": [
    "##REPL\n",
    "my_string = \"hello world\"\n",
    "\n",
    "my_string.index(\"world\")    # 6\n",
    "my_string.index(\"o\")        # 4\n",
    "# my_string.index(\"xyz\")    # ValueError: substring not found\n",
    "my_string.index(\"l\")        # 2\n",
    "my_string.index(\"hello\")    # 0"
   ]
  },
  {
   "cell_type": "code",
   "execution_count": null,
   "metadata": {
    "colab": {
     "base_uri": "https://localhost:8080/"
    },
    "id": "-J_luuoD4Dtu",
    "outputId": "d7f8f0de-5bd8-4714-d99b-4191ce7b2e4e"
   },
   "outputs": [
    {
     "name": "stdout",
     "output_type": "stream",
     "text": [
      "3\n",
      "2\n",
      "1\n",
      "1\n",
      "0\n"
     ]
    }
   ],
   "source": [
    "##REPL\n",
    "my_string = \"hello world\"\n",
    "\n",
    "my_string.count(\"l\")        # 3\n",
    "my_string.count(\"o\")        # 2\n",
    "my_string.count(\"world\")    # 1\n",
    "my_string.count(\"h\")        # 1\n",
    "my_string.count(\"xyz\")      # 0\n",
    "\n"
   ]
  },
  {
   "cell_type": "code",
   "execution_count": 12,
   "metadata": {
    "colab": {
     "base_uri": "https://localhost:8080/"
    },
    "id": "OU_gdLgZ4aEU",
    "outputId": "24e96a98-ce4e-42d5-ae3c-a8030bf4b6de"
   },
   "outputs": [
    {
     "data": {
      "text/plain": [
       "'harry, did you put your name in the goblet of fire?'"
      ]
     },
     "execution_count": 12,
     "metadata": {},
     "output_type": "execute_result"
    }
   ],
   "source": [
    "##REPL\n",
    "my_string = \"Harry, did you put your name in the Goblet of Fire?\"\n",
    "\n",
    "my_string.lower()         #harry, did you put your name in the goblet of fire?\n",
    "my_string.upper()         #HARRY, DID YOU PUT YOUR NAME IN THE GOBLET OF FIRE?\n",
    "my_string.lower().upper() #HARRY, DID YOU PUT YOUR NAME IN THE GOBLET OF FIRE?\n",
    "my_string.upper().lower() #harry, did you put your name in the goblet of fire?\n"
   ]
  },
  {
   "cell_type": "markdown",
   "metadata": {
    "id": "YmXHjiZNoJ8q"
   },
   "source": [
    "You are in charge of an internet cafe at DTU Campus. Recently, since you installed brand new arcade machines, your cafe have become very popular with bachelor students who like to compete with each other for the highest scores.\n"
   ]
  },
  {
   "cell_type": "markdown",
   "metadata": {
    "id": "SSUaQ2au40Qj"
   },
   "source": [
    "## Exercise 6.13: Return substring (Advanced)"
   ]
  },
  {
   "cell_type": "code",
   "execution_count": null,
   "metadata": {},
   "outputs": [],
   "source": [
    "##INFO\n",
    "info_dict = {\"name\": \"Return substring\",\n",
    "             \"num_exercise\": \"6.13\",\n",
    "             \"author\": \"jloch\",\n",
    "             \"source\": \"new_original_content\",\n",
    "             \"difficulty\": 8,\n",
    "             \"type\": \"1a\",\n",
    "             \"is_advanced\": True,\n",
    "             \"is_coding_drill\": False}\n",
    "utils.assert_info_dict_format(info_dict)"
   ]
  },
  {
   "cell_type": "markdown",
   "metadata": {
    "id": "gB2kw9aY5Q75"
   },
   "source": [
    "Write a function print_substring(msg, start_str, end_str) that takes three arguments:\n",
    "\n",
    "- msg: The main string where the search is performed.\n",
    "- start_str: The substring that marks the start of the target substring.\n",
    "- end_str: The substring that marks the end of the target substring.\n",
    "- include_start_end: Whether to include the start and end string in the returned string.\n",
    "\n",
    "The function should:\n",
    "\n",
    "Return the first instance of a substring in msg that starts with start_str and ends with end_str.\n",
    "If no such substring exists, return an empty string, `\"\"`.\n",
    "\n",
    "Hint: Use the some_string.find() method, which also takes a second and third input as the minimum and maximum string index to search within."
   ]
  },
  {
   "cell_type": "code",
   "execution_count": 2,
   "metadata": {
    "id": "h8QMlToK69ru"
   },
   "outputs": [],
   "source": [
    "##SOLUTION\n",
    "def print_substring(msg, start_str, end_str, include_start_end=True):\n",
    "    start_index = msg.find(start_str)\n",
    "    min_idx_for_end_idx = start_index + len(start_str)\n",
    "    end_index = msg.find(end_str, min_idx_for_end_idx)\n",
    "    if not include_start_end:\n",
    "        start_index += len(start_str)\n",
    "        end_index -= len(end_str)\n",
    "    if start_index != -1 and end_index != -1:\n",
    "        return msg[start_index:end_index + len(end_str)]\n",
    "    else:\n",
    "        return \"\""
   ]
  },
  {
   "cell_type": "code",
   "execution_count": 4,
   "metadata": {},
   "outputs": [
    {
     "ename": "SyntaxError",
     "evalue": "invalid syntax. Perhaps you forgot a comma? (12064871.py, line 3)",
     "output_type": "error",
     "traceback": [
      "\u001b[0;36m  Cell \u001b[0;32mIn[4], line 3\u001b[0;36m\u001b[0m\n\u001b[0;31m    print_substring(\"this is a test string\", \"is\", \"ing\")  # Output: is a test string\u001b[0m\n\u001b[0m    ^\u001b[0m\n\u001b[0;31mSyntaxError\u001b[0m\u001b[0;31m:\u001b[0m invalid syntax. Perhaps you forgot a comma?\n"
     ]
    }
   ],
   "source": [
    "##REPL\n",
    "print_substring(\"this is a test string\", \"is\", \"ing\")  # Output: is a test string\n",
    "print_substring(\"find the start and the end\", \"start\", \"end\", include_start_end=True)  # Output: start and the end\n",
    "print_substring(\"find the start and the end\", \"start\", \"end\", include_start_end=False)  # Output: start and the end\n",
    "print_substring(\"no match here\", \"start\", \"end\")  # Output: No matching strings found."
   ]
  },
  {
   "cell_type": "markdown",
   "metadata": {
    "id": "mvrmZMZlsDLn"
   },
   "source": [
    "## Exercise 6.14: string formatting"
   ]
  },
  {
   "cell_type": "markdown",
   "metadata": {
    "id": "Y1Bp2Bgusbze"
   },
   "source": [
    "It is often very useful to print variables along with text. Python has multiple ways to print variables along with text (strings) illustrated in the code below.\n",
    "\n",
    "```fstring``` should most likely be the one solution most in focus. More progression with just one thing. Then add more."
   ]
  },
  {
   "cell_type": "code",
   "execution_count": null,
   "metadata": {
    "colab": {
     "base_uri": "https://localhost:8080/"
    },
    "id": "GxZXvzJ9sG6o",
    "outputId": "7ba7483a-1054-4d18-ca42-69c8ba04cd29"
   },
   "outputs": [
    {
     "name": "stdout",
     "output_type": "stream",
     "text": [
      "Using .format method: Integer: 42, Float: 3.14, String: Bob Loblaw\n",
      "Using f-string:       Integer: 42, Float: 3.14, String: Bob Loblaw\n",
      "Using % notation:     Integer: 42, Float: 3.14, String: Bob Loblaw\n"
     ]
    }
   ],
   "source": [
    "# Step 1: Define the Variables\n",
    "my_int = 42\n",
    "my_float = 3.14159\n",
    "my_str = \"Bob Loblaw\"\n",
    "\n",
    "# Step 2: Format Using .format\n",
    "formatted_str_format = \"Integer: {:d}, Float: {:.2f}, String: {}\".format(my_int, my_float, my_str)\n",
    "print(\"Using .format method:\", formatted_str_format)\n",
    "\n",
    "# Step 3: Format Using f-Strings\n",
    "formatted_str_fstring = f\"Integer: {my_int:d}, Float: {my_float:.2f}, String: {my_str}\"\n",
    "print(\"Using f-string:      \", formatted_str_fstring)\n",
    "\n",
    "# Step 4: Format Using % Notation\n",
    "formatted_str_percent = \"Integer: %d, Float: %.2f, String: %s\" % (my_int, my_float, my_str)\n",
    "print(\"Using % notation:    \", formatted_str_percent)\n"
   ]
  },
  {
   "cell_type": "markdown",
   "metadata": {
    "id": "Mjdcyjy0tsFs"
   },
   "source": [
    "In the code above, `:d` references that you want your variable printed as an integer. Similarly `:.2f` means you want to print a number as a float with 2 significant digits.\n",
    "\n",
    "Try running the code change which formatting specifier you use with the different variables. What happens when a float is formatted with `:d`. What happens if you try to format an integer as a float with `:f` ?\n",
    "Hint: one of them is raises a ValueError\n",
    "\n",
    "Try these formatting strings: `:f`, `:.10f`, `:.0f`, `:0.1f`, `:8.1f`, `:08.1f` with `my_float=200/3`. Also try without a formatting string.\n",
    "\n",
    "Try `:d`, `:5d`, `:05d`, with `my_int=int(my_float)`"
   ]
  },
  {
   "cell_type": "code",
   "execution_count": null,
   "metadata": {},
   "outputs": [],
   "source": [
    "1+1\n",
    "#>>> 2"
   ]
  },
  {
   "cell_type": "code",
   "execution_count": 26,
   "metadata": {
    "colab": {
     "base_uri": "https://localhost:8080/"
    },
    "id": "Gg2boViosVy1",
    "outputId": "e59fd9e6-fb6a-4cf9-d853-9c128d2ee70d"
   },
   "outputs": [
    {
     "name": "stdout",
     "output_type": "stream",
     "text": [
      "integer as float: 66.00\n",
      "\n",
      "int with :5d  : 66\n",
      "int with :5d  :    66\n",
      "int with :05d : 00066\n",
      "\n",
      "float with no fmt: 66.66666666666667\n",
      "float with no fmt: 66.66666666666667\n",
      "float with :f    : 66.666667\n",
      "float with :.10f : 66.6666666667\n",
      "float with :.0f  : 67\n",
      "float with :0.1f : 66.7\n",
      "float with :8.1f :     66.7\n",
      "float with :08.1f: 000066.7\n"
     ]
    }
   ],
   "source": [
    "my_float=200/3\n",
    "my_int=int(my_float)\n",
    "#print(f\"float as integer : {my_float:01d}\" ) #ValueError\n",
    "print(f\"integer as float: {my_int:.2f}\")\n",
    "print()\n",
    "print(f\"int with :5d  : {my_int:d}\")\n",
    "print(f\"int with :5d  : {my_int:5d}\")\n",
    "print(f\"int with :05d : {my_int:05d}\")\n",
    "print()\n",
    "print(f\"float with no fmt: {my_float}\")\n",
    "print(f\"float with :f    : {my_float:f}\")\n",
    "print(f\"float with :.10f : {my_float:.10f}\")\n",
    "print(f\"float with :.0f  : {my_float:.0f}\")\n",
    "print(f\"float with :0.1f : {my_float:0.1f}\")\n",
    "print(f\"float with :8.1f : {my_float:8.1f}\")\n",
    "print(f\"float with :08.1f: {my_float:08.1f}\")"
   ]
  },
  {
   "cell_type": "markdown",
   "metadata": {},
   "source": [
    "## QUIZ"
   ]
  },
  {
   "cell_type": "markdown",
   "metadata": {},
   "source": [
    "1.    What will be stored in the variable `apple_pie`?\n",
    "```python\n",
    "apple_pie = 'apple' + 'pie'\n",
    "```\n",
    "  *   a) `'applepie'`\n",
    "  *   b) `'apple pie'`\n",
    "  *   c) `'apple_pie'`\n",
    "  *   d) `apple+pie`\n",
    "\n",
    "2.    What will be printed?\n",
    "```python\n",
    "s = '   strip me   '\n",
    "print(s.strip())\n",
    "```\n",
    "  *   a) 'strip me '\n",
    "  *   b) 'strip me'\n",
    "  *   c) '   strip me   '\n",
    "  *   d) 'stripme'\n",
    "\n",
    "3.    What does the following code output?\n",
    "```python\n",
    "s = 'Python programming'\n",
    "s.find('prog')\n",
    "```\n",
    "  *   a) -1\n",
    "  *   b) 6\n",
    "  *   c) 7\n",
    "  *   d) 11\n",
    "\n",
    "4.    What will be printed?\n",
    "```python\n",
    "s = 'abcdefgh'\n",
    "print(s[::2])\n",
    "```\n",
    "  *   a) 'bdfh'\n",
    "  *   b) 'gh'\n",
    "  *   c) 'ab'\n",
    "  *   d) 'aceg'\n",
    "\n",
    "5.    What will be printed?\n",
    "```python\n",
    "s = 'python'\n",
    "print(s[2:5])\n",
    "```\n",
    "  *   a) 'tho'\n",
    "  *   b) 'pyth'\n",
    "  *   c) 'pyt'\n",
    "  *   d) 'ytho'\n",
    "\n",
    "6.    What does the function `len()` do when applied to a string?\n",
    "\n",
    "  *   a) The number of words in the string\n",
    "  *   b) The number of characters in the string\n",
    "  *   c) The number of lines in the string\n",
    "  *   d) The number of alphabet letters in the string\n",
    "\n",
    "7.    What does the following code output?\n",
    "```python\n",
    "'matlab'>'python'\n",
    "```\n",
    "  *   a) `'matlab>python'`\n",
    "  *   b) `TypeError: unsupported operand type(s) for >: 'str' and 'str'`\n",
    "  *   c) `True`\n",
    "  *   d) `False`\n",
    "\n",
    "8.    What is stored in the variable `my_string` when the code is run?\n",
    "```python\n",
    "my_string = 'ababa_aba'.replace('aba', 'ccc')\n",
    "```\n",
    "  *   a) `'ababa_ccc'`\n",
    "  *   b) `'abccc_ccc'`\n",
    "  *   c) `'ccc_ccc'`\n",
    "  *   d) `'cccba_ccc'`\n",
    "\n",
    "9.    Fill in the blank. What is the missing format specifier to print `1/7 is approximately 14.2857%`?\n",
    "```python\n",
    "print(f'1/7 is approximately {100/7:____}%')\n",
    "```\n",
    "  *   a) `p`\n",
    "  *   b) `2.4f`\n",
    "  *   c) `4f`\n",
    "  *   d) `02.4d`\n",
    "\n",
    "10.    What will the variable `my_string` contain after the following code is executed?\n",
    "```python\n",
    "my_string = 'Python Programming'.replace('P', 'p', 1)\n",
    "```\n",
    "  *   a) `'Pythonn Programming'`\n",
    "  *   b) `'python programming'`\n",
    "  *   c) `'python Programming'`\n",
    "  *   d) `'Python Programming'`\n",
    "\n",
    "11.    which is NOT a valid string method?\n",
    "\n",
    "  *   a) `some_string.replace()`\n",
    "  *   b) `some_string.find()`\n",
    "  *   c) `some_string.upper()`\n",
    "  *   d) `some_string.remove()`\n",
    "\n",
    "12.    Which line of code will throw an error?\n",
    "\n",
    "  *   a) `'1234' + 5`\n",
    "  *   b) `'1234' * 5`\n",
    "  *   c) `'1234' < '5'`\n",
    "  *   d) `'1234' + '5'`"
   ]
  },
  {
   "cell_type": "markdown",
   "metadata": {},
   "source": []
  }
 ],
 "metadata": {
  "colab": {
   "collapsed_sections": [
    "_SzI_n75cD_I",
    "SidQmIrLc-dr",
    "iL-GnhKJyBca"
   ],
   "provenance": [],
   "toc_visible": true
  },
  "kernelspec": {
   "display_name": "Python 3",
   "name": "python3"
  },
  "language_info": {
   "codemirror_mode": {
    "name": "ipython",
    "version": 3
   },
   "file_extension": ".py",
   "mimetype": "text/x-python",
   "name": "python",
   "nbconvert_exporter": "python",
   "pygments_lexer": "ipython3",
   "version": "3.12.2"
  }
 },
 "nbformat": 4,
 "nbformat_minor": 0
}
