{
 "cells": [
  {
   "cell_type": "markdown",
   "metadata": {
    "id": "PVMZXrYXboNB"
   },
   "source": [
    "# W3: Conditionals"
   ]
  },
  {
   "cell_type": "markdown",
   "metadata": {},
   "source": [
    " TODO:\n",
    " - Fix subexercise reformatting\n",
    " - reformat all exercises to same nice format\n",
    " - add python keyword to appropriate blocks of code\n",
    " - add more iteration to group exercise: e.g. loop over int variables to satisfy eq."
   ]
  },
  {
   "cell_type": "code",
   "execution_count": 1,
   "metadata": {
    "ExecuteTime": {
     "end_time": "2024-07-09T14:30:21.053594Z",
     "start_time": "2024-07-09T14:30:20.562474Z"
    }
   },
   "outputs": [],
   "source": [
    "\n",
    "%load_ext autoreload\n",
    "%autoreload 2\n",
    "\n",
    "import utils\n",
    "import math"
   ]
  },
  {
   "cell_type": "markdown",
   "metadata": {},
   "source": [
    "## Exercise 1.1: Logical and comparison operators (Coding Drill)\n",
    "\n",
    "\n",
    "\n",
    "Here are few tips for logical operators in Python:\n",
    "- Greater than or equal can be expressed as `>=`\n",
    "- Not equal can be expressed as `!=`\n",
    "- Equal can be expressed as `==`\n",
    "- Either `a` or `b` can be expressed using `a or b`\n",
    "- `a` and `b` can be expressed using `a and b`\n",
    "- The cosine of `x` can be evaluated using `math.cos(x)`\n",
    "- Divisible by a number can be checked using the modulo operator `%`.\n",
    "\n",
    "A more complete list can be found on [w3schools: Comparison Operators](https://www.w3schools.com/python/gloss_python_comparison_operators.asp) and [w3schools: Logical Operators](https://www.w3schools.com/python/gloss_python_logical_operators.asp).\n",
    "\n"
   ]
  },
  {
   "cell_type": "code",
   "execution_count": 2,
   "metadata": {
    "ExecuteTime": {
     "end_time": "2024-07-09T14:30:21.084695Z",
     "start_time": "2024-07-09T14:30:21.054582Z"
    }
   },
   "outputs": [],
   "source": [
    "##INFO\n",
    "info_dict = {\"name\": \"Identifying types in Python\",\n",
    "             \"num_exercise\": \"2.1\",\n",
    "             \"author\": \"aulho\",\n",
    "             \"source\": \"new_original_content\",\n",
    "             \"difficulty\": 1,\n",
    "             \"type\": \"1abc\",\n",
    "             \"is_advanced\": False,\n",
    "             \"is_coding_drill\": True}\n",
    "utils.assert_info_dict_format(info_dict)"
   ]
  },
  {
   "cell_type": "markdown",
   "metadata": {},
   "source": [
    "### 1.1a: \n",
    "Create a variable `x = 3`. \n",
    "\n",
    "Are the following statements True or False?\n",
    "`x >= 3 and x < 5`\n",
    "`10 != x or x != 3`"
   ]
  },
  {
   "cell_type": "code",
   "execution_count": 30,
   "metadata": {
    "ExecuteTime": {
     "end_time": "2024-07-09T14:56:15.659895Z",
     "start_time": "2024-07-09T14:56:15.628684Z"
    }
   },
   "outputs": [
    {
     "name": "stdout",
     "output_type": "stream",
     "text": [
      "True\n",
      "True\n"
     ]
    }
   ],
   "source": [
    "##SOLUTION\n",
    "x = 3\n",
    "print(x >= 3 and x < 5)\n",
    "print(10 != x or x != 3)"
   ]
  },
  {
   "cell_type": "markdown",
   "source": [
    "### 1.1b: \n",
    "\n",
    "Create a variable `x = 5`. \n",
    "\n",
    "Are the following statements True or False?\n",
    "`math.pi > 3 and x == 5`\n",
    "`3 >= 3 or x != 5`"
   ],
   "metadata": {
    "collapsed": false
   }
  },
  {
   "cell_type": "code",
   "outputs": [
    {
     "name": "stdout",
     "output_type": "stream",
     "text": [
      "False\n",
      "True\n"
     ]
    }
   ],
   "source": [
    "##SOLUTION\n",
    "x = 5\n",
    "print(math.pi < 3 and x == 5)\n",
    "print(3 >= 3 or x != 5)"
   ],
   "metadata": {
    "collapsed": false,
    "ExecuteTime": {
     "end_time": "2024-07-09T14:53:08.204051Z",
     "start_time": "2024-07-09T14:53:08.184389Z"
    }
   },
   "execution_count": 29
  },
  {
   "cell_type": "markdown",
   "source": [
    "### 1.1c:  \n",
    "\n",
    "Create a variable `x = 6`. \n",
    "\n",
    "Are the following statements True or False?\n",
    "`math.pi > 3 and x > 5`\n",
    "`math.pi > 3 or x < 5`"
   ],
   "metadata": {
    "collapsed": false
   }
  },
  {
   "cell_type": "code",
   "outputs": [
    {
     "name": "stdout",
     "output_type": "stream",
     "text": [
      "False\n",
      "False\n"
     ]
    }
   ],
   "source": [
    "##SOLUTION\n",
    "x = 6\n",
    "print(math.pi > 3 and x > 7)\n",
    "print(math.pi > 3 and x < 5)"
   ],
   "metadata": {
    "collapsed": false,
    "ExecuteTime": {
     "end_time": "2024-07-09T14:56:51.847188Z",
     "start_time": "2024-07-09T14:56:51.820084Z"
    }
   },
   "execution_count": 33
  },
  {
   "cell_type": "markdown",
   "source": [
    "### 1.1d: \n",
    "Create the variables `x = 7.0` and `y = 2.0`. \n",
    "\n",
    "Are the following statements True or False?\n",
    "`type(x) == type(y) and x > y`\n",
    "`type(math.pi) != type(x) or x < 5`"
   ],
   "metadata": {
    "collapsed": false
   }
  },
  {
   "cell_type": "code",
   "outputs": [
    {
     "name": "stdout",
     "output_type": "stream",
     "text": [
      "True\n",
      "False\n"
     ]
    }
   ],
   "source": [
    "##SOLUTION\n",
    "x = 7.0\n",
    "y = 2.0\n",
    "print(type(x) == type(y) and x > y)\n",
    "print(type(math.pi) != type(x) or x < 5.0)"
   ],
   "metadata": {
    "collapsed": false,
    "ExecuteTime": {
     "end_time": "2024-07-09T15:01:04.707551Z",
     "start_time": "2024-07-09T15:01:04.687255Z"
    }
   },
   "execution_count": 37
  },
  {
   "cell_type": "markdown",
   "source": [
    "### 1.1e: \n",
    "\n",
    "Create the variables `s1 = \"applejuice\"` and `s2 = \"pepsi\"`  "
   ],
   "metadata": {
    "collapsed": false
   }
  },
  {
   "cell_type": "code",
   "outputs": [
    {
     "name": "stdout",
     "output_type": "stream",
     "text": [
      "True\n",
      "True\n"
     ]
    }
   ],
   "source": [
    "##SOLUTION\n",
    "x = \"applejuice\"\n",
    "y = \"pepsi\"\n",
    "print(len(x) >= len(y))\n",
    "print(len(x) > 8.0 or y != y)"
   ],
   "metadata": {
    "collapsed": false,
    "ExecuteTime": {
     "end_time": "2024-07-09T15:04:34.919757Z",
     "start_time": "2024-07-09T15:04:34.889962Z"
    }
   },
   "execution_count": 44
  },
  {
   "cell_type": "markdown",
   "source": [
    "### 1.1f: \n",
    "\n"
   ],
   "metadata": {
    "collapsed": false
   }
  },
  {
   "cell_type": "code",
   "outputs": [],
   "source": [
    "##SOLUTION\n",
    " "
   ],
   "metadata": {
    "collapsed": false,
    "ExecuteTime": {
     "end_time": "2024-07-09T14:30:21.287604Z",
     "start_time": "2024-07-09T14:30:21.257546Z"
    }
   },
   "execution_count": 8
  },
  {
   "cell_type": "markdown",
   "source": [
    "### 1.1g: \n"
   ],
   "metadata": {
    "collapsed": false
   }
  },
  {
   "cell_type": "code",
   "outputs": [],
   "source": [
    "## SOLUTION\n"
   ],
   "metadata": {
    "collapsed": false,
    "ExecuteTime": {
     "end_time": "2024-07-09T14:30:21.319084Z",
     "start_time": "2024-07-09T14:30:21.287604Z"
    }
   },
   "execution_count": 9
  },
  {
   "cell_type": "markdown",
   "source": [
    "### 1.1h: \n"
   ],
   "metadata": {
    "collapsed": false
   }
  },
  {
   "cell_type": "code",
   "outputs": [],
   "source": [
    "##SOLUTION\n"
   ],
   "metadata": {
    "collapsed": false,
    "ExecuteTime": {
     "end_time": "2024-07-09T14:30:21.350814Z",
     "start_time": "2024-07-09T14:30:21.320085Z"
    }
   },
   "execution_count": 10
  },
  {
   "cell_type": "markdown",
   "source": [
    "### 1.1i:\n"
   ],
   "metadata": {
    "collapsed": false
   }
  },
  {
   "cell_type": "code",
   "outputs": [],
   "source": [
    "##SNIPPET\n"
   ],
   "metadata": {
    "collapsed": false,
    "ExecuteTime": {
     "end_time": "2024-07-09T14:30:21.382367Z",
     "start_time": "2024-07-09T14:30:21.351807Z"
    }
   },
   "execution_count": 11
  },
  {
   "cell_type": "markdown",
   "source": [
    "### 1.1j:\n"
   ],
   "metadata": {
    "collapsed": false
   }
  },
  {
   "cell_type": "code",
   "outputs": [],
   "source": [],
   "metadata": {
    "collapsed": false,
    "ExecuteTime": {
     "end_time": "2024-07-09T14:30:21.398261Z",
     "start_time": "2024-07-09T14:30:21.383366Z"
    }
   },
   "execution_count": 11
  },
  {
   "cell_type": "markdown",
   "source": [
    "### 1.1k:\n",
    "\n",
    "Write some code that evaluates the following statements to True or False. Before running the code, write down your answers on paper or however you prefer.\n"
   ],
   "metadata": {
    "collapsed": false
   }
  },
  {
   "cell_type": "code",
   "outputs": [],
   "source": [],
   "metadata": {
    "collapsed": false,
    "ExecuteTime": {
     "end_time": "2024-07-09T14:30:21.413965Z",
     "start_time": "2024-07-09T14:30:21.400267Z"
    }
   },
   "execution_count": 11
  },
  {
   "cell_type": "markdown",
   "metadata": {},
   "source": [
    "## Exercise 1.2: \n"
   ]
  },
  {
   "cell_type": "markdown",
   "source": [
    "### Exercise 1.2a:\n",
    " "
   ],
   "metadata": {
    "collapsed": false
   }
  },
  {
   "cell_type": "code",
   "outputs": [
    {
     "name": "stdout",
     "output_type": "stream",
     "text": [
      "-0.9999999957076562\n",
      "9.265358966049026e-05\n"
     ]
    }
   ],
   "source": [
    "##SOLUTION\n"
   ],
   "metadata": {
    "collapsed": false,
    "ExecuteTime": {
     "end_time": "2024-07-09T14:30:21.444643Z",
     "start_time": "2024-07-09T14:30:21.414964Z"
    }
   },
   "execution_count": 12
  },
  {
   "cell_type": "markdown",
   "source": [
    "### Exercise 1.2b:\n"
   ],
   "metadata": {
    "collapsed": false
   }
  },
  {
   "cell_type": "code",
   "outputs": [
    {
     "name": "stdout",
     "output_type": "stream",
     "text": [
      "-1.0\n",
      "1.2246467991473532e-16\n"
     ]
    }
   ],
   "source": [],
   "metadata": {
    "collapsed": false,
    "ExecuteTime": {
     "end_time": "2024-07-09T14:30:21.476268Z",
     "start_time": "2024-07-09T14:30:21.445645Z"
    }
   },
   "execution_count": 13
  },
  {
   "cell_type": "markdown",
   "source": [
    "### Exercise 1.2c:\n"
   ],
   "metadata": {
    "collapsed": false
   }
  },
  {
   "cell_type": "code",
   "outputs": [
    {
     "name": "stdout",
     "output_type": "stream",
     "text": [
      "4.0\n",
      "16.0\n",
      "64.0\n",
      "256.0\n"
     ]
    }
   ],
   "source": [],
   "metadata": {
    "collapsed": false,
    "ExecuteTime": {
     "end_time": "2024-07-09T14:30:21.507366Z",
     "start_time": "2024-07-09T14:30:21.477368Z"
    }
   },
   "execution_count": 14
  },
  {
   "cell_type": "markdown",
   "source": [
    "### Exercise 1.2d:\n"
   ],
   "metadata": {
    "collapsed": false
   }
  },
  {
   "cell_type": "code",
   "outputs": [
    {
     "name": "stdout",
     "output_type": "stream",
     "text": [
      "13.0\n"
     ]
    }
   ],
   "source": [
    "##SOLUTION\n"
   ],
   "metadata": {
    "collapsed": false,
    "ExecuteTime": {
     "end_time": "2024-07-09T14:30:21.539132Z",
     "start_time": "2024-07-09T14:30:21.508538Z"
    }
   },
   "execution_count": 15
  }
 ],
 "metadata": {
  "colab": {
   "collapsed_sections": [
    "_SzI_n75cD_I",
    "SidQmIrLc-dr",
    "iL-GnhKJyBca"
   ],
   "provenance": [],
   "toc_visible": true
  },
  "kernelspec": {
   "name": "python3",
   "language": "python",
   "display_name": "Python 3 (ipykernel)"
  },
  "language_info": {
   "codemirror_mode": {
    "name": "ipython",
    "version": 3
   },
   "file_extension": ".py",
   "mimetype": "text/x-python",
   "name": "python",
   "nbconvert_exporter": "python",
   "pygments_lexer": "ipython3",
   "version": "3.1.-1"
  }
 },
 "nbformat": 4,
 "nbformat_minor": 0
}
