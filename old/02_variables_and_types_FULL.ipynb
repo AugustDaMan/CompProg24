{
 "cells": [
  {
   "cell_type": "markdown",
   "metadata": {
    "id": "PVMZXrYXboNB"
   },
   "source": [
    "# W2: Variables and Types"
   ]
  },
  {
   "cell_type": "markdown",
   "metadata": {},
   "source": [
    " TODO:\n",
    " - Fix subexercise reformatting\n",
    " - reformat all exercises to same nice format\n",
    " - add python keyword to appropriate blocks of code\n",
    " - add more iteration to group exercise: e.g. loop over int variables to satisfy eq."
   ]
  },
  {
   "cell_type": "code",
   "execution_count": 5,
   "metadata": {
    "ExecuteTime": {
     "end_time": "2024-07-18T09:24:51.832541Z",
     "start_time": "2024-07-18T09:24:51.395415Z"
    }
   },
   "outputs": [],
   "source": [
    "\n",
    "%load_ext autoreload\n",
    "%autoreload 2\n",
    "\n",
    "import utils\n",
    "import math"
   ]
  },
  {
   "cell_type": "markdown",
   "metadata": {},
   "source": [
    "## Exercise 1.1: Identifying types in Python (Coding Drill)\n",
    "\n",
    "Python uses many different data types to store variables. These include for instance, `int`, `float` and `string`. You can check a variable's type using the `type` function, e.g. `print(type(6))` should return `<class 'int'>`. \n",
    "\n",
    "When different data types such as `int` and `float` interact with one other through for instance the `+` operator, Python performs type casting, which is the conversion of one variable type to another.\n",
    "\n",
    " Knowing the different data types as well as being able to identify how and when these interact is fundamental to building robust and efficient programs in Python. "
   ]
  },
  {
   "cell_type": "code",
   "execution_count": 3,
   "metadata": {
    "ExecuteTime": {
     "end_time": "2024-07-08T10:36:16.028218Z",
     "start_time": "2024-07-08T10:36:16.004526Z"
    }
   },
   "outputs": [],
   "source": [
    "##INFO\n",
    "info_dict = {\"name\": \"Identifying types in Python\",\n",
    "             \"num_exercise\": \"2.1\",\n",
    "             \"author\": \"aulho\",\n",
    "             \"source\": \"new_original_content\",\n",
    "             \"difficulty\": 1,\n",
    "             \"type\": \"1abc\",\n",
    "             \"is_advanced\": False,\n",
    "             \"is_coding_drill\": True}\n",
    "utils.assert_info_dict_format(info_dict)"
   ]
  },
  {
   "cell_type": "markdown",
   "metadata": {},
   "source": [
    "### 1.1a: Checking types of variables\n",
    "Create variables `x = 5`, `y = 5.0`, and `z = \"5\"`. Print their types using `type()`."
   ]
  },
  {
   "cell_type": "code",
   "execution_count": 1,
   "metadata": {
    "ExecuteTime": {
     "end_time": "2024-07-09T10:15:25.395345Z",
     "start_time": "2024-07-09T10:15:25.377112Z"
    }
   },
   "outputs": [
    {
     "name": "stdout",
     "output_type": "stream",
     "text": [
      "<class 'int'>\n",
      "<class 'float'>\n",
      "<class 'str'>\n"
     ]
    }
   ],
   "source": [
    "##SOLUTION\n",
    "x = 5\n",
    "y = 5.0\n",
    "z = \"5\"\n",
    "print(type(x))\n",
    "print(type(y))\n",
    "print(type(z))"
   ]
  },
  {
   "cell_type": "markdown",
   "source": [
    "### 1.1b: Manual type casting\n",
    "Using functions `int()` and `float()`, convert `x` to a `float`, `y` to an `int`, and `z` to an `int`. Print the results and the types of the variables. "
   ],
   "metadata": {
    "collapsed": false
   }
  },
  {
   "cell_type": "code",
   "outputs": [
    {
     "name": "stdout",
     "output_type": "stream",
     "text": [
      "5.0 <class 'float'>\n",
      "5 <class 'int'>\n",
      "5 <class 'int'>\n"
     ]
    }
   ],
   "source": [
    "##SOLUTION\n",
    "x = float(x)\n",
    "y = int(y)\n",
    "z = int(z)\n",
    "print(x, type(x))\n",
    "print(y, type(y))\n",
    "print(z, type(z))"
   ],
   "metadata": {
    "collapsed": false,
    "ExecuteTime": {
     "end_time": "2024-07-09T10:15:44.446135Z",
     "start_time": "2024-07-09T10:15:44.430887Z"
    }
   },
   "execution_count": 3
  },
  {
   "cell_type": "markdown",
   "source": [
    "### 1.1c: Adding different data types\n",
    "Create a new variable `result` and assign the variable `z` to it. Now add `x` to `result` and notice what happens to the data type. Print the type of `result` before and after adding `x`.   "
   ],
   "metadata": {
    "collapsed": false
   }
  },
  {
   "cell_type": "code",
   "outputs": [
    {
     "name": "stdout",
     "output_type": "stream",
     "text": [
      "<class 'int'>\n",
      "<class 'float'>\n"
     ]
    }
   ],
   "source": [
    "##SOLUTION\n",
    "result = z\n",
    "print(type(result))\n",
    "result = result + x\n",
    "print(type(result))"
   ],
   "metadata": {
    "collapsed": false,
    "ExecuteTime": {
     "end_time": "2024-07-09T10:21:30.451186Z",
     "start_time": "2024-07-09T10:21:30.443527Z"
    }
   },
   "execution_count": 4
  },
  {
   "cell_type": "markdown",
   "source": [
    "### 1.1d: \n",
    "Create two variables `a = \"10.0\"` and `b = \"5\"`. Try adding these two variables and print the result. Was the result as you expected?"
   ],
   "metadata": {
    "collapsed": false
   }
  },
  {
   "cell_type": "code",
   "outputs": [
    {
     "name": "stdout",
     "output_type": "stream",
     "text": [
      "10.05\n"
     ]
    }
   ],
   "source": [
    "##SOLUTION\n",
    "a = \"10.0\"\n",
    "b = \"5\"\n",
    "result = a + b\n",
    "print(result)"
   ],
   "metadata": {
    "collapsed": false,
    "ExecuteTime": {
     "end_time": "2024-07-09T10:34:57.883561Z",
     "start_time": "2024-07-09T10:34:57.876658Z"
    }
   },
   "execution_count": 40
  },
  {
   "cell_type": "markdown",
   "source": [
    "### 1.1e: \n",
    "Try to change the data type of `b` to an `int`. Now do the same for `a`. Can you explain what happened? why do you think you get an error? "
   ],
   "metadata": {
    "collapsed": false
   }
  },
  {
   "cell_type": "code",
   "outputs": [
    {
     "name": "stdout",
     "output_type": "stream",
     "text": [
      "5\n"
     ]
    },
    {
     "ename": "ValueError",
     "evalue": "invalid literal for int() with base 10: '10.0'",
     "output_type": "error",
     "traceback": [
      "\u001B[1;31m---------------------------------------------------------------------------\u001B[0m",
      "\u001B[1;31mValueError\u001B[0m                                Traceback (most recent call last)",
      "Cell \u001B[1;32mIn[41], line 4\u001B[0m\n\u001B[0;32m      2\u001B[0m b \u001B[38;5;241m=\u001B[39m \u001B[38;5;28mint\u001B[39m(b)\n\u001B[0;32m      3\u001B[0m \u001B[38;5;28mprint\u001B[39m(b)\n\u001B[1;32m----> 4\u001B[0m a \u001B[38;5;241m=\u001B[39m \u001B[38;5;28;43mint\u001B[39;49m\u001B[43m(\u001B[49m\u001B[43ma\u001B[49m\u001B[43m)\u001B[49m\n\u001B[0;32m      5\u001B[0m \u001B[38;5;28mprint\u001B[39m(a)\n",
      "\u001B[1;31mValueError\u001B[0m: invalid literal for int() with base 10: '10.0'"
     ]
    }
   ],
   "source": [
    "##SOLUTION\n",
    "b = int(b)\n",
    "print(b)\n",
    "a = int(a)\n",
    "print(a)"
   ],
   "metadata": {
    "collapsed": false,
    "ExecuteTime": {
     "end_time": "2024-07-09T10:34:59.424086Z",
     "start_time": "2024-07-09T10:34:59.386905Z"
    }
   },
   "execution_count": 41
  },
  {
   "cell_type": "markdown",
   "source": [
    "### 1.1f: \n",
    "Consider again exercise 1.d. Reassign the variables `a = \"10.0` and `b = \"5\"`. Change the data types of `a` and `b` such that when you sum them the result becomes `15.0`.\n"
   ],
   "metadata": {
    "collapsed": false
   }
  },
  {
   "cell_type": "code",
   "outputs": [
    {
     "name": "stdout",
     "output_type": "stream",
     "text": [
      "15.0\n"
     ]
    }
   ],
   "source": [
    "##SOLUTION\n",
    "a = \"10.0\"\n",
    "b = \"5\"\n",
    "a = float(a)\n",
    "b = int(b)\n",
    "result = a + b\n",
    "print(result)"
   ],
   "metadata": {
    "collapsed": false,
    "ExecuteTime": {
     "end_time": "2024-07-09T10:35:40.666355Z",
     "start_time": "2024-07-09T10:35:40.653084Z"
    }
   },
   "execution_count": 42
  },
  {
   "cell_type": "markdown",
   "source": [
    "### 1.1g: \n",
    "Create a variable `value = 99` and `name = \"luftballons\"`. Change the types of these variables such that their sum becomes the string `\"99luftballons\"`"
   ],
   "metadata": {
    "collapsed": false
   }
  },
  {
   "cell_type": "code",
   "outputs": [
    {
     "name": "stdout",
     "output_type": "stream",
     "text": [
      "99luftballons\n"
     ]
    }
   ],
   "source": [
    "## SOLUTION\n",
    "value = 99\n",
    "object = \"luftballons\"\n",
    "song = str(value) + \"luftballons\"\n",
    "print(song)"
   ],
   "metadata": {
    "collapsed": false,
    "ExecuteTime": {
     "end_time": "2024-07-09T10:49:23.048098Z",
     "start_time": "2024-07-09T10:49:23.038555Z"
    }
   },
   "execution_count": 43
  },
  {
   "cell_type": "markdown",
   "source": [
    "### 1.1h: \n",
    "Assign the variables `x = 6` and `y = \" years\"`.\n",
    "Try adding `x` and `y`. Can you explain why this gives an error? "
   ],
   "metadata": {
    "collapsed": false
   }
  },
  {
   "cell_type": "code",
   "outputs": [
    {
     "ename": "TypeError",
     "evalue": "unsupported operand type(s) for +: 'int' and 'str'",
     "output_type": "error",
     "traceback": [
      "\u001B[1;31m---------------------------------------------------------------------------\u001B[0m",
      "\u001B[1;31mTypeError\u001B[0m                                 Traceback (most recent call last)",
      "Cell \u001B[1;32mIn[44], line 4\u001B[0m\n\u001B[0;32m      2\u001B[0m x \u001B[38;5;241m=\u001B[39m \u001B[38;5;241m6\u001B[39m\n\u001B[0;32m      3\u001B[0m y \u001B[38;5;241m=\u001B[39m \u001B[38;5;124m\"\u001B[39m\u001B[38;5;124m years\u001B[39m\u001B[38;5;124m\"\u001B[39m\n\u001B[1;32m----> 4\u001B[0m \u001B[38;5;28mprint\u001B[39m(\u001B[43mx\u001B[49m\u001B[43m \u001B[49m\u001B[38;5;241;43m+\u001B[39;49m\u001B[43m \u001B[49m\u001B[43my\u001B[49m)\n",
      "\u001B[1;31mTypeError\u001B[0m: unsupported operand type(s) for +: 'int' and 'str'"
     ]
    }
   ],
   "source": [
    "##SOLUTION\n",
    "x = 6\n",
    "y = \" years\"\n",
    "print(x + y)"
   ],
   "metadata": {
    "collapsed": false,
    "ExecuteTime": {
     "end_time": "2024-07-09T10:56:50.727696Z",
     "start_time": "2024-07-09T10:56:50.714635Z"
    }
   },
   "execution_count": 44
  },
  {
   "cell_type": "markdown",
   "source": [
    "### 1.1i:\n",
    "Create the `bool` variables `fact = True` and `lie = False`. Try running the piece of code below - Can you explain what happens?"
   ],
   "metadata": {
    "collapsed": false
   }
  },
  {
   "cell_type": "code",
   "outputs": [
    {
     "name": "stdout",
     "output_type": "stream",
     "text": [
      "1\n",
      "0\n",
      "TrueFalse\n"
     ]
    }
   ],
   "source": [
    "##SNIPPET\n",
    "fact = True\n",
    "lie = False\n",
    "print(fact + lie)\n",
    "print(fact * lie)"
   ],
   "metadata": {
    "collapsed": false,
    "ExecuteTime": {
     "end_time": "2024-07-09T11:01:05.465500Z",
     "start_time": "2024-07-09T11:01:05.446782Z"
    }
   },
   "execution_count": 47
  },
  {
   "cell_type": "markdown",
   "source": [
    "### 1.1j:\n",
    "Consider again the variables `fact = True` and `lie = False`. Try running the code below. Did you expect these results?"
   ],
   "metadata": {
    "collapsed": false
   }
  },
  {
   "cell_type": "code",
   "outputs": [
    {
     "name": "stdout",
     "output_type": "stream",
     "text": [
      "TrueFalse <class 'str'>\n",
      "1 <class 'int'>\n"
     ]
    }
   ],
   "source": [
    "result = str(fact) + str(lie)\n",
    "print(result, type(result))\n",
    "\n",
    "result = int(fact) + int(lie)\n",
    "print(result, type(result))"
   ],
   "metadata": {
    "collapsed": false,
    "ExecuteTime": {
     "end_time": "2024-07-09T11:04:47.364757Z",
     "start_time": "2024-07-09T11:04:47.347770Z"
    }
   },
   "execution_count": 52
  },
  {
   "cell_type": "markdown",
   "source": [
    "### 1.1k:\n",
    "Create a variable `test = True + 5.0`. Print the variable `test` as well as its type. Can you explain the result?"
   ],
   "metadata": {
    "collapsed": false
   }
  },
  {
   "cell_type": "code",
   "outputs": [
    {
     "name": "stdout",
     "output_type": "stream",
     "text": [
      "6.0\n"
     ]
    }
   ],
   "source": [
    "test = True + 5.0\n",
    "print(result)"
   ],
   "metadata": {
    "collapsed": false,
    "ExecuteTime": {
     "end_time": "2024-07-09T11:04:49.819627Z",
     "start_time": "2024-07-09T11:04:49.801988Z"
    }
   },
   "execution_count": 53
  },
  {
   "cell_type": "markdown",
   "metadata": {},
   "source": [
    "## Exercise 1.2: The Math module\n",
    "\n",
    "The math module in Python provides a wide range of mathematical functions and constants that allow you to perform complex mathematical calculations with ease. Here are some of the key functions and their uses:\n",
    "- `math.sin(x)`: Returns the sine of x, where x is in radians.\n",
    "- `math.cos(x)`: Returns the cosine of x, where x is in radians. \n",
    "- `math.exp(x)`: Returns the value of e raised to the power of x.\n",
    "- `math.log(x, base)`: Returns the logarithm of x to the specified base. If the base is not specified, it returns the natural logarithm.\n",
    "- `math.sqrt(x)`: Returns the square root of x.\n",
    "- `math.ceil(x)`: Returns the smallest integer greater than or equal to x.\n",
    "- `math.floor(x)`: Returns the largest integer less than or equal to x.\n",
    "Comparison operators such as ==, !=, <, >, <=, and >= are used to compare values and return a Boolean result (True or False).\n",
    "\n",
    "Solve the exercises below using the Math module in Python."
   ]
  },
  {
   "cell_type": "markdown",
   "source": [
    "### Exercise 1.2a:\n",
    "Create the variable `a = 3.1415`. Use the `math` to calculate the sine, cosine of `a`. "
   ],
   "metadata": {
    "collapsed": false
   }
  },
  {
   "cell_type": "code",
   "outputs": [
    {
     "name": "stdout",
     "output_type": "stream",
     "text": [
      "-0.9999999957076562\n",
      "9.265358966049026e-05\n"
     ]
    }
   ],
   "source": [
    "##SOLUTION\n",
    "import math\n",
    "a = 3.1415\n",
    "print(math.cos(a))\n",
    "print(math.sin(a))"
   ],
   "metadata": {
    "collapsed": false,
    "ExecuteTime": {
     "end_time": "2024-07-09T11:22:13.887646Z",
     "start_time": "2024-07-09T11:22:13.870604Z"
    }
   },
   "execution_count": 61
  },
  {
   "cell_type": "markdown",
   "source": [
    "### Exercise 1.2b:\n",
    "Replace the variable `a` with pi from the math module and repeat the previous exercise. Do you notice any changes? "
   ],
   "metadata": {
    "collapsed": false
   }
  },
  {
   "cell_type": "code",
   "outputs": [
    {
     "name": "stdout",
     "output_type": "stream",
     "text": [
      "-1.0\n",
      "1.2246467991473532e-16\n"
     ]
    }
   ],
   "source": [
    "# SOLUTION\n",
    "a = math.pi\n",
    "print(math.cos(a))\n",
    "print(math.sin(a))"
   ],
   "metadata": {
    "collapsed": false,
    "ExecuteTime": {
     "end_time": "2024-07-09T11:22:21.053765Z",
     "start_time": "2024-07-09T11:22:21.037221Z"
    }
   },
   "execution_count": 63
  },
  {
   "cell_type": "markdown",
   "source": [
    "### Exercise 1.2c:\n",
    "Create a variable `x = 4`. Use the math module to raise `x` to the power of 1, 2, 3, and 4. Verify that the results are 4, 16, 64 and 256."
   ],
   "metadata": {
    "collapsed": false
   }
  },
  {
   "cell_type": "code",
   "outputs": [
    {
     "name": "stdout",
     "output_type": "stream",
     "text": [
      "4.0\n",
      "16.0\n",
      "64.0\n",
      "256.0\n"
     ]
    }
   ],
   "source": [
    "# SOLUTION\n",
    "x = 4\n",
    "print(math.pow(x, 1))\n",
    "print(math.pow(x, 2))\n",
    "print(math.pow(x, 3))\n",
    "print(math.pow(x, 4))"
   ],
   "metadata": {
    "collapsed": false,
    "ExecuteTime": {
     "end_time": "2024-07-09T11:36:01.898727Z",
     "start_time": "2024-07-09T11:36:01.891617Z"
    }
   },
   "execution_count": 75
  },
  {
   "cell_type": "markdown",
   "source": [
    "### Exercise 1.2d:\n",
    "According to the Pythagorean theorem, the length of the hypotenuse $c$ in a right triangle is given by $c = \\sqrt{a^2 + b^2}$, where $a$ and $b$ are the remaning sides. Assume a right triangle has `a = 5` and `b = 12`. Use the math module to calculate the hypotenuse of the triangle $c$. Verify that the solution is `c = 13`."
   ],
   "metadata": {
    "collapsed": false
   }
  },
  {
   "cell_type": "code",
   "outputs": [
    {
     "name": "stdout",
     "output_type": "stream",
     "text": [
      "13.0\n"
     ]
    }
   ],
   "source": [
    "##SOLUTION\n",
    "side_a = 5\n",
    "side_b = 12\n",
    "result = math.pow(side_a, 2) + math.pow(side_b, 2)\n",
    "result = math.sqrt(result)\n",
    "print(result)"
   ],
   "metadata": {
    "collapsed": false,
    "ExecuteTime": {
     "end_time": "2024-07-09T11:32:30.510813Z",
     "start_time": "2024-07-09T11:32:30.506318Z"
    }
   },
   "execution_count": 72
  },
  {
   "cell_type": "markdown",
   "metadata": {
    "id": "qhB67Hc4ceml"
   },
   "source": [
    "## 1.3: Golf course\n",
    "\n",
    "Apart from learning to code in Python, you and your friends love to compete against each other on the local golf course. To improve your golfing skills, you would like to use your newly acquired experience in Python to track your own performance. To do so, you take you best swing and note down some key parameters. "
   ]
  },
  {
   "cell_type": "markdown",
   "source": [
    "### 1.3a Average ball velocity\n",
    "\n",
    "You would like to know how fast the golf ball was flying in the air. From Physics class, you know that the average velocity of an object along the ground can be found using the formula:\n",
    "$v = R / t$, where $v$ is the average velocity, $R$ is the distance or range of the shot and $t$ is the time of the ball in the air.  \n",
    "\n",
    "Your best shot today had a distance of $R = 87$ meters and an air time of $t = 3.04$ seconds. \n",
    "\n",
    "Calculate the horizontal velocity of the ball in $m/s$ and print the result.  "
   ],
   "metadata": {
    "collapsed": false
   }
  },
  {
   "cell_type": "code",
   "outputs": [
    {
     "name": "stdout",
     "output_type": "stream",
     "text": [
      "Horizontal velocity is: 28.61842105263158 m/s\n"
     ]
    }
   ],
   "source": [
    "# SOLUTION\n",
    "time = 3.04\n",
    "distance = 87\n",
    "velocity = distance / time\n",
    "print(\"Horizontal velocity is:\", velocity, \"m/s\")"
   ],
   "metadata": {
    "collapsed": false,
    "ExecuteTime": {
     "end_time": "2024-07-18T09:25:04.346540Z",
     "start_time": "2024-07-18T09:25:04.326898Z"
    }
   },
   "execution_count": 6
  },
  {
   "cell_type": "markdown",
   "source": [
    "### 1.3b Converting to kph\n",
    "Convert the result to kilometers per hour and round the result to the nearest integer. "
   ],
   "metadata": {
    "collapsed": false
   }
  },
  {
   "cell_type": "code",
   "outputs": [
    {
     "name": "stdout",
     "output_type": "stream",
     "text": [
      "Horizontal velocity is: 103 kph\n"
     ]
    }
   ],
   "source": [
    "# SOLUTION\n",
    "velocity_kph = round(velocity * 3.6)\n",
    "print(\"Horizontal velocity is:\", velocity_kph, \"kph\")"
   ],
   "metadata": {
    "collapsed": false,
    "ExecuteTime": {
     "end_time": "2024-07-18T09:25:06.247691Z",
     "start_time": "2024-07-18T09:25:06.214698Z"
    }
   },
   "execution_count": 7
  },
  {
   "cell_type": "markdown",
   "source": [
    "### Launch angle\n",
    "\n",
    "Your launch angle was 47 degrees. \n",
    "\n",
    "Use the math module to convert the launch angle to radians. hint: use `math.radians`. Print the result rounded to the nearest 3 decimal points. "
   ],
   "metadata": {
    "collapsed": false
   }
  },
  {
   "cell_type": "code",
   "outputs": [
    {
     "name": "stdout",
     "output_type": "stream",
     "text": [
      "Launch angle is: 0.82 rad\n"
     ]
    }
   ],
   "source": [
    "# SOLUTION\n",
    "angle_degrees = 47\n",
    "angle_radians = math.radians(angle_degrees)\n",
    "angle_radians = round(angle_radians, 3)\n",
    "print(\"Launch angle is:\", angle_radians, \"rad\")"
   ],
   "metadata": {
    "collapsed": false,
    "ExecuteTime": {
     "end_time": "2024-07-18T09:25:07.787657Z",
     "start_time": "2024-07-18T09:25:07.766081Z"
    }
   },
   "execution_count": 8
  },
  {
   "cell_type": "markdown",
   "source": [
    "### Velocity components of the shot\n",
    "\n",
    "To further analyze you shot, you decide to calculate both the horizontal and vertical velocity components of your shots. The velocity components $v_{x}$ and $v_{y}$ can be found using the following formulas:\n",
    "$v_{x} = v_{0} \\cdot \\cos{\\theta}$\n",
    "$v_{y} = v_{0} \\cdot \\sin{\\theta}$\n",
    "\n",
    "Where $v_{0}$ is the initial velocity [m/s] and $\\theta$ is the launch angle [radians]. \n",
    "\n",
    "Calculate the horizontal and vertical velocity components of your shot using the equations above.\n",
    "Print the results in kilometers per hour rounded to the nearest integer. "
   ],
   "metadata": {
    "collapsed": false
   }
  },
  {
   "cell_type": "code",
   "outputs": [
    {
     "name": "stdout",
     "output_type": "stream",
     "text": [
      "Horizontal velocity is: 70 kph\n",
      "Vertical velocity is: 75 kph\n"
     ]
    }
   ],
   "source": [
    "# SOLUTION\n",
    "vx = velocity * math.cos(angle_radians)\n",
    "vy = velocity * math.sin(angle_radians)\n",
    "vx_kph = round(vx * 3.6)\n",
    "vy_kph = round(vy * 3.6)\n",
    "\n",
    "print(\"Horizontal velocity is:\", vx_kph, \"kph\")\n",
    "print(\"Vertical velocity is:\", vy_kph, \"kph\")"
   ],
   "metadata": {
    "collapsed": false,
    "ExecuteTime": {
     "end_time": "2024-07-18T09:25:11.572980Z",
     "start_time": "2024-07-18T09:25:11.541300Z"
    }
   },
   "execution_count": 9
  },
  {
   "cell_type": "markdown",
   "source": [
    "### 1.3: Calculating the distance  \n",
    "Calculate the horizontal range of the projectile. Use can use the formula $R = \\frac{v_{0}^2 \\cdot \\sin(2  \\theta)}{g}$, where again $\\theta$ is the launch angle, $v_{0}$ is the initial velocity and $g= 9.82$ is the gravitational constant. Print the result in $m/s$ rounded to 2 decimals."
   ],
   "metadata": {
    "collapsed": false
   }
  },
  {
   "cell_type": "code",
   "outputs": [
    {
     "name": "stdout",
     "output_type": "stream",
     "text": [
      "Range is: 87.0 m/s\n"
     ]
    }
   ],
   "source": [
    "# SOLUTION\n",
    "g = 9.82\n",
    "range_projectile = (velocity ** 2 * math.sin(2 * angle_radians)) / g\n",
    "print(\"Range is:\", round(range_projectile,2), \"m/s\")\n"
   ],
   "metadata": {
    "collapsed": false,
    "ExecuteTime": {
     "end_time": "2024-07-18T09:26:40.619450Z",
     "start_time": "2024-07-18T09:26:40.596811Z"
    }
   },
   "execution_count": 16
  },
  {
   "cell_type": "markdown",
   "source": [
    "### 1.3: Calculating the height of the ball\n",
    "Calculate the maximum height of the ball. Use can use the formula $H = \\frac{v_0^2 \\cdot \\sin^2(\\theta)}{2g}$. \n",
    "Print the result in $m/s$ rounded to 2 decimals. "
   ],
   "metadata": {
    "collapsed": false
   }
  },
  {
   "cell_type": "code",
   "outputs": [
    {
     "name": "stdout",
     "output_type": "stream",
     "text": [
      "Maximum height is: 23.31 m/s\n"
     ]
    }
   ],
   "source": [
    "# SOLUTION\n",
    "max_height = (velocity ** 2 * math.sin(angle_radians) ** 2) / (2 * g)\n",
    "print(\"Maximum height is:\", round(max_height,2), \"m/s\")"
   ],
   "metadata": {
    "collapsed": false,
    "ExecuteTime": {
     "end_time": "2024-07-18T09:27:05.738804Z",
     "start_time": "2024-07-18T09:27:05.705384Z"
    }
   },
   "execution_count": 17
  },
  {
   "cell_type": "markdown",
   "metadata": {
    "id": "lmjE7RctcYNa"
   },
   "source": [
    "## Exercise 1.4: Investment Portfolio\n",
    "\n",
    "Calculate the future value of an investment after 3 years if it grows at an annual interest rate of 5%. Use the formula $A=P \\cdot e^{rt}$, where $P$ is the initial principal (1000 DKK), $r$ is the annual interest rate (0.05), and $t$ is time in years.\n",
    "\n",
    "Print the result in DKK rounded to 2 decimals."
   ]
  },
  {
   "cell_type": "code",
   "outputs": [
    {
     "name": "stdout",
     "output_type": "stream",
     "text": [
      "Value of investment after 3 years:  1161.83 DKK\n"
     ]
    }
   ],
   "source": [
    "# SOLUTION\n",
    "P = 1000\n",
    "r = 0.05\n",
    "t = 3\n",
    "A = P * math.exp(r*t)\n",
    "print(\"Value of investment after 3 years: \", round(A, 2), \"DKK\")"
   ],
   "metadata": {
    "collapsed": false,
    "ExecuteTime": {
     "end_time": "2024-07-18T09:30:14.193056Z",
     "start_time": "2024-07-18T09:30:14.161457Z"
    }
   },
   "execution_count": 23
  },
  {
   "cell_type": "markdown",
   "source": [
    "### Exercise 1.4b\n",
    "\n",
    "Assume you have invested 1000 DKK with an interest rate of 5%. Calculate the time it takes before the investment doubles to 2000 DKK. You can use the following formula: $t = \\frac{\\log{(A/P)}}{r}$.\n",
    "\n",
    "Print the result in years rounded up to the nearest whole year. "
   ],
   "metadata": {
    "collapsed": false
   }
  },
  {
   "cell_type": "code",
   "outputs": [
    {
     "name": "stdout",
     "output_type": "stream",
     "text": [
      "Time to double the investment: 14 years\n"
     ]
    }
   ],
   "source": [
    "# SOLUTION\n",
    "P = 1000\n",
    "A = 2000\n",
    "r = 0.05\n",
    "t = math.log(A / P) / r\n",
    "\n",
    "print(\"Time to double the investment:\", math.ceil(t), \"years\")"
   ],
   "metadata": {
    "collapsed": false,
    "ExecuteTime": {
     "end_time": "2024-07-18T09:31:38.295033Z",
     "start_time": "2024-07-18T09:31:38.264090Z"
    }
   },
   "execution_count": 25
  },
  {
   "cell_type": "markdown",
   "source": [
    "### Exercise 1.5c\n",
    "\n",
    "Consider again the result from the previous exercise before rounding to the nearest whole years. Convert the time from decimal years to years and months. Hint: To compute the number of months, first compute the decimal years by subtracting the whole number of years. Multiply this result by 12 months and finally round up. "
   ],
   "metadata": {
    "collapsed": false
   }
  },
  {
   "cell_type": "code",
   "outputs": [
    {
     "name": "stdout",
     "output_type": "stream",
     "text": [
      "Time to double investment: 13 years and 11 months\n"
     ]
    }
   ],
   "source": [
    "# SOLUTION\n",
    "years = t\n",
    "whole_years = int(t)\n",
    "decimal_years = years - whole_years\n",
    "months = math.ceil(12 * decimal_years)\n",
    "print(\"Time to double investment:\", whole_years, \"years and\", months, \"months\")"
   ],
   "metadata": {
    "collapsed": false,
    "ExecuteTime": {
     "end_time": "2024-07-09T13:47:58.624604Z",
     "start_time": "2024-07-09T13:47:58.612631Z"
    }
   },
   "execution_count": 146
  },
  {
   "cell_type": "markdown",
   "source": [
    "### Exercise: 1.5d Smart investing\n",
    "\n",
    "Consider the three investments:\n",
    "\n",
    "Investment A: P = 1000, r = 0.05\n",
    "Investment B: P = 1300, r = 0.03\n",
    "Investment C: P = 760, r = 0.08\n",
    "\n",
    "Assume a time period of t = 10 years. \n",
    "\n",
    "Which investment would be worth the most after 10 years?"
   ],
   "metadata": {
    "collapsed": false
   }
  },
  {
   "cell_type": "code",
   "outputs": [
    {
     "name": "stdout",
     "output_type": "stream",
     "text": [
      "Investment 1: 1648.7212707001281\n",
      "Investment 2: 1754.816449848804\n",
      "Investment 3: 1691.4111056542756\n"
     ]
    }
   ],
   "source": [
    "# SOLUTION\n",
    "t = 10\n",
    "\n",
    "P1 = 1000\n",
    "r1 = 0.05\n",
    "\n",
    "P2 = 1300\n",
    "r2 = 0.03\n",
    "\n",
    "P3 = 760\n",
    "r3 = 0.08\n",
    "\n",
    "A1 = P1 * math.exp(r1*t)\n",
    "A2 = P2 * math.exp(r2*t)\n",
    "A3 = P3 * math.exp(r3*t)\n",
    "\n",
    "print(\"Investment 1:\", A1)\n",
    "print(\"Investment 2:\", A2)\n",
    "print(\"Investment 3:\", A3)"
   ],
   "metadata": {
    "collapsed": false,
    "ExecuteTime": {
     "end_time": "2024-07-09T14:00:31.697035Z",
     "start_time": "2024-07-09T14:00:31.678083Z"
    }
   },
   "execution_count": 154
  },
  {
   "cell_type": "markdown",
   "source": [
    "## Exercise 1.6 Time Table: \n",
    "\n"
   ],
   "metadata": {
    "collapsed": false
   }
  },
  {
   "cell_type": "markdown",
   "source": [
    "## Exercise 1.7: any and all"
   ],
   "metadata": {
    "collapsed": false
   }
  },
  {
   "cell_type": "markdown",
   "source": [],
   "metadata": {
    "collapsed": false
   }
  },
  {
   "cell_type": "code",
   "outputs": [],
   "source": [
    "##INFO\n",
    "info_dict = {\"name\": \"\",\n",
    "             \"num_exercise\": \"1.6\",\n",
    "             \"author\": \"aulho\",\n",
    "             \"source\": \"modified_cp23\",\n",
    "             \"difficulty\": 2,\n",
    "             \"type\": \"1a\",\n",
    "             \"is_advanced\": False,\n",
    "             \"is_coding_drill\": False}\n",
    "utils.assert_info_dict_format(info_dict)"
   ],
   "metadata": {
    "collapsed": false
   },
   "execution_count": 27
  }
 ],
 "metadata": {
  "colab": {
   "collapsed_sections": [
    "_SzI_n75cD_I",
    "SidQmIrLc-dr",
    "iL-GnhKJyBca"
   ],
   "provenance": [],
   "toc_visible": true
  },
  "kernelspec": {
   "name": "python3",
   "language": "python",
   "display_name": "Python 3 (ipykernel)"
  },
  "language_info": {
   "codemirror_mode": {
    "name": "ipython",
    "version": 3
   },
   "file_extension": ".py",
   "mimetype": "text/x-python",
   "name": "python",
   "nbconvert_exporter": "python",
   "pygments_lexer": "ipython3",
   "version": "3.1.-1"
  }
 },
 "nbformat": 4,
 "nbformat_minor": 0
}
