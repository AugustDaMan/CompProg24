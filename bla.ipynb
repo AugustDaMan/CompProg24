{
 "cells": [
  {
   "cell_type": "markdown",
   "metadata": {
    "id": "PVMZXrYXboNB"
   },
   "source": [
    "# W4: Iteration and String"
   ]
  },
  {
   "cell_type": "code",
   "execution_count": 17,
   "metadata": {},
   "outputs": [],
   "source": [
    "%load_ext autoreload\n",
    "%autoreload 2\n",
    "\n",
    "import utils"
   ]
  },
  {
   "cell_type": "markdown",
   "metadata": {},
   "source": [
    "## Exercise 4.14: Playing with strings (Coding Drill)"
   ]
  },
  {
   "cell_type": "code",
   "execution_count": 5,
   "metadata": {},
   "outputs": [],
   "source": [
    "##INFO\n",
    "info_dict = {\"name\": \"Playing with strings\",\n",
    "             \"num_exercise\": \"4.14\",\n",
    "             \"author\": \"jloch\",\n",
    "             \"source\": \"new_original_content\",\n",
    "             \"difficulty\": 2,\n",
    "             \"type\": \"1abc\",\n",
    "             \"is_advanced\": False,\n",
    "             \"is_coding_drill\": True}\n",
    "utils.assert_info_dict_format(info_dict)"
   ]
  },
  {
   "cell_type": "markdown",
   "metadata": {},
   "source": []
  },
  {
   "cell_type": "markdown",
   "metadata": {},
   "source": [
    "### 4.14a Printing a string\n",
    "Consider the following code that prints the message hello world `\"Hello world!\"` in python. Copy and run it, making sure you see the message."
   ]
  },
  {
   "cell_type": "code",
   "execution_count": null,
   "metadata": {},
   "outputs": [],
   "source": [
    "##SNIPPET\n",
    "print(\"Hello world!\")"
   ]
  },
  {
   "cell_type": "markdown",
   "metadata": {},
   "source": [
    "### 4.14b Repeating the string 3 times\n",
    "Now modify the code to print a different string represented by the variable `msg` (e.g. `msg = \"Potato\"`), 3 times in succession on the same line.\n",
    "```\n",
    "\"PotatoPotatoPotato\"\n",
    "```\n",
    "Your implementation should also work for other values for the variable `msg` (i.e. don't write the literal string)."
   ]
  },
  {
   "cell_type": "code",
   "execution_count": 4,
   "metadata": {},
   "outputs": [
    {
     "name": "stdout",
     "output_type": "stream",
     "text": [
      "PotatoPotatoPotato\n"
     ]
    }
   ],
   "source": [
    "##SOLUTION\n",
    "msg = \"Potato\"\n",
    "print(msg+msg+msg)"
   ]
  },
  {
   "cell_type": "markdown",
   "metadata": {},
   "source": [
    "### 4.14c Repeating a string the smart way\n",
    "There are many different ways to achieve the same thing in coding, some smarter than others. \n",
    "- Does your code work if you only modify `msg = \"Cucumber\"` to a different string?\n",
    "- Can your code handle a different number of repetitions? e.g. 5 times or `n` times, where `n` is an integer variable.\n",
    "If the answer is no, then modify your code such that it only relies on and uses what is stored in the variables `msg` and `n`.\n",
    "\n",
    "Hint: Multiplying a string with an integer repeats the string (e.g. `2*\"boom\"` is `\"boomboom\"`)"
   ]
  },
  {
   "cell_type": "code",
   "execution_count": 43,
   "metadata": {},
   "outputs": [
    {
     "name": "stdout",
     "output_type": "stream",
     "text": [
      "potatopotatopotato\n",
      "potato\n",
      "potato\n",
      "potato\n",
      "\n"
     ]
    }
   ],
   "source": [
    "##SOLUTION\n",
    "print(\"Potato\"*3)"
   ]
  },
  {
   "cell_type": "markdown",
   "metadata": {},
   "source": [
    "### 4.14d Repeating with newlines\n",
    "Can you modify you code (without writing a loop) such that it also switches lines between each repetition? I.e. you should see\n",
    "```\n",
    "Potato\n",
    "Potato\n",
    "Potato\n",
    "```\n",
    "Hint: The newline character `\\n` can be used to switch lines within a string."
   ]
  },
  {
   "cell_type": "code",
   "execution_count": 7,
   "metadata": {},
   "outputs": [
    {
     "name": "stdout",
     "output_type": "stream",
     "text": [
      "Potato\n",
      "Potato\n",
      "Potato\n",
      "\n"
     ]
    }
   ],
   "source": [
    "##SOLUTION\n",
    "print((\"Potato\"+\"\\n\")*3)"
   ]
  },
  {
   "cell_type": "markdown",
   "metadata": {},
   "source": [
    "### 4.14e printing with repetition number\n",
    "Again, print the message `msg` `n` times but this time also print the repetition number starting from 0. For example, if `msg=\"Tomato\"` and `n=3` then you should print:\n",
    "```\n",
    "Tomato 0\n",
    "Tomato 1\n",
    "Tomato 2\n",
    "```\n",
    "Hint: Consider using a loop."
   ]
  },
  {
   "cell_type": "code",
   "execution_count": 8,
   "metadata": {},
   "outputs": [
    {
     "name": "stdout",
     "output_type": "stream",
     "text": [
      "Tomato 0\n",
      "Tomato 1\n",
      "Tomato 2\n"
     ]
    }
   ],
   "source": [
    "##SOLUTION\n",
    "n = 3\n",
    "msg = \"Tomato\"\n",
    "for i in range(n):\n",
    "    print(msg,i)"
   ]
  },
  {
   "cell_type": "markdown",
   "metadata": {},
   "source": [
    "### 4.14f Triangle string\n",
    "Now write code which prints a messsage one additional character at a time, constructing a triangle of letters. If `msg=\"ABC\"` then you should print\n",
    "```\n",
    "A\n",
    "AB\n",
    "ABC\n",
    "```\n",
    "\n",
    "Hint: to print the first k characters of a string variable `msg` you should use the indexing `print(msg[:k+1])`."
   ]
  },
  {
   "cell_type": "code",
   "execution_count": 13,
   "metadata": {},
   "outputs": [
    {
     "name": "stdout",
     "output_type": "stream",
     "text": [
      "T\n",
      "To\n",
      "Tom\n",
      "Toma\n",
      "Tomat\n",
      "Tomato\n"
     ]
    }
   ],
   "source": [
    "##SOLUTION\n",
    "msg = \"Tomato\"\n",
    "for i in range(len(msg)):\n",
    "        print(msg[:i+1])"
   ]
  },
  {
   "cell_type": "markdown",
   "metadata": {},
   "source": [
    "### 4.14g Symmetrical triangle\n",
    "Modify your from the previous exercise to also print a decreasing sequence of strings in the same manner. If `msg=\"ABC\"` then you should print\n",
    "```\n",
    "A\n",
    "AB\n",
    "ABC\n",
    "AB\n",
    "A\n",
    "```"
   ]
  },
  {
   "cell_type": "code",
   "execution_count": 14,
   "metadata": {},
   "outputs": [
    {
     "name": "stdout",
     "output_type": "stream",
     "text": [
      "A\n",
      "AB\n",
      "ABC\n",
      "AB\n",
      "A\n"
     ]
    }
   ],
   "source": [
    "##SOLUTION\n",
    "msg = \"ABC\"\n",
    "for i in range(len(msg)):\n",
    "    print(msg[:i+1])\n",
    "for i in range(len(msg)-2,-1,-1):\n",
    "    print(msg[:i+1])"
   ]
  },
  {
   "cell_type": "markdown",
   "metadata": {},
   "source": [
    "### 4.14h\n",
    "Now try to write code which keeps the last letters when shortening the string, instead of keeping the first letters. It should look like a parallelogram, i.e.\n",
    "```\n",
    "A\n",
    "AB\n",
    "ABC\n",
    " BC\n",
    "  C\n",
    "```\n",
    "Hint: To get the last 3 letters of a string you can use `potato[-3:]=\"ato\"`\n",
    "\n",
    "Hint: You can add e.g. 5 spaces to the beginning of string by multiplying a space string `\" \"` by 5 and adding them `\" \"*5+\"potato\"`"
   ]
  },
  {
   "cell_type": "code",
   "execution_count": 15,
   "metadata": {},
   "outputs": [
    {
     "name": "stdout",
     "output_type": "stream",
     "text": [
      "W\n",
      "Wa\n",
      "Waa\n",
      "Waaa\n",
      "Waaaa\n",
      "Waaaaa\n",
      "Waaaaau\n",
      "Waaaaauw\n",
      "Waaaaauw\n",
      " aaaaauw\n",
      "  aaaauw\n",
      "   aaauw\n",
      "    aauw\n",
      "     auw\n",
      "      uw\n",
      "       w\n"
     ]
    }
   ],
   "source": [
    "##SOLUTION\n",
    "##ADVANCED\n",
    "msg = \"Waaaaauw\"\n",
    "for i in range(len(msg)):\n",
    "    print(msg[:i+1])\n",
    "for i in range(len(msg)):\n",
    "    print(\" \"*i+msg[i-len(msg):])"
   ]
  },
  {
   "cell_type": "markdown",
   "metadata": {
    "id": "I6gxVD1DbBjR"
   },
   "source": [
    "## Exercise 4.1. nice sign"
   ]
  },
  {
   "cell_type": "code",
   "execution_count": 28,
   "metadata": {},
   "outputs": [],
   "source": [
    "##INFO\n",
    "info_dict = {\"name\": \"Nice sign\",\n",
    "             \"num_exercise\": \"4.1\",\n",
    "             \"author\": \"jloch\",\n",
    "             \"source\": \"modified_cp23\",\n",
    "             \"difficulty\": 3,\n",
    "             \"type\": \"1b\",\n",
    "             \"sub_exercises\": [\"a\", \"b\", \"c\", \"d\"],\n",
    "             \"is_advanced\": False,\n",
    "             \"is_coding_drill\": False}\n",
    "utils.assert_info_dict_format(info_dict)"
   ]
  },
  {
   "cell_type": "markdown",
   "metadata": {},
   "source": [
    "### 4.1a Last bug\n",
    "Write a function `last_bug()` which prints a \"sign\" displaying the text `I have written my last bug` "
   ]
  },
  {
   "cell_type": "code",
   "execution_count": 4,
   "metadata": {},
   "outputs": [],
   "source": [
    "##SOLUTION\n",
    "def last_bug():\n",
    "    print(\"------------------------------\")\n",
    "    print(\"| I have written my last bug |\")\n",
    "    print(\"------------------------------\")"
   ]
  },
  {
   "cell_type": "code",
   "execution_count": 5,
   "metadata": {},
   "outputs": [
    {
     "name": "stdout",
     "output_type": "stream",
     "text": [
      "------------------------------\n",
      "| I have written my last bug |\n",
      "------------------------------\n"
     ]
    }
   ],
   "source": [
    "##REPL\n",
    "last_bug()"
   ]
  },
  {
   "cell_type": "markdown",
   "metadata": {
    "id": "qhB67Hc4ceml"
   },
   "source": [
    "### 4.1b Variable message\n",
    "\n",
    "Construct a function which writes a nice sign for any message `nice_sign(msg)`. Note that the length of the borders should match messages of differing lengths."
   ]
  },
  {
   "cell_type": "code",
   "execution_count": 19,
   "metadata": {
    "colab": {
     "base_uri": "https://localhost:8080/"
    },
    "id": "LdrZXxKvbira",
    "outputId": "1d698f98-8e67-4d1c-f8e1-56032353bb29"
   },
   "outputs": [],
   "source": [
    "##SOLUTION\n",
    "def nice_sign(msg):\n",
    "    print(\"-\"*(len(msg)+4))\n",
    "    print(\"| \"+msg+\" |\")\n",
    "    print(\"-\"*(len(msg)+4))"
   ]
  },
  {
   "cell_type": "code",
   "execution_count": 22,
   "metadata": {},
   "outputs": [
    {
     "name": "stdout",
     "output_type": "stream",
     "text": [
      "----------------\n",
      "| Hello World! |\n",
      "----------------\n",
      "------------------\n",
      "| i am a sign :D |\n",
      "------------------\n"
     ]
    }
   ],
   "source": [
    "##REPL\n",
    "nice_sign(\"Hello World!\")\n",
    "nice_sign(\"i am a sign :D\")"
   ]
  },
  {
   "cell_type": "markdown",
   "metadata": {
    "id": "SidQmIrLc-dr"
   },
   "source": [
    "### 4.1c - D=3\n"
   ]
  },
  {
   "cell_type": "markdown",
   "metadata": {
    "id": "X2Rof_oPvc2s"
   },
   "source": [
    "We are unhappy with the symbol `\"-\"` and would like the option to modify it on the fly. Take your function from exercise 4.1b and add a optional input `border_symbol`. When a parameter is followed by an equal sign and value (e.g. `border_symbol=\"-\"`) in the function definition it acts as a default value. This means we don't specify it when calling the function, it will attain it's default value."
   ]
  },
  {
   "cell_type": "code",
   "execution_count": 23,
   "metadata": {},
   "outputs": [],
   "source": [
    "##SNIPPET\n",
    "def nice_sign_with_symbol(msg,border_symbol=\"-\"):\n",
    "    ...#your code"
   ]
  },
  {
   "cell_type": "code",
   "execution_count": 24,
   "metadata": {},
   "outputs": [],
   "source": [
    "##SOLUTION\n",
    "def nice_sign_with_symbol(msg,border_symbol=\"-\"):\n",
    "    print(border_symbol*(len(msg)+4))\n",
    "    print(\"| \"+msg+\" |\")\n",
    "    print(border_symbol*(len(msg)+4))"
   ]
  },
  {
   "cell_type": "code",
   "execution_count": 27,
   "metadata": {
    "colab": {
     "base_uri": "https://localhost:8080/"
    },
    "id": "hdSgInKwbCii",
    "outputId": "57b2b055-8793-4617-d72e-929e4aeff8b7"
   },
   "outputs": [
    {
     "name": "stdout",
     "output_type": "stream",
     "text": [
      "----------------\n",
      "| Hello World! |\n",
      "----------------\n",
      "----------------\n",
      "| Hello World! |\n",
      "----------------\n",
      "****************\n",
      "| Hello World! |\n",
      "****************\n",
      "ØØØØØØØØØØØØØØØØØØØØ\n",
      "| Greetings Earth! |\n",
      "ØØØØØØØØØØØØØØØØØØØØ\n",
      "XXXXXXXXXXXXXXXXXXXXXXX\n",
      "| Salutations Planet! |\n",
      "XXXXXXXXXXXXXXXXXXXXXXX\n"
     ]
    }
   ],
   "source": [
    "##REPL\n",
    "nice_sign_with_symbol(\"Hello World!\")\n",
    "nice_sign_with_symbol(\"Hello World!\",border_symbol=\"-\")\n",
    "nice_sign_with_symbol(\"Hello World!\",border_symbol=\"*\")\n",
    "\n",
    "nice_sign_with_symbol(\"Greetings Earth!\",border_symbol=\"Ø\")\n",
    "nice_sign_with_symbol(\"Salutations Planet!\",border_symbol=\"X\")"
   ]
  },
  {
   "cell_type": "markdown",
   "metadata": {
    "id": "lmjE7RctcYNa"
   },
   "source": [
    "## Exercise 4.2: Estimate square roots\n",
    "\n",
    "Edit to use something more useful - the problem is that you would just use numpy or something else to calculate the square root.  "
   ]
  },
  {
   "cell_type": "code",
   "execution_count": 30,
   "metadata": {},
   "outputs": [],
   "source": [
    "##INFO\n",
    "info_dict = {\"name\": \"Estimate square roots\",\n",
    "             \"num_exercise\": \"4.2\",\n",
    "             \"author\": \"aulho,jloch\",\n",
    "             \"source\": \"new_original_content\",\n",
    "             \"difficulty\": 6,\n",
    "             \"type\": \"1d\",\n",
    "             \"sub_exercises\": [\"a\", \"b\", \"c\"],\n",
    "             \"is_advanced\": False,\n",
    "             \"is_coding_drill\": False}\n",
    "utils.assert_info_dict_format(info_dict)"
   ]
  },
  {
   "cell_type": "markdown",
   "metadata": {
    "id": "FhNY_5OCve--"
   },
   "source": [
    "In this exercise, you will compute the square root of a number using a simple algorithm: Newton’s method. The method is described in [Dow16], section 7.5. The method is iterative, meaning that it repeatedly applies the same operation to get closer and closer to the answer. The method is as follows:\n",
    "\n",
    "1. Start with a guess $x$\n",
    "2. Compute a new guess $y$ using the formula:\n",
    "\n",
    "$$y = \\frac{x + \\frac{a}{x}}{2}$$\n",
    "\n",
    "3. Repeat the previous step until the difference is small enough\n",
    "\n",
    "Try your function with different values to see if it computes the square root correctly.\n"
   ]
  },
  {
   "cell_type": "markdown",
   "metadata": {
    "id": "ekLPZyDHq75D"
   },
   "source": [
    "### 4.2a\n",
    "Implement the formula which calculates the new guess $y$ given a number $a$ and an initial guess $x$, based on the following function skeleton:\n"
   ]
  },
  {
   "cell_type": "code",
   "execution_count": 31,
   "metadata": {},
   "outputs": [],
   "source": [
    "##SNIPPET\n",
    "def compute_y(a, x):\n",
    "    y=0 #YOUR_CODE_HERE\n",
    "    return y"
   ]
  },
  {
   "cell_type": "code",
   "execution_count": 34,
   "metadata": {},
   "outputs": [],
   "source": [
    "##SOLUTION\n",
    "def compute_y(a, x):\n",
    "    y = (x + (a / x))/2\n",
    "    return y"
   ]
  },
  {
   "cell_type": "code",
   "execution_count": 37,
   "metadata": {
    "colab": {
     "base_uri": "https://localhost:8080/"
    },
    "id": "tNbucOz_rem1",
    "outputId": "05049cbf-9450-4fd3-80ef-d877beb54258"
   },
   "outputs": [
    {
     "name": "stdout",
     "output_type": "stream",
     "text": [
      "Number to calculate square root of: 2\n",
      "Initial guess 2.0000:\n",
      "New guess 1.5000:\n"
     ]
    }
   ],
   "source": [
    "##REPL\n",
    "a = 2\n",
    "x = 2\n",
    "y = compute_y(a, x)\n",
    "print(\"Number to calculate square root of: %d\" % a)\n",
    "print(\"Initial guess %0.4f:\" % x)\n",
    "print(\"New guess %0.4f:\" % y)"
   ]
  },
  {
   "cell_type": "markdown",
   "metadata": {
    "id": "0xmym5xgsARb"
   },
   "source": [
    "### 4.2b\n",
    "Implement your solution from the previous exercise in a loop to complete Newton's method.\n",
    "Hint: Calculate $y$ inside a ```for``` or ```while``` loop. To make the algorithm iterative, remember to update the initial guess $x$ as the new guess $y$ inside the loop.    "
   ]
  },
  {
   "cell_type": "code",
   "execution_count": 40,
   "metadata": {},
   "outputs": [],
   "source": [
    "##SOLUTION\n",
    "def estimate_sqrt(a, n, x):\n",
    "    for i in range(n):\n",
    "        y = compute_y(a, x)\n",
    "        x = y\n",
    "    return y"
   ]
  },
  {
   "cell_type": "code",
   "execution_count": 42,
   "metadata": {
    "colab": {
     "base_uri": "https://localhost:8080/"
    },
    "id": "vrNYCGEVt-Sr",
    "outputId": "b0dde009-670a-41d0-a169-b5dcca90a206"
   },
   "outputs": [
    {
     "name": "stdout",
     "output_type": "stream",
     "text": [
      "Actual square root of 2.000000 is 1.414214\n",
      "Our estimate 1.414214\n"
     ]
    }
   ],
   "source": [
    "##REPL\n",
    "a = 2\n",
    "sqrt_a = a**0.5\n",
    "x = 2\n",
    "n = 10\n",
    "print(\"Actual square root of %f is %f\" % (a, sqrt_a))\n",
    "print(\"Our estimate %f\" % estimate_sqrt(a, n, x))"
   ]
  },
  {
   "cell_type": "markdown",
   "metadata": {
    "id": "AwWG_BrGuSZF"
   },
   "source": [
    "### 4.2c\n",
    "Edit your implementation to include a minimum step size $\\epsilon$ as a parameter, which breaks the loop when the difference between x and y is less than $\\epsilon$. Before you break the loop, print how many iterations were required.\n"
   ]
  },
  {
   "cell_type": "markdown",
   "metadata": {
    "id": "QAR4UV6qwcby"
   },
   "source": [
    "Hint: To calculate the absolute difference between $y$ and $x$, you can use the function `abs`."
   ]
  },
  {
   "cell_type": "code",
   "execution_count": 49,
   "metadata": {},
   "outputs": [],
   "source": [
    "##SOLUTION\n",
    "def estimate_sqrt(a, n, x, eps):\n",
    "    for i in range(n):\n",
    "        y = compute_y(a, x)\n",
    "        if abs(x - y) < eps:\n",
    "            print(\"Converged after %d iterations\" % i)\n",
    "            break\n",
    "        x = y\n",
    "    return y"
   ]
  },
  {
   "cell_type": "code",
   "execution_count": 54,
   "metadata": {
    "colab": {
     "base_uri": "https://localhost:8080/"
    },
    "id": "EVMbS5gQu7EG",
    "outputId": "9c9f66df-8b05-4b58-9525-e277298c707e"
   },
   "outputs": [
    {
     "name": "stdout",
     "output_type": "stream",
     "text": [
      "Actual square root of 31928 is 178.684079\n",
      "Converged after 11 iterations\n",
      "Estimate 178.684079\n"
     ]
    }
   ],
   "source": [
    "##REPL\n",
    "a = 31928\n",
    "sqrt_a = a**0.5\n",
    "x = 2\n",
    "n = 100\n",
    "eps = 1e-9\n",
    "print(\"Actual square root of %d is %f\" % (a, sqrt_a))\n",
    "print(\"Estimate %f\" % estimate_sqrt(a, n, x, eps))"
   ]
  },
  {
   "cell_type": "markdown",
   "metadata": {
    "id": "LiKCPw3icbGZ"
   },
   "source": [
    "\n",
    "## Exercise 4.3: Palindrome - D=4\n",
    "\n",
    "Be careful with advanced string indexing - unless this is already taught\n"
   ]
  },
  {
   "cell_type": "code",
   "execution_count": 56,
   "metadata": {},
   "outputs": [],
   "source": [
    "##INFO\n",
    "info_dict = {\"name\": \"Palindrome\",\n",
    "             \"num_exercise\": \"4.2\",\n",
    "             \"author\": \"aulho,jloch\",\n",
    "             \"source\": \"modified_cp23\",\n",
    "             \"difficulty\": 6,\n",
    "             \"type\": \"1a\",\n",
    "             \"sub_exercises\": [],\n",
    "             \"is_advanced\": False,\n",
    "             \"is_coding_drill\": False}\n",
    "utils.assert_info_dict_format(info_dict)"
   ]
  },
  {
   "cell_type": "code",
   "execution_count": 89,
   "metadata": {},
   "outputs": [],
   "source": [
    "##SOLUTION\n",
    "#easy way\n",
    "def is_palindrome(string):\n",
    "    i = 0\n",
    "    L = len(string)\n",
    "    while i < L:\n",
    "        if string[i] != string[L-i-1]:\n",
    "            return False\n",
    "        i = i + 1\n",
    "\n",
    "    return True\n",
    "#smart way\n",
    "def is_palindrome(string):\n",
    "    return string==string[::-1]"
   ]
  },
  {
   "cell_type": "code",
   "execution_count": 91,
   "metadata": {
    "colab": {
     "base_uri": "https://localhost:8080/"
    },
    "id": "oxs8bLRnd6L8",
    "outputId": "f13a6b83-c0cf-497c-c0ba-06f3270f644f"
   },
   "outputs": [
    {
     "data": {
      "text/plain": [
       "True"
      ]
     },
     "execution_count": 91,
     "metadata": {},
     "output_type": "execute_result"
    }
   ],
   "source": [
    "##REPL\n",
    "is_palindrome(\"madam\")\n",
    "is_palindrome(\"hello\")\n",
    "is_palindrome(\"racecar\")\n",
    "is_palindrome(\"wauw\")\n",
    "is_palindrome(\"damejer nis berg greb sin rejemad\")"
   ]
  },
  {
   "cell_type": "markdown",
   "metadata": {
    "id": "1T_5c27lhBQB"
   },
   "source": [
    "## Exercise 4.4: Getting the dialogue - D=8\n",
    "\n",
    "Move to another week with lists"
   ]
  },
  {
   "cell_type": "code",
   "execution_count": null,
   "metadata": {
    "colab": {
     "base_uri": "https://localhost:8080/"
    },
    "id": "pG-TjXbnhL_1",
    "outputId": "1bd7c4d8-ec84-4e9f-9806-3dae2ed7e357"
   },
   "outputs": [
    {
     "name": "stdout",
     "output_type": "stream",
     "text": [
      "My dear Mr. Bennet,\n",
      "have you heard that Netherfield Park is let at last?\n"
     ]
    }
   ],
   "source": [
    "\n",
    "dialogue = \"''My dear Mr. Bennet,'' said his lady to him one day, ''have you heard that Netherfield Park is let at last?''\"\n",
    "\n",
    "def print_the_dialogue(dialogue):\n",
    "    num_quotations = 0\n",
    "    acc_s = \"\"\n",
    "    for s in dialogue:\n",
    "        if s==\"'\":\n",
    "            num_quotations += 1\n",
    "        else:\n",
    "            if num_quotations==2:\n",
    "                acc_s += s\n",
    "        if num_quotations==4:\n",
    "            print(acc_s)\n",
    "            num_quotations = 0\n",
    "            acc_s = \"\"\n",
    "\n",
    "print_the_dialogue(dialogue)"
   ]
  },
  {
   "cell_type": "markdown",
   "metadata": {
    "id": "umk5a6H5ehWh"
   },
   "source": [
    "## Exercise 4.12. Gamertag - D=3"
   ]
  },
  {
   "cell_type": "code",
   "execution_count": 63,
   "metadata": {},
   "outputs": [],
   "source": [
    "##SOLUTION\n",
    "def format_as_gamertag(name):\n",
    "    print(\"XxX_\"+name.replace(\" \",\"_\")+\"_XxX\")"
   ]
  },
  {
   "cell_type": "markdown",
   "metadata": {
    "id": "ufV96F96vQlI"
   },
   "source": [
    "In this exercise we would like to write a function which, when given a name, prints an appropriate gamertag. It is usually impossible to put spaces in a gamertag, hence we want to replace  `\" \"` with `\"_\"`. Additionally, we want put some cool symbols at the start and end of the string. E.g. we want\n",
    "\n",
    "\n"
   ]
  },
  {
   "cell_type": "code",
   "execution_count": 65,
   "metadata": {},
   "outputs": [
    {
     "name": "stdout",
     "output_type": "stream",
     "text": [
      "XxX_Morten_Rieger_Hannemose_XxX\n",
      "XxX_Vedrana_Dahl_XxX\n"
     ]
    }
   ],
   "source": [
    "##REPL\n",
    "format_as_gamertag(\"Morten Rieger Hannemose\")\n",
    "format_as_gamertag(\"Vedrana Dahl\")"
   ]
  },
  {
   "cell_type": "markdown",
   "metadata": {},
   "source": [
    "Hint: Strings contain a method to replace one type of substring with another. E.g."
   ]
  },
  {
   "cell_type": "code",
   "execution_count": null,
   "metadata": {},
   "outputs": [],
   "source": [
    "##REPL\n",
    "string_var = \"a b c abc aabbcc\"\n",
    "string_var.replace(\"b\",\"B\")\n",
    "string_var.replace(\"aa\",\"12345\")"
   ]
  },
  {
   "cell_type": "code",
   "execution_count": 60,
   "metadata": {
    "colab": {
     "base_uri": "https://localhost:8080/"
    },
    "id": "pdgdDY-ybCB8",
    "outputId": "5841b975-18c5-411b-c47e-62f458bbd163"
   },
   "outputs": [
    {
     "name": "stdout",
     "output_type": "stream",
     "text": [
      "XxX_Vedrana_Dahl_XxX\n"
     ]
    }
   ],
   "source": [
    "\n"
   ]
  },
  {
   "cell_type": "code",
   "execution_count": 61,
   "metadata": {},
   "outputs": [
    {
     "name": "stdout",
     "output_type": "stream",
     "text": [
      "XxX_Vedrana_Dahl_XxX\n"
     ]
    }
   ],
   "source": []
  },
  {
   "cell_type": "markdown",
   "metadata": {
    "id": "TeJNSrcHlOUH"
   },
   "source": [
    "## Exercise 4.5: Common prefixes - D=4\n"
   ]
  },
  {
   "cell_type": "markdown",
   "metadata": {},
   "source": [
    "In this exercise, you will implement a function that finds the longest common prefix of two words. For instance, the longest common prefix of `\"coffee\"` and `\"covfefe\"` is `\"co\"`.\n",
    "\n",
    "Specifically, write a function `common_prefix(word1, word2)` described by the following function documentation:"
   ]
  },
  {
   "cell_type": "code",
   "execution_count": 114,
   "metadata": {},
   "outputs": [],
   "source": [
    "##DOCUMENTATION\n",
    "\n",
    "doc = {\"Description\": \"Return the longest string so that both word1, and word2 begin with that string\",\n",
    "        \"Parameters\": {\"word1\": {\"Type\": \"str\", \"Description\": \"The first word\"},\n",
    "                       \"word2\": {\"Type\": \"str\", \"Description\": \"The second word\"}},\n",
    "        \"Returns\": {\"Type\": \"str\", \"Description\": \"The longest common prefix.\"}}\n",
    "utils.verify_docstring(doc)"
   ]
  },
  {
   "cell_type": "code",
   "execution_count": 117,
   "metadata": {},
   "outputs": [],
   "source": [
    "utils.ascending_reorder_of_exercises(\"./04_script.ipynb\")"
   ]
  },
  {
   "cell_type": "code",
   "execution_count": null,
   "metadata": {},
   "outputs": [],
   "source": []
  },
  {
   "cell_type": "code",
   "execution_count": null,
   "metadata": {
    "colab": {
     "base_uri": "https://localhost:8080/"
    },
    "id": "NRTRGXCOlSa1",
    "outputId": "53349035-ec2e-48ad-c28f-75604c4013f9"
   },
   "outputs": [
    {
     "name": "stdout",
     "output_type": "stream",
     "text": [
      "co\n"
     ]
    }
   ],
   "source": [
    "##SOLUTION\n",
    "s1 = \"coffee\"\n",
    "s2 = \"covfefe\"\n",
    "\n",
    "def common_prefix(s1, s2):\n",
    "    prefix = \"\"\n",
    "    L_min = min(len(s1), len(s2))\n",
    "    for i in range(L_min):\n",
    "        if s1[i] == s2[i]:\n",
    "            prefix = prefix + s1[i]\n",
    "        else:\n",
    "            break\n",
    "\n",
    "    print(prefix)\n",
    "\n",
    "common_prefix(\"coffee\", \"covfefe\")\n"
   ]
  },
  {
   "cell_type": "markdown",
   "metadata": {
    "id": "hBmTDZ27lSxc"
   },
   "source": [
    "## Exercise 4.6: Common prefixes of three words - D=6\n",
    "\n",
    "Could be elaborated on using lists."
   ]
  },
  {
   "cell_type": "code",
   "execution_count": null,
   "metadata": {
    "colab": {
     "base_uri": "https://localhost:8080/"
    },
    "id": "3tOG2LholXkL",
    "outputId": "3460d584-6f86-416b-8e71-2930f3298dcf"
   },
   "outputs": [
    {
     "name": "stdout",
     "output_type": "stream",
     "text": [
      "co\n"
     ]
    }
   ],
   "source": [
    "\n",
    "s1 = \"coffee\"\n",
    "s2 = \"covfefe\"\n",
    "s3 = \"cofoco\"\n",
    "\n",
    "def common_prefix(s1, s2, s3):\n",
    "    prefix = \"\"\n",
    "    L_min = min(len(s1), len(s2), len(s3))\n",
    "    for i in range(L_min):\n",
    "        if s1[i] == s2[i] and s1[i] == s3[i] :\n",
    "            prefix = prefix + s1[i]\n",
    "        else:\n",
    "            break\n",
    "\n",
    "    print(prefix)\n",
    "\n",
    "common_prefix(s1, s2, s3)\n"
   ]
  },
  {
   "cell_type": "markdown",
   "metadata": {
    "id": "iL-GnhKJyBca"
   },
   "source": [
    "## Exercise 4.7: Internet Cafe (Storytime, TODO) - D=5\n"
   ]
  },
  {
   "cell_type": "markdown",
   "metadata": {
    "id": "SvvRaqjzoaNJ"
   },
   "source": [
    "You are in charge of an internet cafe at DTU Campus. Recently, since you installed brand new arcade machines, your cafe have become very popular with bachelor students who like to compete with each other for the highest scores.\n"
   ]
  },
  {
   "cell_type": "markdown",
   "metadata": {
    "id": "p3Rs9yct6KDj"
   },
   "source": [
    "## 4.13. Recording student names - D=2\n"
   ]
  },
  {
   "cell_type": "markdown",
   "metadata": {
    "id": "GjG0rBBN6NzW"
   },
   "source": [
    " You would like to keep track of the students who visits your cafe. At the bar, you would like to register each students name and level as a string such as ```\"Bsc_Marie\"``` or ```\"Bsc_Jonas\"```.\n",
    "\n",
    "Write a function which given a name and an education level return the string like the examples above."
   ]
  },
  {
   "cell_type": "code",
   "execution_count": null,
   "metadata": {
    "colab": {
     "base_uri": "https://localhost:8080/"
    },
    "id": "bwSwg1YN6mbT",
    "outputId": "84094515-bee4-46fd-b731-3c06b5bc92e5"
   },
   "outputs": [
    {
     "name": "stdout",
     "output_type": "stream",
     "text": [
      "Bsc_Marie\n",
      "Bsc_Jonas\n"
     ]
    }
   ],
   "source": [
    "\n",
    "def record_player(name, level):\n",
    "    player = level + \"_\" + name\n",
    "    return player\n",
    "\n",
    "player = record_player(\"Marie\", \"Bsc\")\n",
    "print(player)\n",
    "\n",
    "player = record_player(\"Jonas\", \"Bsc\")\n",
    "print(player)\n"
   ]
  },
  {
   "cell_type": "markdown",
   "metadata": {
    "id": "-_crJzARM6d6"
   },
   "source": [
    "## 4.13. A string of students - D=5\n",
    "\n",
    "To efficiently store multiple guests in the same variable, you would like to create a longer string containing multiple names. You would like to use the following format:\n",
    "\n",
    "```\"Bsc_Anna_Msc_Line_Bsc_Mathias_Bsc_Marcus_Msc_Jonas_Bsc_Katrine_Msc_Tina\"```\n",
    "\n",
    "Implement a function which takes a string and append a student's name and level.\n",
    "\n"
   ]
  },
  {
   "cell_type": "code",
   "execution_count": null,
   "metadata": {
    "colab": {
     "base_uri": "https://localhost:8080/"
    },
    "id": "PHSO5qjFWvyT",
    "outputId": "55eb5527-064c-413e-9c06-d6565eb3107a"
   },
   "outputs": [
    {
     "name": "stdout",
     "output_type": "stream",
     "text": [
      "Bsc_Jonas_Bsc_Marie\n"
     ]
    }
   ],
   "source": [
    "def add_player(string, name, level):\n",
    "   string = string + \"_\" + record_player(name, level)\n",
    "   return string\n",
    "\n",
    "string = \"Bsc_Jonas\"\n",
    "\n",
    "string = add_player(string, \"Marie\", \"Bsc\"))\n",
    "string = add_player(string, \"\"))"
   ]
  },
  {
   "cell_type": "markdown",
   "metadata": {
    "id": "qWP6pnUjsZhN"
   },
   "source": [
    "## Exercise 4.8. Sum numbers to N - D=4"
   ]
  },
  {
   "cell_type": "markdown",
   "metadata": {
    "id": "FM2F8f0Tv7JG"
   },
   "source": [
    "Two students, Astrid and Benny, has been forced to write an implementation of a python function which sums (adds) all the numbers from 1 up to and including n. Some code from the function has been masked out, and you should figure out what the correct expression is.\n",
    "\n",
    "\n"
   ]
  },
  {
   "cell_type": "code",
   "execution_count": null,
   "metadata": {
    "colab": {
     "base_uri": "https://localhost:8080/"
    },
    "id": "LjfhVl4dsaaI",
    "outputId": "eb684e57-1b9f-49f0-dce2-7965dcbe4ac0"
   },
   "outputs": [
    {
     "name": "stdout",
     "output_type": "stream",
     "text": [
      "10\n",
      "10\n",
      "10\n",
      "10\n"
     ]
    }
   ],
   "source": [
    "def sum_to_n_astrid(n):\n",
    "    s = 0\n",
    "    #for i in range(REPLACE_THIS_WITH_EXPRESSION):\n",
    "    for i in range(n+1):  # Solution\n",
    "        s += i\n",
    "    return s\n",
    "\n",
    "def sum_to_n_benny(n):\n",
    "    s = 0\n",
    "    i = 0\n",
    "    #while i<REPLACE_THIS_WITH_EXPRESSION:\n",
    "    while i<n:  # Solution\n",
    "        i += 1\n",
    "        s += i\n",
    "    return s\n",
    "\n",
    "def sum_to_n_cirkeline(n):\n",
    "    s = 0\n",
    "    i = 0\n",
    "    while True:\n",
    "        s = s + i\n",
    "        i += 1\n",
    "        #stop_the_loop = REPLACE_THIS_WITH_EXPRESSION\n",
    "        stop_the_loop = i>n # Solution\n",
    "        if stop_the_loop:\n",
    "            break\n",
    "    return s\n",
    "\n",
    "print(1+2+3+4)\n",
    "print(sum_to_n_benny(4))\n",
    "print(sum_to_n_astrid(4))\n",
    "print(sum_to_n_cirkeline(4))"
   ]
  },
  {
   "cell_type": "markdown",
   "metadata": {
    "id": "aeiByu8B15fG"
   },
   "source": [
    "You are in charge of an internet cafe at DTU Campus. Recently, since you installed brand new arcade machines, your cafe have become very popular with bachelor students who like to compete with each other for the highest scores.\n"
   ]
  },
  {
   "cell_type": "markdown",
   "metadata": {
    "id": "O_tcZ-Ni0hLS"
   },
   "source": [
    "## Exercise 4.9. String methods - D=4\n",
    "\n",
    "This exercise can be done at home as preparation before the quiz."
   ]
  },
  {
   "cell_type": "markdown",
   "metadata": {
    "id": "WA6tQ3QX1AK1"
   },
   "source": [
    "A method is a function related to a python class which can be called by using dot notation, for example:\n",
    "```\n",
    "print(\"hello\".upper())\n",
    "\"HELLO\"\n",
    "\n",
    "some_string = \"hello\"\n",
    "print(some_string.capitalize())\n",
    "\"Hello\"\n",
    "```\n",
    "\n",
    "Consider the following code, and explain what the ```replace``` method does. If you don't understand what it does, consider running the code and changing variables or search google for \"python string replace method\" for detailed documentation.\n",
    "Same question for the methods ```find```, ```index```, ```count```, ```lower``` and ```upper```."
   ]
  },
  {
   "cell_type": "code",
   "execution_count": null,
   "metadata": {
    "colab": {
     "base_uri": "https://localhost:8080/"
    },
    "id": "uBBPIV3twldI",
    "outputId": "35415a39-6d1b-4bbe-fae8-f4d5837dde1a"
   },
   "outputs": [
    {
     "name": "stdout",
     "output_type": "stream",
     "text": [
      "bananatest\n",
      "123boom!esboom!\n",
      "123test\n"
     ]
    }
   ],
   "source": [
    "my_string = \"123test\"\n",
    "\n",
    "print(my_string.replace(\"123\",\"banana\"))\n",
    "#bananatest\n",
    "print(my_string.replace(\"t\",\"boom!\"))\n",
    "#123boom!esboom!\n",
    "print(my_string.replace(\"bla\",\"boom!\"))\n",
    "#123test\n"
   ]
  },
  {
   "cell_type": "code",
   "execution_count": null,
   "metadata": {
    "colab": {
     "base_uri": "https://localhost:8080/"
    },
    "id": "S3V9g8ze0wi9",
    "outputId": "3ba83575-48c9-4302-aba9-e82674769e64"
   },
   "outputs": [
    {
     "name": "stdout",
     "output_type": "stream",
     "text": [
      "6\n",
      "4\n",
      "-1\n",
      "2\n",
      "0\n"
     ]
    }
   ],
   "source": [
    "my_string = \"hello world\"\n",
    "\n",
    "print(my_string.find(\"world\"))    # 6\n",
    "print(my_string.find(\"o\"))        # 4\n",
    "print(my_string.find(\"xyz\"))      # -1\n",
    "print(my_string.find(\"l\"))        # 2\n",
    "print(my_string.find(\"hello\"))    # 0\n"
   ]
  },
  {
   "cell_type": "code",
   "execution_count": null,
   "metadata": {
    "colab": {
     "base_uri": "https://localhost:8080/"
    },
    "id": "KQqMa46r3nr5",
    "outputId": "d8990c3a-1f5e-4c51-bf4c-7bb907dce5db"
   },
   "outputs": [
    {
     "name": "stdout",
     "output_type": "stream",
     "text": [
      "6\n",
      "4\n",
      "2\n",
      "0\n"
     ]
    }
   ],
   "source": [
    "my_string = \"hello world\"\n",
    "\n",
    "print(my_string.index(\"world\"))    # 6\n",
    "print(my_string.index(\"o\"))        # 4\n",
    "# print(my_string.index(\"xyz\"))    # ValueError: substring not found\n",
    "print(my_string.index(\"l\"))        # 2\n",
    "print(my_string.index(\"hello\"))    # 0"
   ]
  },
  {
   "cell_type": "code",
   "execution_count": null,
   "metadata": {
    "colab": {
     "base_uri": "https://localhost:8080/"
    },
    "id": "-J_luuoD4Dtu",
    "outputId": "d7f8f0de-5bd8-4714-d99b-4191ce7b2e4e"
   },
   "outputs": [
    {
     "name": "stdout",
     "output_type": "stream",
     "text": [
      "3\n",
      "2\n",
      "1\n",
      "1\n",
      "0\n"
     ]
    }
   ],
   "source": [
    "my_string = \"hello world\"\n",
    "\n",
    "print(my_string.count(\"l\"))        # 3\n",
    "print(my_string.count(\"o\"))        # 2\n",
    "print(my_string.count(\"world\"))    # 1\n",
    "print(my_string.count(\"h\"))        # 1\n",
    "print(my_string.count(\"xyz\"))      # 0\n",
    "\n"
   ]
  },
  {
   "cell_type": "code",
   "execution_count": null,
   "metadata": {
    "colab": {
     "base_uri": "https://localhost:8080/"
    },
    "id": "OU_gdLgZ4aEU",
    "outputId": "24e96a98-ce4e-42d5-ae3c-a8030bf4b6de"
   },
   "outputs": [
    {
     "name": "stdout",
     "output_type": "stream",
     "text": [
      "harry, did you put your name in the goblet of fire?\n",
      "HARRY, DID YOU PUT YOUR NAME IN THE GOBLET OF FIRE?\n",
      "HARRY, DID YOU PUT YOUR NAME IN THE GOBLET OF FIRE?\n",
      "harry, did you put your name in the goblet of fire?\n"
     ]
    }
   ],
   "source": [
    "my_string = \"Harry, did you put your name in the Goblet of Fire?\"\n",
    "\n",
    "print(my_string.lower())\n",
    "print(my_string.upper())\n",
    "print(my_string.lower().upper())\n",
    "print(my_string.upper().lower())\n"
   ]
  },
  {
   "cell_type": "markdown",
   "metadata": {
    "id": "YmXHjiZNoJ8q"
   },
   "source": [
    "You are in charge of an internet cafe at DTU Campus. Recently, since you installed brand new arcade machines, your cafe have become very popular with bachelor students who like to compete with each other for the highest scores.\n"
   ]
  },
  {
   "cell_type": "markdown",
   "metadata": {
    "id": "SSUaQ2au40Qj"
   },
   "source": [
    "## Exercise 4.10. Return substring - D=8"
   ]
  },
  {
   "cell_type": "markdown",
   "metadata": {
    "id": "gB2kw9aY5Q75"
   },
   "source": [
    "(advanced, optional)\n",
    "\n",
    "Write a function print_substring(msg, start_str, end_str) that takes three arguments:\n",
    "\n",
    "- msg: The main string where the search is performed.\n",
    "- start_str: The substring that marks the start of the target substring.\n",
    "- end_str: The substring that marks the end of the target substring.\n",
    "The function should:\n",
    "\n",
    "Print the first instance of a substring in msg that starts with start_str and ends with end_str.\n",
    "If no such substring exists, print \"No matching strings found!\"\n",
    "Hint: Use the .find() method, which also takes a second and third input as the minimum and maximum string index to search within.\n",
    "```\n",
    "print_substring(\"this is a test string\", \"is\", \"ing\")  # Output: is a test string\n",
    "print_substring(\"find the start and the end\", \"start\", \"end\")  # Output: start and the end\n",
    "print_substring(\"no match here\", \"start\", \"end\")  # Output: No matching strings found.\n",
    "\n",
    "```"
   ]
  },
  {
   "cell_type": "code",
   "execution_count": null,
   "metadata": {
    "id": "h8QMlToK69ru"
   },
   "outputs": [],
   "source": [
    "def print_substring(msg, start_str, end_str):\n",
    "    start_index = msg.find(start_str)\n",
    "    min_idx_for_end_idx = start_index + len(start_str)\n",
    "    end_index = msg.find(end_str, min_idx_for_end_idx)\n",
    "\n",
    "    if start_index != -1 and end_index != -1:\n",
    "        print(msg[start_index:end_index + len(end_str)])\n",
    "    else:\n",
    "        print(\"No matching strings found!\")"
   ]
  },
  {
   "cell_type": "markdown",
   "metadata": {
    "id": "mvrmZMZlsDLn"
   },
   "source": [
    "## Exercise 4.11 string formatting - D=5"
   ]
  },
  {
   "cell_type": "markdown",
   "metadata": {
    "id": "Y1Bp2Bgusbze"
   },
   "source": [
    "It is often very useful to print variables along with text. Python has multiple ways to print variables along with text (strings) illustrated in the code below.\n",
    "\n",
    "```fstring``` should most likely be the one solution most in focus. More progression with just one thing. Then add more."
   ]
  },
  {
   "cell_type": "code",
   "execution_count": null,
   "metadata": {
    "colab": {
     "base_uri": "https://localhost:8080/"
    },
    "id": "GxZXvzJ9sG6o",
    "outputId": "7ba7483a-1054-4d18-ca42-69c8ba04cd29"
   },
   "outputs": [
    {
     "name": "stdout",
     "output_type": "stream",
     "text": [
      "Using .format method: Integer: 42, Float: 3.14, String: Bob Loblaw\n",
      "Using f-string:       Integer: 42, Float: 3.14, String: Bob Loblaw\n",
      "Using % notation:     Integer: 42, Float: 3.14, String: Bob Loblaw\n"
     ]
    }
   ],
   "source": [
    "# Step 1: Define the Variables\n",
    "my_int = 42\n",
    "my_float = 3.14159\n",
    "my_str = \"Bob Loblaw\"\n",
    "\n",
    "# Step 2: Format Using .format\n",
    "formatted_str_format = \"Integer: {:d}, Float: {:.2f}, String: {}\".format(my_int, my_float, my_str)\n",
    "print(\"Using .format method:\", formatted_str_format)\n",
    "\n",
    "# Step 3: Format Using f-Strings\n",
    "formatted_str_fstring = f\"Integer: {my_int:d}, Float: {my_float:.2f}, String: {my_str}\"\n",
    "print(\"Using f-string:      \", formatted_str_fstring)\n",
    "\n",
    "# Step 4: Format Using % Notation\n",
    "formatted_str_percent = \"Integer: %d, Float: %.2f, String: %s\" % (my_int, my_float, my_str)\n",
    "print(\"Using % notation:    \", formatted_str_percent)\n"
   ]
  },
  {
   "cell_type": "markdown",
   "metadata": {
    "id": "Mjdcyjy0tsFs"
   },
   "source": [
    "In the code above, `:d` references that you want your variable printed as an integer. Similarly `:.2f` means you want to print a number as a float with 2 significant digits.\n",
    "\n",
    "Try running the code change which formatting specifier you use with the different variables. What happens when a float is formatted with `:d`. What happens if you try to format an integer as a float with `:f` ?\n",
    "Hint: one of them is raises a ValueError\n",
    "\n",
    "Try these formatting strings: `:f`, `:.10f`, `:.0f`, `:0.1f`, `:8.1f`, `:08.1f` with `my_float=200/3`. Also try without a formatting string.\n",
    "\n",
    "Try `:d`, `:5d`, `:05d`, with `my_int=int(my_float)`"
   ]
  },
  {
   "cell_type": "code",
   "execution_count": null,
   "metadata": {
    "colab": {
     "base_uri": "https://localhost:8080/"
    },
    "id": "Gg2boViosVy1",
    "outputId": "e59fd9e6-fb6a-4cf9-d853-9c128d2ee70d"
   },
   "outputs": [
    {
     "name": "stdout",
     "output_type": "stream",
     "text": [
      "integer as float: 66.00\n",
      "\n",
      "int with :5d  : 66\n",
      "int with :5d  :    66\n",
      "int with :05d : 00066\n",
      "\n",
      "float with no fmt: 66.66666666666667\n",
      "float with :f    : 66.666667\n",
      "float with :.10f : 66.6666666667\n",
      "float with :.0f  : 67\n",
      "float with :0.1f : 66.7\n",
      "float with :8.1f :     66.7\n",
      "float with :08.1f: 000066.7\n"
     ]
    }
   ],
   "source": [
    "my_float=200/3\n",
    "my_int=int(my_float)\n",
    "#print(f\"float as integer : {my_float:01d}\" ) #ValueError\n",
    "print(f\"integer as float: {my_int:.2f}\")\n",
    "print()\n",
    "print(f\"int with :5d  : {my_int:d}\")\n",
    "print(f\"int with :5d  : {my_int:5d}\")\n",
    "print(f\"int with :05d : {my_int:05d}\")\n",
    "print()\n",
    "print(f\"float with no fmt: {my_float}\")\n",
    "print(f\"float with :f    : {my_float:f}\")\n",
    "print(f\"float with :.10f : {my_float:.10f}\")\n",
    "print(f\"float with :.0f  : {my_float:.0f}\")\n",
    "print(f\"float with :0.1f : {my_float:0.1f}\")\n",
    "print(f\"float with :8.1f : {my_float:8.1f}\")\n",
    "print(f\"float with :08.1f: {my_float:08.1f}\")"
   ]
  },
  {
   "cell_type": "markdown",
   "metadata": {},
   "source": [
    "## QUIZ"
   ]
  },
  {
   "cell_type": "markdown",
   "metadata": {},
   "source": [
    "ChatGPT prompt\n",
    "\n",
    "Hi, Take a look at the following json data. It represents the data structure used to store python programming exercises. a) is always set as the correct answer. Things in the \"code\" field are formatted as python code, the question is formatted as markdown. options are formatted as code if the variable is set as true and otherwise markdown. Please make a list of 10 new exercises. The subject should be strings. {\n",
    "\"id\": 7,\n",
    "\"status\": \"\",\n",
    "\"question\": \"What does stored in the variable my_string when the code is run?\",\n",
    "\"code\": \"my_string = 'ababa_aba'.replace('aba', 'ccc')\",\n",
    "\"options_are_code\": true,\n",
    "\"options\": {\n",
    "\"a\": \"'cccba_ccc'\",\n",
    "\"b\": \"'ccc_ccc'\",\n",
    "\"c\": \"'abccc_ccc'\",\n",
    "\"d\": \"'ababa_ccc'\"\n",
    "},\n",
    "\"subject\": \"\",\n",
    "\"type\": \"\"\n",
    "}\n",
    "\n",
    "ChatGPT\n"
   ]
  },
  {
   "cell_type": "code",
   "execution_count": null,
   "metadata": {},
   "outputs": [],
   "source": []
  },
  {
   "cell_type": "code",
   "execution_count": 4,
   "metadata": {},
   "outputs": [
    {
     "name": "stdout",
     "output_type": "stream",
     "text": [
      "What will be the output of the following code?\n",
      "\n",
      "python\n",
      "Copy code\n",
      "'apple' + 'pie'\n",
      "a) apple pie\n",
      "b) applepie\n",
      "c) apple+pie\n",
      "d) error\n"
     ]
    }
   ],
   "source": [
    "import json\n",
    "filename = \"./04_quiz.json\"\n",
    "with open(filename, \"r\") as file:\n",
    "    quiz = json.load(file)\n",
    "print(quiz[0][\"text\"])"
   ]
  },
  {
   "cell_type": "code",
   "execution_count": 39,
   "metadata": {},
   "outputs": [
    {
     "name": "stdout",
     "output_type": "stream",
     "text": [
      "The autoreload extension is already loaded. To reload it, use:\n",
      "  %reload_ext autoreload\n",
      "What will be the output of the following code?\n",
      "{'a': 'apple pie', 'b': 'applepie', 'c': 'apple+pie', 'd': 'error'}\n",
      "'apple' + 'pie'\n"
     ]
    }
   ],
   "source": [
    "%load_ext autoreload\n",
    "%autoreload 2\n",
    "\n",
    "import utils\n",
    "raw_question = \"What will be the output of the following code?\\n\\npython\\nCopy code\\n'apple' + 'pie'\\na) apple pie\\nb) applepie\\nc) apple+pie\\nd) error\"\n",
    "\n",
    "question,options,code = utils.extract_mcq_from_raw_text(raw_question)\n",
    "print(question)\n",
    "print(options)\n",
    "print(code)"
   ]
  },
  {
   "cell_type": "code",
   "execution_count": 156,
   "metadata": {},
   "outputs": [
    {
     "name": "stdout",
     "output_type": "stream",
     "text": [
      "40 total questions\n",
      "31 questions with status=missing\n",
      "9 questions with status=success\n"
     ]
    }
   ],
   "source": [
    "quiz_file = \"./04_quiz.json\"\n",
    "save_txt = \"test.txt\"\n",
    "formatted,gts = utils.format_all_questions(quiz_file,add_status=True,save_txt=save_txt,raise_errors=True)"
   ]
  },
  {
   "cell_type": "markdown",
   "metadata": {},
   "source": [
    "1.    What is the output of the following code?<br/>```s = '   strip me   '\n",
    "print(s.strip())```<br/><br/>  *   a) 'strip me'<br/>  *   b) 'stripme'<br/>  *   c) 'strip me '<br/>  *   d) '   strip me   '<br/><br/>"
   ]
  },
  {
   "cell_type": "markdown",
   "metadata": {
    "id": "fZN4hoBRqHqj"
   },
   "source": [
    "#**QUIZ WEEK 4**"
   ]
  },
  {
   "cell_type": "markdown",
   "metadata": {
    "id": "5ySIthqn1AIb"
   },
   "source": [
    "ChatGPT prompt:\n",
    "\n",
    "Make 20 multiple choice questions about python programming on the subject: strings. The exercises should not use any imports, and the questions should be simple and short. Questions should be multiple choice with options a-d. Most of the questions should be directly related to e.g. a line of code (with a few questions simply natural language about the subject). Make the questions require basic understanding of the code, but do not make questions which could be obviously answer e.g. based simply on what name a method has.\n",
    "\n",
    "Please make the questions varied in format and difficulty. Some should be a couple of lines of code, some only 1. Make the order of options such that A is always the correct answer. If the multiple choice option is a string, format it like 'some string'.\n",
    "\n",
    "To begin with, do not generate the multiple question answers, only the questions and (optional) related code to the question. I will give you the indices of questions for which i want MCQ options afterwards."
   ]
  },
  {
   "cell_type": "code",
   "execution_count": 33,
   "metadata": {
    "id": "aTSLoH3e6gDD"
   },
   "outputs": [
    {
     "data": {
      "text/plain": [
       "\"What is the output of the following code?\\n\\npython\\nCopy code\\ns = 'python'\\nprint(s[2:5])\\na) 'tho'\\nb) 'pyth'\\nc) 'pyt'\\nd) 'ytho'\""
      ]
     },
     "execution_count": 33,
     "metadata": {},
     "output_type": "execute_result"
    }
   ],
   "source": [
    "s = \"\"\"What is the output of the following code?\n",
    "\n",
    "python\n",
    "Copy code\n",
    "s = \"python\"\n",
    "print(s[2:5])\n",
    "a) 'tho'\n",
    "b) 'pyth'\n",
    "c) 'pyt'\n",
    "d) 'ytho'\"\"\"\n",
    "s.replace(\"\\\"\",\"'\")"
   ]
  },
  {
   "cell_type": "code",
   "execution_count": 87,
   "metadata": {
    "id": "a-o5KzAkc1aR"
   },
   "outputs": [
    {
     "data": {
      "text/plain": [
       "'\\n```python\\n# Here is a string with multiple spaces\\nmy_string = \"Hello   World\"\\nprint(my_string)\\n```\\n'"
      ]
     },
     "execution_count": 87,
     "metadata": {},
     "output_type": "execute_result"
    }
   ],
   "source": [
    "\"\"\"\n",
    "```python\n",
    "# Here is a string with multiple spaces\n",
    "my_string = \"Hello   World\"\n",
    "print(my_string)\n",
    "```\n",
    "\"\"\""
   ]
  },
  {
   "cell_type": "markdown",
   "metadata": {},
   "source": [
    "```python\n",
    "# Here is a string with multiple spaces\n",
    "my_string = \"Hello   World\"\n",
    "print(my_string)\n",
    "```\n",
    "\n",
    "some text which is definently not code\n"
   ]
  },
  {
   "cell_type": "markdown",
   "metadata": {},
   "source": []
  },
  {
   "cell_type": "markdown",
   "metadata": {},
   "source": [
    "# Scripting"
   ]
  },
  {
   "cell_type": "code",
   "execution_count": 1,
   "metadata": {},
   "outputs": [],
   "source": [
    "%load_ext autoreload\n",
    "%autoreload 2\n",
    "\n",
    "import utils"
   ]
  },
  {
   "cell_type": "code",
   "execution_count": 2,
   "metadata": {},
   "outputs": [
    {
     "name": "stdout",
     "output_type": "stream",
     "text": [
      "Found weeknum=04 in filename: ./04_script.ipynb\n",
      "Found 12 exercises and reordered them.\n"
     ]
    }
   ],
   "source": [
    "utils.ascending_reorder_of_exercises(\"./04_script.ipynb\",replace_all_exercise_names=False,\n",
    "                                     exercise_prefix=lambda wn: f\"## Exercise {int(wn)}.\")"
   ]
  },
  {
   "cell_type": "code",
   "execution_count": null,
   "metadata": {},
   "outputs": [],
   "source": []
  }
 ],
 "metadata": {
  "colab": {
   "collapsed_sections": [
    "_SzI_n75cD_I",
    "SidQmIrLc-dr",
    "iL-GnhKJyBca"
   ],
   "provenance": [],
   "toc_visible": true
  },
  "kernelspec": {
   "display_name": "Python 3",
   "name": "python3"
  },
  "language_info": {
   "codemirror_mode": {
    "name": "ipython",
    "version": 3
   },
   "file_extension": ".py",
   "mimetype": "text/x-python",
   "name": "python",
   "nbconvert_exporter": "python",
   "pygments_lexer": "ipython3",
   "version": "3.12.2"
  }
 },
 "nbformat": 4,
 "nbformat_minor": 0
}
